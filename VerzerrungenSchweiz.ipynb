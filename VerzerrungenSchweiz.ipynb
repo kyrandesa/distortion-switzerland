{
 "cells": [
  {
   "cell_type": "code",
   "execution_count": 40,
   "metadata": {},
   "outputs": [
    {
     "name": "stdout",
     "output_type": "stream",
     "text": [
      "The nb_black extension is already loaded. To reload it, use:\n",
      "  %reload_ext nb_black\n"
     ]
    },
    {
     "data": {
      "application/javascript": [
       "\n",
       "            setTimeout(function() {\n",
       "                var nbb_cell_id = 40;\n",
       "                var nbb_unformatted_code = \"%load_ext nb_black\";\n",
       "                var nbb_formatted_code = \"%load_ext nb_black\";\n",
       "                var nbb_cells = Jupyter.notebook.get_cells();\n",
       "                for (var i = 0; i < nbb_cells.length; ++i) {\n",
       "                    if (nbb_cells[i].input_prompt_number == nbb_cell_id) {\n",
       "                        if (nbb_cells[i].get_text() == nbb_unformatted_code) {\n",
       "                             nbb_cells[i].set_text(nbb_formatted_code);\n",
       "                        }\n",
       "                        break;\n",
       "                    }\n",
       "                }\n",
       "            }, 500);\n",
       "            "
      ],
      "text/plain": [
       "<IPython.core.display.Javascript object>"
      ]
     },
     "metadata": {},
     "output_type": "display_data"
    }
   ],
   "source": [
    "%load_ext nb_black"
   ]
  },
  {
   "cell_type": "code",
   "execution_count": 41,
   "metadata": {},
   "outputs": [
    {
     "data": {
      "application/javascript": [
       "\n",
       "            setTimeout(function() {\n",
       "                var nbb_cell_id = 41;\n",
       "                var nbb_unformatted_code = \"import math\\nimport plotly.express as px\\nimport pandas as pd\\nimport numpy\\nimport matplotlib.pyplot as plt\\nimport seaborn as sns\\nfrom pprint import pprint\\nimport plotly.graph_objects as go\";\n",
       "                var nbb_formatted_code = \"import math\\nimport plotly.express as px\\nimport pandas as pd\\nimport numpy\\nimport matplotlib.pyplot as plt\\nimport seaborn as sns\\nfrom pprint import pprint\\nimport plotly.graph_objects as go\";\n",
       "                var nbb_cells = Jupyter.notebook.get_cells();\n",
       "                for (var i = 0; i < nbb_cells.length; ++i) {\n",
       "                    if (nbb_cells[i].input_prompt_number == nbb_cell_id) {\n",
       "                        if (nbb_cells[i].get_text() == nbb_unformatted_code) {\n",
       "                             nbb_cells[i].set_text(nbb_formatted_code);\n",
       "                        }\n",
       "                        break;\n",
       "                    }\n",
       "                }\n",
       "            }, 500);\n",
       "            "
      ],
      "text/plain": [
       "<IPython.core.display.Javascript object>"
      ]
     },
     "metadata": {},
     "output_type": "display_data"
    }
   ],
   "source": [
    "import math\n",
    "import plotly.express as px\n",
    "import pandas as pd\n",
    "import numpy\n",
    "import matplotlib.pyplot as plt\n",
    "import seaborn as sns\n",
    "from pprint import pprint\n",
    "import plotly.graph_objects as go"
   ]
  },
  {
   "cell_type": "markdown",
   "metadata": {},
   "source": [
    "# Parameter (können geändert werden)"
   ]
  },
  {
   "cell_type": "markdown",
   "metadata": {},
   "source": [
    "Messdistanz vor Ort [m]"
   ]
  },
  {
   "cell_type": "code",
   "execution_count": 42,
   "metadata": {},
   "outputs": [
    {
     "data": {
      "application/javascript": [
       "\n",
       "            setTimeout(function() {\n",
       "                var nbb_cell_id = 42;\n",
       "                var nbb_unformatted_code = \"messung = 1000\";\n",
       "                var nbb_formatted_code = \"messung = 1000\";\n",
       "                var nbb_cells = Jupyter.notebook.get_cells();\n",
       "                for (var i = 0; i < nbb_cells.length; ++i) {\n",
       "                    if (nbb_cells[i].input_prompt_number == nbb_cell_id) {\n",
       "                        if (nbb_cells[i].get_text() == nbb_unformatted_code) {\n",
       "                             nbb_cells[i].set_text(nbb_formatted_code);\n",
       "                        }\n",
       "                        break;\n",
       "                    }\n",
       "                }\n",
       "            }, 500);\n",
       "            "
      ],
      "text/plain": [
       "<IPython.core.display.Javascript object>"
      ]
     },
     "metadata": {},
     "output_type": "display_data"
    }
   ],
   "source": [
    "messung = 1000"
   ]
  },
  {
   "cell_type": "markdown",
   "metadata": {},
   "source": [
    "maximal gewünschter Fehler [mm]"
   ]
  },
  {
   "cell_type": "code",
   "execution_count": 43,
   "metadata": {},
   "outputs": [
    {
     "data": {
      "application/javascript": [
       "\n",
       "            setTimeout(function() {\n",
       "                var nbb_cell_id = 43;\n",
       "                var nbb_unformatted_code = \"max_error = 10\";\n",
       "                var nbb_formatted_code = \"max_error = 10\";\n",
       "                var nbb_cells = Jupyter.notebook.get_cells();\n",
       "                for (var i = 0; i < nbb_cells.length; ++i) {\n",
       "                    if (nbb_cells[i].input_prompt_number == nbb_cell_id) {\n",
       "                        if (nbb_cells[i].get_text() == nbb_unformatted_code) {\n",
       "                             nbb_cells[i].set_text(nbb_formatted_code);\n",
       "                        }\n",
       "                        break;\n",
       "                    }\n",
       "                }\n",
       "            }, 500);\n",
       "            "
      ],
      "text/plain": [
       "<IPython.core.display.Javascript object>"
      ]
     },
     "metadata": {},
     "output_type": "display_data"
    }
   ],
   "source": [
    "max_error = 10"
   ]
  },
  {
   "cell_type": "markdown",
   "metadata": {},
   "source": [
    "## Variablen"
   ]
  },
  {
   "cell_type": "markdown",
   "metadata": {},
   "source": [
    "Erdradius in m für Schmiegekugel in der Schweiz"
   ]
  },
  {
   "cell_type": "code",
   "execution_count": 44,
   "metadata": {},
   "outputs": [
    {
     "data": {
      "application/javascript": [
       "\n",
       "            setTimeout(function() {\n",
       "                var nbb_cell_id = 44;\n",
       "                var nbb_unformatted_code = \"R = 6378815.90365\";\n",
       "                var nbb_formatted_code = \"R = 6378815.90365\";\n",
       "                var nbb_cells = Jupyter.notebook.get_cells();\n",
       "                for (var i = 0; i < nbb_cells.length; ++i) {\n",
       "                    if (nbb_cells[i].input_prompt_number == nbb_cell_id) {\n",
       "                        if (nbb_cells[i].get_text() == nbb_unformatted_code) {\n",
       "                             nbb_cells[i].set_text(nbb_formatted_code);\n",
       "                        }\n",
       "                        break;\n",
       "                    }\n",
       "                }\n",
       "            }, 500);\n",
       "            "
      ],
      "text/plain": [
       "<IPython.core.display.Javascript object>"
      ]
     },
     "metadata": {},
     "output_type": "display_data"
    }
   ],
   "source": [
    "R = 6378815.90365"
   ]
  },
  {
   "cell_type": "markdown",
   "metadata": {},
   "source": [
    "Punkte in 1903+/LV95 mit Name, N, E, Höhe ü. Meer (LN02) [m].\n",
    "Ein neuer Punkt kann einfach eingefügt werden."
   ]
  },
  {
   "cell_type": "code",
   "execution_count": 45,
   "metadata": {},
   "outputs": [
    {
     "data": {
      "application/javascript": [
       "\n",
       "            setTimeout(function() {\n",
       "                var nbb_cell_id = 45;\n",
       "                var nbb_unformatted_code = \"points = {\\n    \\\"Cadenazzo\\\": {\\\"Name\\\": \\\"Cadenazzo\\\", \\\"N\\\": 1112721.7, \\\"E\\\": 2715783.3, \\\"Height\\\": 208.0},\\n    \\\"Bern\\\": {\\\"Name\\\": \\\"Bern\\\", \\\"N\\\": 1200000, \\\"E\\\": 2600000, \\\"Height\\\": 553.6},\\n    \\\"Muttenz\\\": {\\\"Name\\\": \\\"Muttenz\\\", \\\"N\\\": 1264806.3, \\\"E\\\": 2615766.2, \\\"Height\\\": 280.7},\\n    \\\"Chessel\\\": {\\\"Name\\\": \\\"Chessel\\\", \\\"N\\\": 1133230, \\\"E\\\": 2558128.3, \\\"Height\\\": 378.6},\\n    \\\"Melano\\\": {\\\"Name\\\": \\\"Melano\\\", \\\"N\\\": 1086300, \\\"E\\\": 2719998.3, \\\"Height\\\": 281.7},\\n    \\\"Kraftwerk Untere Enge\\\": {\\n        \\\"Name\\\": \\\"Kraftwerk Untere Enge\\\",\\n        \\\"N\\\": 1201114,\\n        \\\"E\\\": 2600259.5,\\n        \\\"Height\\\": 500.0,\\n    },\\n    \\\"Bottinghofen am Bodensee\\\": {\\n        \\\"Name\\\": \\\"Bottinghofen am Bodensee\\\",\\n        \\\"N\\\": 1278503.30,\\n        \\\"E\\\": 2733173.3,\\n        \\\"Height\\\": 400,\\n    },\\n    \\\"Z\\u00fcrich HB\\\": {\\\"Name\\\": \\\"Z\\u00fcrich HB\\\", \\\"N\\\": 1248258, \\\"E\\\": 2682858.2, \\\"Height\\\": 406.2},\\n    \\\"Boncourt\\\": {\\\"Name\\\": \\\"Boncourt\\\", \\\"N\\\": 1260400, \\\"E\\\": 2568683.3, \\\"Height\\\": 444.4},\\n    \\\"CERN\\\": {\\\"Name\\\": \\\"CERN\\\", \\\"N\\\": 1121229, \\\"E\\\": 2493320, \\\"Height\\\": 437.9},\\n    \\\"Neuchatel\\\": {\\\"Name\\\": \\\"Neuchatel\\\", \\\"N\\\": 1205267.3, \\\"E\\\": 2561781.7, \\\"Height\\\": 479.4},\\n    \\\"Interlaken Ost\\\": {\\n        \\\"Name\\\": \\\"Interlaken Ost\\\",\\n        \\\"N\\\": 1171210.3,\\n        \\\"E\\\": 2633121.1,\\n        \\\"Height\\\": 566.7,\\n    },\\n    \\\"Campognolo\\\": {\\\"Name\\\": \\\"Campognolo\\\", \\\"N\\\": 1123758.3, \\\"E\\\": 2808405, \\\"Height\\\": 570.7},\\n    \\\"Bargen, SH\\\": {\\n        \\\"Name\\\": \\\"Bargen, SH\\\",\\n        \\\"N\\\": 1294123.3,\\n        \\\"E\\\": 2687782.5,\\n        \\\"Height\\\": 606.3,\\n    },\\n    \\\"Visp\\\": {\\\"Name\\\": \\\"Visp\\\", \\\"N\\\": 1127065.8, \\\"E\\\": 2634147.9, \\\"Height\\\": 650.9},\\n    \\\"Langnau\\\": {\\\"Name\\\": \\\"Langnau\\\", \\\"N\\\": 1199011.7, \\\"E\\\": 2626370.8, \\\"Height\\\": 686.4},\\n    \\\"Vallorbe\\\": {\\\"Name\\\": \\\"Vallorbe\\\", \\\"N\\\": 1174126.7, \\\"E\\\": 2518397.5, \\\"Height\\\": 807},\\n    \\\"Martina\\\": {\\\"Name\\\": \\\"Martina\\\", \\\"N\\\": 1197083.5, \\\"E\\\": 2830592.5, \\\"Height\\\": 1034},\\n    \\\"Ste-Croix\\\": {\\\"Name\\\": \\\"Ste-Croix\\\", \\\"N\\\": 1186306.7, \\\"E\\\": 2528490, \\\"Height\\\": 1085.5},\\n    \\\"Andermatt\\\": {\\n        \\\"Name\\\": \\\"Andermatt\\\",\\n        \\\"N\\\": 1165702.5,\\n        \\\"E\\\": 2688434.1,\\n        \\\"Height\\\": 1435.7,\\n    },\\n    \\\"Monte Generoso\\\": {\\n        \\\"Name\\\": \\\"Monte Generoso\\\",\\n        \\\"N\\\": 1087610,\\n        \\\"E\\\": 2722608.3,\\n        \\\"Height\\\": 1605.5,\\n    },\\n    \\\"Saas Almagell\\\": {\\n        \\\"Name\\\": \\\"Saas Almagell\\\",\\n        \\\"N\\\": 1104891.7,\\n        \\\"E\\\": 2640122.9,\\n        \\\"Height\\\": 1671,\\n    },\\n    \\\"Rigi\\\": {\\\"Name\\\": \\\"Rigi\\\", \\\"N\\\": 1212273.44, \\\"E\\\": 2679520.05, \\\"Height\\\": 1797},\\n    \\\"Alp Gr\\u00fcm\\\": {\\\"Name\\\": \\\"Alp Gr\\u00fcm\\\", \\\"N\\\": 1139211.2, \\\"E\\\": 2799454.8, \\\"Height\\\": 2090.9},\\n    \\\"Ofenpass\\\": {\\\"Name\\\": \\\"Ofenpass\\\", \\\"N\\\": 1169362.9, \\\"E\\\": 2818462.9, \\\"Height\\\": 2150.1},\\n    \\\"Payerne\\\": {\\\"Name\\\": \\\"Payerne\\\", \\\"N\\\": 1186360.8, \\\"E\\\": 2561992.8, \\\"Height\\\": 447.3},\\n    \\\"Eigergletscher\\\": {\\n        \\\"Name\\\": \\\"Eigergletscher\\\",\\n        \\\"N\\\": 1158376.8,\\n        \\\"E\\\": 2641168.5,\\n        \\\"Height\\\": 2352,\\n    },\\n    \\\"Sphinx\\\": {\\\"Name\\\": \\\"Sphinx\\\", \\\"N\\\": 1155280, \\\"E\\\": 2641911, \\\"Height\\\": 3571},\\n    \\\"Stausee Mattmark\\\": {\\n        \\\"Name\\\": \\\"Stausee Mattmark\\\",\\n        \\\"N\\\": 1099723.3,\\n        \\\"E\\\": 2639939.2,\\n        \\\"Height\\\": 2198.4,\\n    },\\n    \\\"Wasserstollen Uetliberg\\\": {\\n        \\\"Name\\\": \\\"Wasserstollen Uetliberg\\\",\\n        \\\"N\\\": 1245500,\\n        \\\"E\\\": 2679000,\\n        \\\"Height\\\": 382,\\n    },\\n}\";\n",
       "                var nbb_formatted_code = \"points = {\\n    \\\"Cadenazzo\\\": {\\\"Name\\\": \\\"Cadenazzo\\\", \\\"N\\\": 1112721.7, \\\"E\\\": 2715783.3, \\\"Height\\\": 208.0},\\n    \\\"Bern\\\": {\\\"Name\\\": \\\"Bern\\\", \\\"N\\\": 1200000, \\\"E\\\": 2600000, \\\"Height\\\": 553.6},\\n    \\\"Muttenz\\\": {\\\"Name\\\": \\\"Muttenz\\\", \\\"N\\\": 1264806.3, \\\"E\\\": 2615766.2, \\\"Height\\\": 280.7},\\n    \\\"Chessel\\\": {\\\"Name\\\": \\\"Chessel\\\", \\\"N\\\": 1133230, \\\"E\\\": 2558128.3, \\\"Height\\\": 378.6},\\n    \\\"Melano\\\": {\\\"Name\\\": \\\"Melano\\\", \\\"N\\\": 1086300, \\\"E\\\": 2719998.3, \\\"Height\\\": 281.7},\\n    \\\"Kraftwerk Untere Enge\\\": {\\n        \\\"Name\\\": \\\"Kraftwerk Untere Enge\\\",\\n        \\\"N\\\": 1201114,\\n        \\\"E\\\": 2600259.5,\\n        \\\"Height\\\": 500.0,\\n    },\\n    \\\"Bottinghofen am Bodensee\\\": {\\n        \\\"Name\\\": \\\"Bottinghofen am Bodensee\\\",\\n        \\\"N\\\": 1278503.30,\\n        \\\"E\\\": 2733173.3,\\n        \\\"Height\\\": 400,\\n    },\\n    \\\"Z\\u00fcrich HB\\\": {\\\"Name\\\": \\\"Z\\u00fcrich HB\\\", \\\"N\\\": 1248258, \\\"E\\\": 2682858.2, \\\"Height\\\": 406.2},\\n    \\\"Boncourt\\\": {\\\"Name\\\": \\\"Boncourt\\\", \\\"N\\\": 1260400, \\\"E\\\": 2568683.3, \\\"Height\\\": 444.4},\\n    \\\"CERN\\\": {\\\"Name\\\": \\\"CERN\\\", \\\"N\\\": 1121229, \\\"E\\\": 2493320, \\\"Height\\\": 437.9},\\n    \\\"Neuchatel\\\": {\\\"Name\\\": \\\"Neuchatel\\\", \\\"N\\\": 1205267.3, \\\"E\\\": 2561781.7, \\\"Height\\\": 479.4},\\n    \\\"Interlaken Ost\\\": {\\n        \\\"Name\\\": \\\"Interlaken Ost\\\",\\n        \\\"N\\\": 1171210.3,\\n        \\\"E\\\": 2633121.1,\\n        \\\"Height\\\": 566.7,\\n    },\\n    \\\"Campognolo\\\": {\\\"Name\\\": \\\"Campognolo\\\", \\\"N\\\": 1123758.3, \\\"E\\\": 2808405, \\\"Height\\\": 570.7},\\n    \\\"Bargen, SH\\\": {\\n        \\\"Name\\\": \\\"Bargen, SH\\\",\\n        \\\"N\\\": 1294123.3,\\n        \\\"E\\\": 2687782.5,\\n        \\\"Height\\\": 606.3,\\n    },\\n    \\\"Visp\\\": {\\\"Name\\\": \\\"Visp\\\", \\\"N\\\": 1127065.8, \\\"E\\\": 2634147.9, \\\"Height\\\": 650.9},\\n    \\\"Langnau\\\": {\\\"Name\\\": \\\"Langnau\\\", \\\"N\\\": 1199011.7, \\\"E\\\": 2626370.8, \\\"Height\\\": 686.4},\\n    \\\"Vallorbe\\\": {\\\"Name\\\": \\\"Vallorbe\\\", \\\"N\\\": 1174126.7, \\\"E\\\": 2518397.5, \\\"Height\\\": 807},\\n    \\\"Martina\\\": {\\\"Name\\\": \\\"Martina\\\", \\\"N\\\": 1197083.5, \\\"E\\\": 2830592.5, \\\"Height\\\": 1034},\\n    \\\"Ste-Croix\\\": {\\\"Name\\\": \\\"Ste-Croix\\\", \\\"N\\\": 1186306.7, \\\"E\\\": 2528490, \\\"Height\\\": 1085.5},\\n    \\\"Andermatt\\\": {\\n        \\\"Name\\\": \\\"Andermatt\\\",\\n        \\\"N\\\": 1165702.5,\\n        \\\"E\\\": 2688434.1,\\n        \\\"Height\\\": 1435.7,\\n    },\\n    \\\"Monte Generoso\\\": {\\n        \\\"Name\\\": \\\"Monte Generoso\\\",\\n        \\\"N\\\": 1087610,\\n        \\\"E\\\": 2722608.3,\\n        \\\"Height\\\": 1605.5,\\n    },\\n    \\\"Saas Almagell\\\": {\\n        \\\"Name\\\": \\\"Saas Almagell\\\",\\n        \\\"N\\\": 1104891.7,\\n        \\\"E\\\": 2640122.9,\\n        \\\"Height\\\": 1671,\\n    },\\n    \\\"Rigi\\\": {\\\"Name\\\": \\\"Rigi\\\", \\\"N\\\": 1212273.44, \\\"E\\\": 2679520.05, \\\"Height\\\": 1797},\\n    \\\"Alp Gr\\u00fcm\\\": {\\\"Name\\\": \\\"Alp Gr\\u00fcm\\\", \\\"N\\\": 1139211.2, \\\"E\\\": 2799454.8, \\\"Height\\\": 2090.9},\\n    \\\"Ofenpass\\\": {\\\"Name\\\": \\\"Ofenpass\\\", \\\"N\\\": 1169362.9, \\\"E\\\": 2818462.9, \\\"Height\\\": 2150.1},\\n    \\\"Payerne\\\": {\\\"Name\\\": \\\"Payerne\\\", \\\"N\\\": 1186360.8, \\\"E\\\": 2561992.8, \\\"Height\\\": 447.3},\\n    \\\"Eigergletscher\\\": {\\n        \\\"Name\\\": \\\"Eigergletscher\\\",\\n        \\\"N\\\": 1158376.8,\\n        \\\"E\\\": 2641168.5,\\n        \\\"Height\\\": 2352,\\n    },\\n    \\\"Sphinx\\\": {\\\"Name\\\": \\\"Sphinx\\\", \\\"N\\\": 1155280, \\\"E\\\": 2641911, \\\"Height\\\": 3571},\\n    \\\"Stausee Mattmark\\\": {\\n        \\\"Name\\\": \\\"Stausee Mattmark\\\",\\n        \\\"N\\\": 1099723.3,\\n        \\\"E\\\": 2639939.2,\\n        \\\"Height\\\": 2198.4,\\n    },\\n    \\\"Wasserstollen Uetliberg\\\": {\\n        \\\"Name\\\": \\\"Wasserstollen Uetliberg\\\",\\n        \\\"N\\\": 1245500,\\n        \\\"E\\\": 2679000,\\n        \\\"Height\\\": 382,\\n    },\\n}\";\n",
       "                var nbb_cells = Jupyter.notebook.get_cells();\n",
       "                for (var i = 0; i < nbb_cells.length; ++i) {\n",
       "                    if (nbb_cells[i].input_prompt_number == nbb_cell_id) {\n",
       "                        if (nbb_cells[i].get_text() == nbb_unformatted_code) {\n",
       "                             nbb_cells[i].set_text(nbb_formatted_code);\n",
       "                        }\n",
       "                        break;\n",
       "                    }\n",
       "                }\n",
       "            }, 500);\n",
       "            "
      ],
      "text/plain": [
       "<IPython.core.display.Javascript object>"
      ]
     },
     "metadata": {},
     "output_type": "display_data"
    }
   ],
   "source": [
    "points = {\n",
    "    \"Cadenazzo\": {\"Name\": \"Cadenazzo\", \"N\": 1112721.7, \"E\": 2715783.3, \"Height\": 208.0},\n",
    "    \"Bern\": {\"Name\": \"Bern\", \"N\": 1200000, \"E\": 2600000, \"Height\": 553.6},\n",
    "    \"Muttenz\": {\"Name\": \"Muttenz\", \"N\": 1264806.3, \"E\": 2615766.2, \"Height\": 280.7},\n",
    "    \"Chessel\": {\"Name\": \"Chessel\", \"N\": 1133230, \"E\": 2558128.3, \"Height\": 378.6},\n",
    "    \"Melano\": {\"Name\": \"Melano\", \"N\": 1086300, \"E\": 2719998.3, \"Height\": 281.7},\n",
    "    \"Kraftwerk Untere Enge\": {\n",
    "        \"Name\": \"Kraftwerk Untere Enge\",\n",
    "        \"N\": 1201114,\n",
    "        \"E\": 2600259.5,\n",
    "        \"Height\": 500.0,\n",
    "    },\n",
    "    \"Bottinghofen am Bodensee\": {\n",
    "        \"Name\": \"Bottinghofen am Bodensee\",\n",
    "        \"N\": 1278503.30,\n",
    "        \"E\": 2733173.3,\n",
    "        \"Height\": 400,\n",
    "    },\n",
    "    \"Zürich HB\": {\"Name\": \"Zürich HB\", \"N\": 1248258, \"E\": 2682858.2, \"Height\": 406.2},\n",
    "    \"Boncourt\": {\"Name\": \"Boncourt\", \"N\": 1260400, \"E\": 2568683.3, \"Height\": 444.4},\n",
    "    \"CERN\": {\"Name\": \"CERN\", \"N\": 1121229, \"E\": 2493320, \"Height\": 437.9},\n",
    "    \"Neuchatel\": {\"Name\": \"Neuchatel\", \"N\": 1205267.3, \"E\": 2561781.7, \"Height\": 479.4},\n",
    "    \"Interlaken Ost\": {\n",
    "        \"Name\": \"Interlaken Ost\",\n",
    "        \"N\": 1171210.3,\n",
    "        \"E\": 2633121.1,\n",
    "        \"Height\": 566.7,\n",
    "    },\n",
    "    \"Campognolo\": {\"Name\": \"Campognolo\", \"N\": 1123758.3, \"E\": 2808405, \"Height\": 570.7},\n",
    "    \"Bargen, SH\": {\n",
    "        \"Name\": \"Bargen, SH\",\n",
    "        \"N\": 1294123.3,\n",
    "        \"E\": 2687782.5,\n",
    "        \"Height\": 606.3,\n",
    "    },\n",
    "    \"Visp\": {\"Name\": \"Visp\", \"N\": 1127065.8, \"E\": 2634147.9, \"Height\": 650.9},\n",
    "    \"Langnau\": {\"Name\": \"Langnau\", \"N\": 1199011.7, \"E\": 2626370.8, \"Height\": 686.4},\n",
    "    \"Vallorbe\": {\"Name\": \"Vallorbe\", \"N\": 1174126.7, \"E\": 2518397.5, \"Height\": 807},\n",
    "    \"Martina\": {\"Name\": \"Martina\", \"N\": 1197083.5, \"E\": 2830592.5, \"Height\": 1034},\n",
    "    \"Ste-Croix\": {\"Name\": \"Ste-Croix\", \"N\": 1186306.7, \"E\": 2528490, \"Height\": 1085.5},\n",
    "    \"Andermatt\": {\n",
    "        \"Name\": \"Andermatt\",\n",
    "        \"N\": 1165702.5,\n",
    "        \"E\": 2688434.1,\n",
    "        \"Height\": 1435.7,\n",
    "    },\n",
    "    \"Monte Generoso\": {\n",
    "        \"Name\": \"Monte Generoso\",\n",
    "        \"N\": 1087610,\n",
    "        \"E\": 2722608.3,\n",
    "        \"Height\": 1605.5,\n",
    "    },\n",
    "    \"Saas Almagell\": {\n",
    "        \"Name\": \"Saas Almagell\",\n",
    "        \"N\": 1104891.7,\n",
    "        \"E\": 2640122.9,\n",
    "        \"Height\": 1671,\n",
    "    },\n",
    "    \"Rigi\": {\"Name\": \"Rigi\", \"N\": 1212273.44, \"E\": 2679520.05, \"Height\": 1797},\n",
    "    \"Alp Grüm\": {\"Name\": \"Alp Grüm\", \"N\": 1139211.2, \"E\": 2799454.8, \"Height\": 2090.9},\n",
    "    \"Ofenpass\": {\"Name\": \"Ofenpass\", \"N\": 1169362.9, \"E\": 2818462.9, \"Height\": 2150.1},\n",
    "    \"Payerne\": {\"Name\": \"Payerne\", \"N\": 1186360.8, \"E\": 2561992.8, \"Height\": 447.3},\n",
    "    \"Eigergletscher\": {\n",
    "        \"Name\": \"Eigergletscher\",\n",
    "        \"N\": 1158376.8,\n",
    "        \"E\": 2641168.5,\n",
    "        \"Height\": 2352,\n",
    "    },\n",
    "    \"Sphinx\": {\"Name\": \"Sphinx\", \"N\": 1155280, \"E\": 2641911, \"Height\": 3571},\n",
    "    \"Stausee Mattmark\": {\n",
    "        \"Name\": \"Stausee Mattmark\",\n",
    "        \"N\": 1099723.3,\n",
    "        \"E\": 2639939.2,\n",
    "        \"Height\": 2198.4,\n",
    "    },\n",
    "    \"Wasserstollen Uetliberg\": {\n",
    "        \"Name\": \"Wasserstollen Uetliberg\",\n",
    "        \"N\": 1245500,\n",
    "        \"E\": 2679000,\n",
    "        \"Height\": 382,\n",
    "    },\n",
    "}"
   ]
  },
  {
   "cell_type": "markdown",
   "metadata": {},
   "source": [
    "## Funktionen"
   ]
  },
  {
   "cell_type": "markdown",
   "metadata": {},
   "source": [
    "Näherungsformeln für die Längenverzerrung infolge Projektion und Höhe."
   ]
  },
  {
   "cell_type": "markdown",
   "metadata": {},
   "source": [
    "Umrechnung von N Werten in sogenannte Zivilkoordinaten"
   ]
  },
  {
   "cell_type": "code",
   "execution_count": 46,
   "metadata": {},
   "outputs": [
    {
     "data": {
      "application/javascript": [
       "\n",
       "            setTimeout(function() {\n",
       "                var nbb_cell_id = 46;\n",
       "                var nbb_unformatted_code = \"def distance_to_Bern(N):\\n    return N - 1200000\";\n",
       "                var nbb_formatted_code = \"def distance_to_Bern(N):\\n    return N - 1200000\";\n",
       "                var nbb_cells = Jupyter.notebook.get_cells();\n",
       "                for (var i = 0; i < nbb_cells.length; ++i) {\n",
       "                    if (nbb_cells[i].input_prompt_number == nbb_cell_id) {\n",
       "                        if (nbb_cells[i].get_text() == nbb_unformatted_code) {\n",
       "                             nbb_cells[i].set_text(nbb_formatted_code);\n",
       "                        }\n",
       "                        break;\n",
       "                    }\n",
       "                }\n",
       "            }, 500);\n",
       "            "
      ],
      "text/plain": [
       "<IPython.core.display.Javascript object>"
      ]
     },
     "metadata": {},
     "output_type": "display_data"
    }
   ],
   "source": [
    "def distance_to_Bern(N):\n",
    "    return N - 1200000"
   ]
  },
  {
   "cell_type": "markdown",
   "metadata": {},
   "source": [
    "Horizontaldistanz im Projektionssystem (Karte): Je weiter weg von Bern (Richtung Nord/Süd), desto länger werden Strecken."
   ]
  },
  {
   "cell_type": "code",
   "execution_count": 47,
   "metadata": {},
   "outputs": [
    {
     "data": {
      "application/javascript": [
       "\n",
       "            setTimeout(function() {\n",
       "                var nbb_cell_id = 47;\n",
       "                var nbb_unformatted_code = \"def DProj(d0, N):\\n    return d0 * (1 + distance_to_Bern(N) ** 2 / (2 * R ** 2))\";\n",
       "                var nbb_formatted_code = \"def DProj(d0, N):\\n    return d0 * (1 + distance_to_Bern(N) ** 2 / (2 * R ** 2))\";\n",
       "                var nbb_cells = Jupyter.notebook.get_cells();\n",
       "                for (var i = 0; i < nbb_cells.length; ++i) {\n",
       "                    if (nbb_cells[i].input_prompt_number == nbb_cell_id) {\n",
       "                        if (nbb_cells[i].get_text() == nbb_unformatted_code) {\n",
       "                             nbb_cells[i].set_text(nbb_formatted_code);\n",
       "                        }\n",
       "                        break;\n",
       "                    }\n",
       "                }\n",
       "            }, 500);\n",
       "            "
      ],
      "text/plain": [
       "<IPython.core.display.Javascript object>"
      ]
     },
     "metadata": {},
     "output_type": "display_data"
    }
   ],
   "source": [
    "def DProj(d0, N):\n",
    "    return d0 * (1 + distance_to_Bern(N) ** 2 / (2 * R ** 2))"
   ]
  },
  {
   "cell_type": "markdown",
   "metadata": {},
   "source": [
    "Eine Strecke dproj in der Realität gemessen entspricht am Bezugshorizont (Bern) einer kürzeren Distanz d0:"
   ]
  },
  {
   "cell_type": "code",
   "execution_count": 48,
   "metadata": {},
   "outputs": [
    {
     "data": {
      "application/javascript": [
       "\n",
       "            setTimeout(function() {\n",
       "                var nbb_cell_id = 48;\n",
       "                var nbb_unformatted_code = \"def d0(dproj, N):\\n    return dproj * (1 - distance_to_Bern(N) ** 2 / (2 * R ** 2))\";\n",
       "                var nbb_formatted_code = \"def d0(dproj, N):\\n    return dproj * (1 - distance_to_Bern(N) ** 2 / (2 * R ** 2))\";\n",
       "                var nbb_cells = Jupyter.notebook.get_cells();\n",
       "                for (var i = 0; i < nbb_cells.length; ++i) {\n",
       "                    if (nbb_cells[i].input_prompt_number == nbb_cell_id) {\n",
       "                        if (nbb_cells[i].get_text() == nbb_unformatted_code) {\n",
       "                             nbb_cells[i].set_text(nbb_formatted_code);\n",
       "                        }\n",
       "                        break;\n",
       "                    }\n",
       "                }\n",
       "            }, 500);\n",
       "            "
      ],
      "text/plain": [
       "<IPython.core.display.Javascript object>"
      ]
     },
     "metadata": {},
     "output_type": "display_data"
    }
   ],
   "source": [
    "def d0(dproj, N):\n",
    "    return dproj * (1 - distance_to_Bern(N) ** 2 / (2 * R ** 2))"
   ]
  },
  {
   "cell_type": "markdown",
   "metadata": {},
   "source": [
    "Horizontaldistanz auf korrekter Höhe (hier will ich messen)"
   ]
  },
  {
   "cell_type": "code",
   "execution_count": 49,
   "metadata": {},
   "outputs": [
    {
     "data": {
      "application/javascript": [
       "\n",
       "            setTimeout(function() {\n",
       "                var nbb_cell_id = 49;\n",
       "                var nbb_unformatted_code = \"def d_h_uber_Meer(h0, h):\\n    return h0 * (1 + h / (R + h))\";\n",
       "                var nbb_formatted_code = \"def d_h_uber_Meer(h0, h):\\n    return h0 * (1 + h / (R + h))\";\n",
       "                var nbb_cells = Jupyter.notebook.get_cells();\n",
       "                for (var i = 0; i < nbb_cells.length; ++i) {\n",
       "                    if (nbb_cells[i].input_prompt_number == nbb_cell_id) {\n",
       "                        if (nbb_cells[i].get_text() == nbb_unformatted_code) {\n",
       "                             nbb_cells[i].set_text(nbb_formatted_code);\n",
       "                        }\n",
       "                        break;\n",
       "                    }\n",
       "                }\n",
       "            }, 500);\n",
       "            "
      ],
      "text/plain": [
       "<IPython.core.display.Javascript object>"
      ]
     },
     "metadata": {},
     "output_type": "display_data"
    }
   ],
   "source": [
    "def d_h_uber_Meer(h0, h):\n",
    "    return h0 * (1 + h / (R + h))"
   ]
  },
  {
   "cell_type": "markdown",
   "metadata": {},
   "source": [
    "Horizontaldistanz auf dem Bezugshorizont (Meereshöhe; Karte verwendet diese Höhe). Für Übertrag der Distanz in die Karte brauche ich d_h0"
   ]
  },
  {
   "cell_type": "code",
   "execution_count": 50,
   "metadata": {},
   "outputs": [
    {
     "data": {
      "application/javascript": [
       "\n",
       "            setTimeout(function() {\n",
       "                var nbb_cell_id = 50;\n",
       "                var nbb_unformatted_code = \"def d_h0(d_h_uber_Meer, h):\\n    return d_h_uber_Meer * (1 - h / (R + h))\";\n",
       "                var nbb_formatted_code = \"def d_h0(d_h_uber_Meer, h):\\n    return d_h_uber_Meer * (1 - h / (R + h))\";\n",
       "                var nbb_cells = Jupyter.notebook.get_cells();\n",
       "                for (var i = 0; i < nbb_cells.length; ++i) {\n",
       "                    if (nbb_cells[i].input_prompt_number == nbb_cell_id) {\n",
       "                        if (nbb_cells[i].get_text() == nbb_unformatted_code) {\n",
       "                             nbb_cells[i].set_text(nbb_formatted_code);\n",
       "                        }\n",
       "                        break;\n",
       "                    }\n",
       "                }\n",
       "            }, 500);\n",
       "            "
      ],
      "text/plain": [
       "<IPython.core.display.Javascript object>"
      ]
     },
     "metadata": {},
     "output_type": "display_data"
    }
   ],
   "source": [
    "def d_h0(d_h_uber_Meer, h):\n",
    "    return d_h_uber_Meer * (1 - h / (R + h))"
   ]
  },
  {
   "cell_type": "code",
   "execution_count": 51,
   "metadata": {},
   "outputs": [
    {
     "data": {
      "application/javascript": [
       "\n",
       "            setTimeout(function() {\n",
       "                var nbb_cell_id = 51;\n",
       "                var nbb_unformatted_code = \"def massstab(N):\\n    return distance_to_Bern(N) ** 2 / (2 * R ** 2) + 1\";\n",
       "                var nbb_formatted_code = \"def massstab(N):\\n    return distance_to_Bern(N) ** 2 / (2 * R ** 2) + 1\";\n",
       "                var nbb_cells = Jupyter.notebook.get_cells();\n",
       "                for (var i = 0; i < nbb_cells.length; ++i) {\n",
       "                    if (nbb_cells[i].input_prompt_number == nbb_cell_id) {\n",
       "                        if (nbb_cells[i].get_text() == nbb_unformatted_code) {\n",
       "                             nbb_cells[i].set_text(nbb_formatted_code);\n",
       "                        }\n",
       "                        break;\n",
       "                    }\n",
       "                }\n",
       "            }, 500);\n",
       "            "
      ],
      "text/plain": [
       "<IPython.core.display.Javascript object>"
      ]
     },
     "metadata": {},
     "output_type": "display_data"
    }
   ],
   "source": [
    "def massstab(N):\n",
    "    return distance_to_Bern(N) ** 2 / (2 * R ** 2) + 1"
   ]
  },
  {
   "cell_type": "code",
   "execution_count": 52,
   "metadata": {},
   "outputs": [
    {
     "data": {
      "application/javascript": [
       "\n",
       "            setTimeout(function() {\n",
       "                var nbb_cell_id = 52;\n",
       "                var nbb_unformatted_code = \"def height_error_factor(height):\\n    \\\"\\\"\\\"height: Mittlere H\\u00f6he der Strecke \\u00fcber dem Bezugshorizont.\\\"\\\"\\\"\\n    return 1 + height / (R + height)\";\n",
       "                var nbb_formatted_code = \"def height_error_factor(height):\\n    \\\"\\\"\\\"height: Mittlere H\\u00f6he der Strecke \\u00fcber dem Bezugshorizont.\\\"\\\"\\\"\\n    return 1 + height / (R + height)\";\n",
       "                var nbb_cells = Jupyter.notebook.get_cells();\n",
       "                for (var i = 0; i < nbb_cells.length; ++i) {\n",
       "                    if (nbb_cells[i].input_prompt_number == nbb_cell_id) {\n",
       "                        if (nbb_cells[i].get_text() == nbb_unformatted_code) {\n",
       "                             nbb_cells[i].set_text(nbb_formatted_code);\n",
       "                        }\n",
       "                        break;\n",
       "                    }\n",
       "                }\n",
       "            }, 500);\n",
       "            "
      ],
      "text/plain": [
       "<IPython.core.display.Javascript object>"
      ]
     },
     "metadata": {},
     "output_type": "display_data"
    }
   ],
   "source": [
    "def height_error_factor(height):\n",
    "    \"\"\"height: Mittlere Höhe der Strecke über dem Bezugshorizont.\"\"\"\n",
    "    return 1 + height / (R + height)"
   ]
  },
  {
   "cell_type": "code",
   "execution_count": 53,
   "metadata": {},
   "outputs": [
    {
     "data": {
      "application/javascript": [
       "\n",
       "            setTimeout(function() {\n",
       "                var nbb_cell_id = 53;\n",
       "                var nbb_unformatted_code = \"def gesamtfehler_von_messung_zu_karte_mm(messung, name, northing, heighting):\\n    \\\"\\\"\\\"Eine Messung messung in der Realit\\u00e4t wird am Punkt point in einer Karte falsch abgebildet um wieviele mm.\\\"\\\"\\\"\\n    fehler_mm = (\\n        DProj(messung, northing) - messung + d_h0(messung, heighting) - messung\\n    ) * 1000\\n    # print(f\\\"{name:>24}: {fehler_mm:> 9.3f} mm\\\")\\n    return fehler_mm\";\n",
       "                var nbb_formatted_code = \"def gesamtfehler_von_messung_zu_karte_mm(messung, name, northing, heighting):\\n    \\\"\\\"\\\"Eine Messung messung in der Realit\\u00e4t wird am Punkt point in einer Karte falsch abgebildet um wieviele mm.\\\"\\\"\\\"\\n    fehler_mm = (\\n        DProj(messung, northing) - messung + d_h0(messung, heighting) - messung\\n    ) * 1000\\n    # print(f\\\"{name:>24}: {fehler_mm:> 9.3f} mm\\\")\\n    return fehler_mm\";\n",
       "                var nbb_cells = Jupyter.notebook.get_cells();\n",
       "                for (var i = 0; i < nbb_cells.length; ++i) {\n",
       "                    if (nbb_cells[i].input_prompt_number == nbb_cell_id) {\n",
       "                        if (nbb_cells[i].get_text() == nbb_unformatted_code) {\n",
       "                             nbb_cells[i].set_text(nbb_formatted_code);\n",
       "                        }\n",
       "                        break;\n",
       "                    }\n",
       "                }\n",
       "            }, 500);\n",
       "            "
      ],
      "text/plain": [
       "<IPython.core.display.Javascript object>"
      ]
     },
     "metadata": {},
     "output_type": "display_data"
    }
   ],
   "source": [
    "def gesamtfehler_von_messung_zu_karte_mm(messung, name, northing, heighting):\n",
    "    \"\"\"Eine Messung messung in der Realität wird am Punkt point in einer Karte falsch abgebildet um wieviele mm.\"\"\"\n",
    "    fehler_mm = (\n",
    "        DProj(messung, northing) - messung + d_h0(messung, heighting) - messung\n",
    "    ) * 1000\n",
    "    # print(f\"{name:>24}: {fehler_mm:> 9.3f} mm\")\n",
    "    return fehler_mm"
   ]
  },
  {
   "cell_type": "code",
   "execution_count": 54,
   "metadata": {},
   "outputs": [
    {
     "data": {
      "application/javascript": [
       "\n",
       "            setTimeout(function() {\n",
       "                var nbb_cell_id = 54;\n",
       "                var nbb_unformatted_code = \"def max_distance_allowed_in_m(name, max_error, northing, heighting):\\n    \\\"\\\"\\\"Wenn ich maximal den max_error als Fehler tolerieren will, wie lang kann mein Bauwerk auf der gegebenen H\\u00f6he sein?\\\"\\\"\\\"\\n    distance_m = abs(\\n        max_error\\n        / 1000\\n        / (distance_to_Bern(northing) ** 2 / (2 * R ** 2) - heighting / (R + heighting))\\n    )\\n    # print(f\\\"{name:>24}: {distance_m:>9.3f} m\\\")\\n    return distance_m\";\n",
       "                var nbb_formatted_code = \"def max_distance_allowed_in_m(name, max_error, northing, heighting):\\n    \\\"\\\"\\\"Wenn ich maximal den max_error als Fehler tolerieren will, wie lang kann mein Bauwerk auf der gegebenen H\\u00f6he sein?\\\"\\\"\\\"\\n    distance_m = abs(\\n        max_error\\n        / 1000\\n        / (distance_to_Bern(northing) ** 2 / (2 * R ** 2) - heighting / (R + heighting))\\n    )\\n    # print(f\\\"{name:>24}: {distance_m:>9.3f} m\\\")\\n    return distance_m\";\n",
       "                var nbb_cells = Jupyter.notebook.get_cells();\n",
       "                for (var i = 0; i < nbb_cells.length; ++i) {\n",
       "                    if (nbb_cells[i].input_prompt_number == nbb_cell_id) {\n",
       "                        if (nbb_cells[i].get_text() == nbb_unformatted_code) {\n",
       "                             nbb_cells[i].set_text(nbb_formatted_code);\n",
       "                        }\n",
       "                        break;\n",
       "                    }\n",
       "                }\n",
       "            }, 500);\n",
       "            "
      ],
      "text/plain": [
       "<IPython.core.display.Javascript object>"
      ]
     },
     "metadata": {},
     "output_type": "display_data"
    }
   ],
   "source": [
    "def max_distance_allowed_in_m(name, max_error, northing, heighting):\n",
    "    \"\"\"Wenn ich maximal den max_error als Fehler tolerieren will, wie lang kann mein Bauwerk auf der gegebenen Höhe sein?\"\"\"\n",
    "    distance_m = abs(\n",
    "        max_error\n",
    "        / 1000\n",
    "        / (distance_to_Bern(northing) ** 2 / (2 * R ** 2) - heighting / (R + heighting))\n",
    "    )\n",
    "    # print(f\"{name:>24}: {distance_m:>9.3f} m\")\n",
    "    return distance_m"
   ]
  },
  {
   "cell_type": "markdown",
   "metadata": {},
   "source": [
    "Für BIM könnte eigentlich die Berücksichtigung der Längenverzerrung reichen: Bei der Übernahme von Grundlagedaten sollten sowohl Längen- als auch Höhenverzerrung berücksichtigt werden (v.A. bei Übernahme aus Papierdaten; bei elektronischen Daten in einem GIS sollten die Metadaten die Erfassung beschreiben). Für das Erstellen eines Modells und den Übertrag in die Realität würde man idealerweise die Geländehöhe definieren und dort im Massstab 1:1 arbeiten. "
   ]
  },
  {
   "cell_type": "code",
   "execution_count": 55,
   "metadata": {},
   "outputs": [
    {
     "data": {
      "application/javascript": [
       "\n",
       "            setTimeout(function() {\n",
       "                var nbb_cell_id = 55;\n",
       "                var nbb_unformatted_code = \"def length_error_reality_to_plan_mm(messung, northing):\\n    return (DProj(messung, northing) - messung) * 1000\";\n",
       "                var nbb_formatted_code = \"def length_error_reality_to_plan_mm(messung, northing):\\n    return (DProj(messung, northing) - messung) * 1000\";\n",
       "                var nbb_cells = Jupyter.notebook.get_cells();\n",
       "                for (var i = 0; i < nbb_cells.length; ++i) {\n",
       "                    if (nbb_cells[i].input_prompt_number == nbb_cell_id) {\n",
       "                        if (nbb_cells[i].get_text() == nbb_unformatted_code) {\n",
       "                             nbb_cells[i].set_text(nbb_formatted_code);\n",
       "                        }\n",
       "                        break;\n",
       "                    }\n",
       "                }\n",
       "            }, 500);\n",
       "            "
      ],
      "text/plain": [
       "<IPython.core.display.Javascript object>"
      ]
     },
     "metadata": {},
     "output_type": "display_data"
    }
   ],
   "source": [
    "def length_error_reality_to_plan_mm(messung, northing):\n",
    "    return (DProj(messung, northing) - messung) * 1000"
   ]
  },
  {
   "cell_type": "markdown",
   "metadata": {},
   "source": [
    "Höhenfehler wegen Erdkrümmung [mm]"
   ]
  },
  {
   "cell_type": "code",
   "execution_count": 68,
   "metadata": {},
   "outputs": [
    {
     "data": {
      "application/javascript": [
       "\n",
       "            setTimeout(function() {\n",
       "                var nbb_cell_id = 68;\n",
       "                var nbb_unformatted_code = \"h0 = (math.sqrt((R ** 2 + messung ** 2)) - R) * 1000\";\n",
       "                var nbb_formatted_code = \"h0 = (math.sqrt((R ** 2 + messung ** 2)) - R) * 1000\";\n",
       "                var nbb_cells = Jupyter.notebook.get_cells();\n",
       "                for (var i = 0; i < nbb_cells.length; ++i) {\n",
       "                    if (nbb_cells[i].input_prompt_number == nbb_cell_id) {\n",
       "                        if (nbb_cells[i].get_text() == nbb_unformatted_code) {\n",
       "                             nbb_cells[i].set_text(nbb_formatted_code);\n",
       "                        }\n",
       "                        break;\n",
       "                    }\n",
       "                }\n",
       "            }, 500);\n",
       "            "
      ],
      "text/plain": [
       "<IPython.core.display.Javascript object>"
      ]
     },
     "metadata": {},
     "output_type": "display_data"
    }
   ],
   "source": [
    "h0 = (math.sqrt((R ** 2 + messung ** 2)) - R) * 1000"
   ]
  },
  {
   "cell_type": "markdown",
   "metadata": {},
   "source": [
    "## Berechnungen"
   ]
  },
  {
   "cell_type": "markdown",
   "metadata": {},
   "source": [
    "Gesamtfehler für Messdistanz *messung* sowie Faktoren für jeden Punkt aus der Liste der Schweizer Orte."
   ]
  },
  {
   "cell_type": "code",
   "execution_count": 56,
   "metadata": {},
   "outputs": [
    {
     "data": {
      "application/javascript": [
       "\n",
       "            setTimeout(function() {\n",
       "                var nbb_cell_id = 56;\n",
       "                var nbb_unformatted_code = \"# print(f\\\"F\\u00fcr eine gemessene Distanz von {messung} m ergibt sich ein Gesamtfehler von\\\")\\nfor name, values in points.items():\\n    values.update({\\\"Massstabfaktor\\\": massstab(values[\\\"N\\\"])})\\n    values.update({\\\"H\\u00f6henverzerrungsfaktor\\\": height_error_factor(values[\\\"Height\\\"])})\\n    values.update(\\n        {\\\"L\\u00e4ngenfehler [mm]\\\": length_error_reality_to_plan_mm(messung, values[\\\"N\\\"])}\\n    )\\n    values.update(\\n        {\\n            \\\"Gesamtfehler [mm]\\\": gesamtfehler_von_messung_zu_karte_mm(\\n                messung, name, values[\\\"N\\\"], values[\\\"Height\\\"]\\n            )\\n        }\\n    )\";\n",
       "                var nbb_formatted_code = \"# print(f\\\"F\\u00fcr eine gemessene Distanz von {messung} m ergibt sich ein Gesamtfehler von\\\")\\nfor name, values in points.items():\\n    values.update({\\\"Massstabfaktor\\\": massstab(values[\\\"N\\\"])})\\n    values.update({\\\"H\\u00f6henverzerrungsfaktor\\\": height_error_factor(values[\\\"Height\\\"])})\\n    values.update(\\n        {\\\"L\\u00e4ngenfehler [mm]\\\": length_error_reality_to_plan_mm(messung, values[\\\"N\\\"])}\\n    )\\n    values.update(\\n        {\\n            \\\"Gesamtfehler [mm]\\\": gesamtfehler_von_messung_zu_karte_mm(\\n                messung, name, values[\\\"N\\\"], values[\\\"Height\\\"]\\n            )\\n        }\\n    )\";\n",
       "                var nbb_cells = Jupyter.notebook.get_cells();\n",
       "                for (var i = 0; i < nbb_cells.length; ++i) {\n",
       "                    if (nbb_cells[i].input_prompt_number == nbb_cell_id) {\n",
       "                        if (nbb_cells[i].get_text() == nbb_unformatted_code) {\n",
       "                             nbb_cells[i].set_text(nbb_formatted_code);\n",
       "                        }\n",
       "                        break;\n",
       "                    }\n",
       "                }\n",
       "            }, 500);\n",
       "            "
      ],
      "text/plain": [
       "<IPython.core.display.Javascript object>"
      ]
     },
     "metadata": {},
     "output_type": "display_data"
    }
   ],
   "source": [
    "# print(f\"Für eine gemessene Distanz von {messung} m ergibt sich ein Gesamtfehler von\")\n",
    "for name, values in points.items():\n",
    "    values.update({\"Massstabfaktor\": massstab(values[\"N\"])})\n",
    "    values.update({\"Höhenverzerrungsfaktor\": height_error_factor(values[\"Height\"])})\n",
    "    values.update(\n",
    "        {\"Längenfehler [mm]\": length_error_reality_to_plan_mm(messung, values[\"N\"])}\n",
    "    )\n",
    "    values.update(\n",
    "        {\n",
    "            \"Gesamtfehler [mm]\": gesamtfehler_von_messung_zu_karte_mm(\n",
    "                messung, name, values[\"N\"], values[\"Height\"]\n",
    "            )\n",
    "        }\n",
    "    )"
   ]
  },
  {
   "cell_type": "markdown",
   "metadata": {},
   "source": [
    "Berechne max. Distanz für Gesamtfehler < 10mm"
   ]
  },
  {
   "cell_type": "code",
   "execution_count": 57,
   "metadata": {},
   "outputs": [
    {
     "data": {
      "application/javascript": [
       "\n",
       "            setTimeout(function() {\n",
       "                var nbb_cell_id = 57;\n",
       "                var nbb_unformatted_code = \"# print(\\n#    f\\\"F\\u00fcr einen maximalen akzeptablen Fehler von {max_error} mm ist folgende Distanz m\\u00f6glich:\\\"\\n# )\\nfor name, values in points.items():\\n    values.update(\\n        {\\n            \\\"max. Distanz [m]\\\": max_distance_allowed_in_m(\\n                name, max_error, values[\\\"N\\\"], values[\\\"Height\\\"]\\n            )\\n        }\\n    )\";\n",
       "                var nbb_formatted_code = \"# print(\\n#    f\\\"F\\u00fcr einen maximalen akzeptablen Fehler von {max_error} mm ist folgende Distanz m\\u00f6glich:\\\"\\n# )\\nfor name, values in points.items():\\n    values.update(\\n        {\\n            \\\"max. Distanz [m]\\\": max_distance_allowed_in_m(\\n                name, max_error, values[\\\"N\\\"], values[\\\"Height\\\"]\\n            )\\n        }\\n    )\";\n",
       "                var nbb_cells = Jupyter.notebook.get_cells();\n",
       "                for (var i = 0; i < nbb_cells.length; ++i) {\n",
       "                    if (nbb_cells[i].input_prompt_number == nbb_cell_id) {\n",
       "                        if (nbb_cells[i].get_text() == nbb_unformatted_code) {\n",
       "                             nbb_cells[i].set_text(nbb_formatted_code);\n",
       "                        }\n",
       "                        break;\n",
       "                    }\n",
       "                }\n",
       "            }, 500);\n",
       "            "
      ],
      "text/plain": [
       "<IPython.core.display.Javascript object>"
      ]
     },
     "metadata": {},
     "output_type": "display_data"
    }
   ],
   "source": [
    "# print(\n",
    "#    f\"Für einen maximalen akzeptablen Fehler von {max_error} mm ist folgende Distanz möglich:\"\n",
    "# )\n",
    "for name, values in points.items():\n",
    "    values.update(\n",
    "        {\n",
    "            \"max. Distanz [m]\": max_distance_allowed_in_m(\n",
    "                name, max_error, values[\"N\"], values[\"Height\"]\n",
    "            )\n",
    "        }\n",
    "    )"
   ]
  },
  {
   "cell_type": "markdown",
   "metadata": {},
   "source": [
    "# Visualisierung"
   ]
  },
  {
   "cell_type": "markdown",
   "metadata": {},
   "source": [
    "### Gesamtfehler [mm] für gegebene Messstrecke in der Realität"
   ]
  },
  {
   "cell_type": "markdown",
   "metadata": {},
   "source": [
    "Die Grösse des Kreises entspricht der Höhe ü. Meer (LN02) des Punktes.\n"
   ]
  },
  {
   "cell_type": "code",
   "execution_count": 58,
   "metadata": {
    "scrolled": false
   },
   "outputs": [
    {
     "data": {
      "application/vnd.plotly.v1+json": {
       "config": {
        "plotlyServerURL": "https://plot.ly"
       },
       "data": [
        {
         "customdata": [
          [
           "Cadenazzo"
          ],
          [
           "Bern"
          ],
          [
           "Muttenz"
          ],
          [
           "Chessel"
          ],
          [
           "Melano"
          ],
          [
           "Kraftwerk Untere Enge"
          ],
          [
           "Bottinghofen am Bodensee"
          ],
          [
           "Zürich HB"
          ],
          [
           "Boncourt"
          ],
          [
           "CERN"
          ],
          [
           "Neuchatel"
          ],
          [
           "Interlaken Ost"
          ],
          [
           "Campognolo"
          ],
          [
           "Bargen, SH"
          ],
          [
           "Visp"
          ],
          [
           "Langnau"
          ],
          [
           "Vallorbe"
          ],
          [
           "Martina"
          ],
          [
           "Ste-Croix"
          ],
          [
           "Andermatt"
          ],
          [
           "Monte Generoso"
          ],
          [
           "Saas Almagell"
          ],
          [
           "Rigi"
          ],
          [
           "Alp Grüm"
          ],
          [
           "Ofenpass"
          ],
          [
           "Payerne"
          ],
          [
           "Eigergletscher"
          ],
          [
           "Sphinx"
          ],
          [
           "Stausee Mattmark"
          ],
          [
           "Wasserstollen Uetliberg"
          ]
         ],
         "hovertemplate": "E=%{x}<br>N=%{y}<br>Height=%{marker.size}<br>Name=%{customdata[0]}<br>Gesamtfehler [mm]=%{marker.color}<extra></extra>",
         "legendgroup": "",
         "marker": {
          "color": [
           60.99885836761132,
           -86.77973578471665,
           7.605770633404063,
           -4.565326920669577,
           114.69877316062593,
           -78.36306041781427,
           13.025974490346925,
           -35.05818529527005,
           -24.833764660115776,
           7.602577037005176,
           -74.80843578173335,
           -78.6479748290958,
           -18.030939231380216,
           13.824012450641021,
           -36.664409571926626,
           -107.58259784324764,
           -118.27041379422099,
           -161.96825498104772,
           -167.83956981521442,
           -210.5675837032095,
           -96.41003017691219,
           -150.73782681395187,
           -279.7833179680538,
           -282.27221417591863,
           -325.42111191537515,
           -67.83186051904977,
           -347.29529419462324,
           -534.9335473288193,
           -220.95860577121584,
           -34.44239699422269
          ],
          "coloraxis": "coloraxis",
          "size": [
           208,
           553.6,
           280.7,
           378.6,
           281.7,
           500,
           400,
           406.2,
           444.4,
           437.9,
           479.4,
           566.7,
           570.7,
           606.3,
           650.9,
           686.4,
           807,
           1034,
           1085.5,
           1435.7,
           1605.5,
           1671,
           1797,
           2090.9,
           2150.1,
           447.3,
           2352,
           3571,
           2198.4,
           382
          ],
          "sizemode": "area",
          "sizeref": 8.9275,
          "symbol": "circle"
         },
         "mode": "markers",
         "name": "",
         "showlegend": false,
         "type": "scatter",
         "x": [
          2715783.3,
          2600000,
          2615766.2,
          2558128.3,
          2719998.3,
          2600259.5,
          2733173.3,
          2682858.2,
          2568683.3,
          2493320,
          2561781.7,
          2633121.1,
          2808405,
          2687782.5,
          2634147.9,
          2626370.8,
          2518397.5,
          2830592.5,
          2528490,
          2688434.1,
          2722608.3,
          2640122.9,
          2679520.05,
          2799454.8,
          2818462.9,
          2561992.8,
          2641168.5,
          2641911,
          2639939.2,
          2679000
         ],
         "xaxis": "x",
         "y": [
          1112721.7,
          1200000,
          1264806.3,
          1133230,
          1086300,
          1201114,
          1278503.3,
          1248258,
          1260400,
          1121229,
          1205267.3,
          1171210.3,
          1123758.3,
          1294123.3,
          1127065.8,
          1199011.7,
          1174126.7,
          1197083.5,
          1186306.7,
          1165702.5,
          1087610,
          1104891.7,
          1212273.44,
          1139211.2,
          1169362.9,
          1186360.8,
          1158376.8,
          1155280,
          1099723.3,
          1245500
         ],
         "yaxis": "y"
        }
       ],
       "layout": {
        "coloraxis": {
         "colorbar": {
          "title": {
           "text": "Gesamtfehler [mm]"
          }
         },
         "colorscale": [
          [
           0,
           "#0d0887"
          ],
          [
           0.1111111111111111,
           "#46039f"
          ],
          [
           0.2222222222222222,
           "#7201a8"
          ],
          [
           0.3333333333333333,
           "#9c179e"
          ],
          [
           0.4444444444444444,
           "#bd3786"
          ],
          [
           0.5555555555555556,
           "#d8576b"
          ],
          [
           0.6666666666666666,
           "#ed7953"
          ],
          [
           0.7777777777777778,
           "#fb9f3a"
          ],
          [
           0.8888888888888888,
           "#fdca26"
          ],
          [
           1,
           "#f0f921"
          ]
         ]
        },
        "legend": {
         "itemsizing": "constant",
         "tracegroupgap": 0
        },
        "template": {
         "data": {
          "bar": [
           {
            "error_x": {
             "color": "#2a3f5f"
            },
            "error_y": {
             "color": "#2a3f5f"
            },
            "marker": {
             "line": {
              "color": "#E5ECF6",
              "width": 0.5
             }
            },
            "type": "bar"
           }
          ],
          "barpolar": [
           {
            "marker": {
             "line": {
              "color": "#E5ECF6",
              "width": 0.5
             }
            },
            "type": "barpolar"
           }
          ],
          "carpet": [
           {
            "aaxis": {
             "endlinecolor": "#2a3f5f",
             "gridcolor": "white",
             "linecolor": "white",
             "minorgridcolor": "white",
             "startlinecolor": "#2a3f5f"
            },
            "baxis": {
             "endlinecolor": "#2a3f5f",
             "gridcolor": "white",
             "linecolor": "white",
             "minorgridcolor": "white",
             "startlinecolor": "#2a3f5f"
            },
            "type": "carpet"
           }
          ],
          "choropleth": [
           {
            "colorbar": {
             "outlinewidth": 0,
             "ticks": ""
            },
            "type": "choropleth"
           }
          ],
          "contour": [
           {
            "colorbar": {
             "outlinewidth": 0,
             "ticks": ""
            },
            "colorscale": [
             [
              0,
              "#0d0887"
             ],
             [
              0.1111111111111111,
              "#46039f"
             ],
             [
              0.2222222222222222,
              "#7201a8"
             ],
             [
              0.3333333333333333,
              "#9c179e"
             ],
             [
              0.4444444444444444,
              "#bd3786"
             ],
             [
              0.5555555555555556,
              "#d8576b"
             ],
             [
              0.6666666666666666,
              "#ed7953"
             ],
             [
              0.7777777777777778,
              "#fb9f3a"
             ],
             [
              0.8888888888888888,
              "#fdca26"
             ],
             [
              1,
              "#f0f921"
             ]
            ],
            "type": "contour"
           }
          ],
          "contourcarpet": [
           {
            "colorbar": {
             "outlinewidth": 0,
             "ticks": ""
            },
            "type": "contourcarpet"
           }
          ],
          "heatmap": [
           {
            "colorbar": {
             "outlinewidth": 0,
             "ticks": ""
            },
            "colorscale": [
             [
              0,
              "#0d0887"
             ],
             [
              0.1111111111111111,
              "#46039f"
             ],
             [
              0.2222222222222222,
              "#7201a8"
             ],
             [
              0.3333333333333333,
              "#9c179e"
             ],
             [
              0.4444444444444444,
              "#bd3786"
             ],
             [
              0.5555555555555556,
              "#d8576b"
             ],
             [
              0.6666666666666666,
              "#ed7953"
             ],
             [
              0.7777777777777778,
              "#fb9f3a"
             ],
             [
              0.8888888888888888,
              "#fdca26"
             ],
             [
              1,
              "#f0f921"
             ]
            ],
            "type": "heatmap"
           }
          ],
          "heatmapgl": [
           {
            "colorbar": {
             "outlinewidth": 0,
             "ticks": ""
            },
            "colorscale": [
             [
              0,
              "#0d0887"
             ],
             [
              0.1111111111111111,
              "#46039f"
             ],
             [
              0.2222222222222222,
              "#7201a8"
             ],
             [
              0.3333333333333333,
              "#9c179e"
             ],
             [
              0.4444444444444444,
              "#bd3786"
             ],
             [
              0.5555555555555556,
              "#d8576b"
             ],
             [
              0.6666666666666666,
              "#ed7953"
             ],
             [
              0.7777777777777778,
              "#fb9f3a"
             ],
             [
              0.8888888888888888,
              "#fdca26"
             ],
             [
              1,
              "#f0f921"
             ]
            ],
            "type": "heatmapgl"
           }
          ],
          "histogram": [
           {
            "marker": {
             "colorbar": {
              "outlinewidth": 0,
              "ticks": ""
             }
            },
            "type": "histogram"
           }
          ],
          "histogram2d": [
           {
            "colorbar": {
             "outlinewidth": 0,
             "ticks": ""
            },
            "colorscale": [
             [
              0,
              "#0d0887"
             ],
             [
              0.1111111111111111,
              "#46039f"
             ],
             [
              0.2222222222222222,
              "#7201a8"
             ],
             [
              0.3333333333333333,
              "#9c179e"
             ],
             [
              0.4444444444444444,
              "#bd3786"
             ],
             [
              0.5555555555555556,
              "#d8576b"
             ],
             [
              0.6666666666666666,
              "#ed7953"
             ],
             [
              0.7777777777777778,
              "#fb9f3a"
             ],
             [
              0.8888888888888888,
              "#fdca26"
             ],
             [
              1,
              "#f0f921"
             ]
            ],
            "type": "histogram2d"
           }
          ],
          "histogram2dcontour": [
           {
            "colorbar": {
             "outlinewidth": 0,
             "ticks": ""
            },
            "colorscale": [
             [
              0,
              "#0d0887"
             ],
             [
              0.1111111111111111,
              "#46039f"
             ],
             [
              0.2222222222222222,
              "#7201a8"
             ],
             [
              0.3333333333333333,
              "#9c179e"
             ],
             [
              0.4444444444444444,
              "#bd3786"
             ],
             [
              0.5555555555555556,
              "#d8576b"
             ],
             [
              0.6666666666666666,
              "#ed7953"
             ],
             [
              0.7777777777777778,
              "#fb9f3a"
             ],
             [
              0.8888888888888888,
              "#fdca26"
             ],
             [
              1,
              "#f0f921"
             ]
            ],
            "type": "histogram2dcontour"
           }
          ],
          "mesh3d": [
           {
            "colorbar": {
             "outlinewidth": 0,
             "ticks": ""
            },
            "type": "mesh3d"
           }
          ],
          "parcoords": [
           {
            "line": {
             "colorbar": {
              "outlinewidth": 0,
              "ticks": ""
             }
            },
            "type": "parcoords"
           }
          ],
          "pie": [
           {
            "automargin": true,
            "type": "pie"
           }
          ],
          "scatter": [
           {
            "marker": {
             "colorbar": {
              "outlinewidth": 0,
              "ticks": ""
             }
            },
            "type": "scatter"
           }
          ],
          "scatter3d": [
           {
            "line": {
             "colorbar": {
              "outlinewidth": 0,
              "ticks": ""
             }
            },
            "marker": {
             "colorbar": {
              "outlinewidth": 0,
              "ticks": ""
             }
            },
            "type": "scatter3d"
           }
          ],
          "scattercarpet": [
           {
            "marker": {
             "colorbar": {
              "outlinewidth": 0,
              "ticks": ""
             }
            },
            "type": "scattercarpet"
           }
          ],
          "scattergeo": [
           {
            "marker": {
             "colorbar": {
              "outlinewidth": 0,
              "ticks": ""
             }
            },
            "type": "scattergeo"
           }
          ],
          "scattergl": [
           {
            "marker": {
             "colorbar": {
              "outlinewidth": 0,
              "ticks": ""
             }
            },
            "type": "scattergl"
           }
          ],
          "scattermapbox": [
           {
            "marker": {
             "colorbar": {
              "outlinewidth": 0,
              "ticks": ""
             }
            },
            "type": "scattermapbox"
           }
          ],
          "scatterpolar": [
           {
            "marker": {
             "colorbar": {
              "outlinewidth": 0,
              "ticks": ""
             }
            },
            "type": "scatterpolar"
           }
          ],
          "scatterpolargl": [
           {
            "marker": {
             "colorbar": {
              "outlinewidth": 0,
              "ticks": ""
             }
            },
            "type": "scatterpolargl"
           }
          ],
          "scatterternary": [
           {
            "marker": {
             "colorbar": {
              "outlinewidth": 0,
              "ticks": ""
             }
            },
            "type": "scatterternary"
           }
          ],
          "surface": [
           {
            "colorbar": {
             "outlinewidth": 0,
             "ticks": ""
            },
            "colorscale": [
             [
              0,
              "#0d0887"
             ],
             [
              0.1111111111111111,
              "#46039f"
             ],
             [
              0.2222222222222222,
              "#7201a8"
             ],
             [
              0.3333333333333333,
              "#9c179e"
             ],
             [
              0.4444444444444444,
              "#bd3786"
             ],
             [
              0.5555555555555556,
              "#d8576b"
             ],
             [
              0.6666666666666666,
              "#ed7953"
             ],
             [
              0.7777777777777778,
              "#fb9f3a"
             ],
             [
              0.8888888888888888,
              "#fdca26"
             ],
             [
              1,
              "#f0f921"
             ]
            ],
            "type": "surface"
           }
          ],
          "table": [
           {
            "cells": {
             "fill": {
              "color": "#EBF0F8"
             },
             "line": {
              "color": "white"
             }
            },
            "header": {
             "fill": {
              "color": "#C8D4E3"
             },
             "line": {
              "color": "white"
             }
            },
            "type": "table"
           }
          ]
         },
         "layout": {
          "annotationdefaults": {
           "arrowcolor": "#2a3f5f",
           "arrowhead": 0,
           "arrowwidth": 1
          },
          "coloraxis": {
           "colorbar": {
            "outlinewidth": 0,
            "ticks": ""
           }
          },
          "colorscale": {
           "diverging": [
            [
             0,
             "#8e0152"
            ],
            [
             0.1,
             "#c51b7d"
            ],
            [
             0.2,
             "#de77ae"
            ],
            [
             0.3,
             "#f1b6da"
            ],
            [
             0.4,
             "#fde0ef"
            ],
            [
             0.5,
             "#f7f7f7"
            ],
            [
             0.6,
             "#e6f5d0"
            ],
            [
             0.7,
             "#b8e186"
            ],
            [
             0.8,
             "#7fbc41"
            ],
            [
             0.9,
             "#4d9221"
            ],
            [
             1,
             "#276419"
            ]
           ],
           "sequential": [
            [
             0,
             "#0d0887"
            ],
            [
             0.1111111111111111,
             "#46039f"
            ],
            [
             0.2222222222222222,
             "#7201a8"
            ],
            [
             0.3333333333333333,
             "#9c179e"
            ],
            [
             0.4444444444444444,
             "#bd3786"
            ],
            [
             0.5555555555555556,
             "#d8576b"
            ],
            [
             0.6666666666666666,
             "#ed7953"
            ],
            [
             0.7777777777777778,
             "#fb9f3a"
            ],
            [
             0.8888888888888888,
             "#fdca26"
            ],
            [
             1,
             "#f0f921"
            ]
           ],
           "sequentialminus": [
            [
             0,
             "#0d0887"
            ],
            [
             0.1111111111111111,
             "#46039f"
            ],
            [
             0.2222222222222222,
             "#7201a8"
            ],
            [
             0.3333333333333333,
             "#9c179e"
            ],
            [
             0.4444444444444444,
             "#bd3786"
            ],
            [
             0.5555555555555556,
             "#d8576b"
            ],
            [
             0.6666666666666666,
             "#ed7953"
            ],
            [
             0.7777777777777778,
             "#fb9f3a"
            ],
            [
             0.8888888888888888,
             "#fdca26"
            ],
            [
             1,
             "#f0f921"
            ]
           ]
          },
          "colorway": [
           "#636efa",
           "#EF553B",
           "#00cc96",
           "#ab63fa",
           "#FFA15A",
           "#19d3f3",
           "#FF6692",
           "#B6E880",
           "#FF97FF",
           "#FECB52"
          ],
          "font": {
           "color": "#2a3f5f"
          },
          "geo": {
           "bgcolor": "white",
           "lakecolor": "white",
           "landcolor": "#E5ECF6",
           "showlakes": true,
           "showland": true,
           "subunitcolor": "white"
          },
          "hoverlabel": {
           "align": "left"
          },
          "hovermode": "closest",
          "mapbox": {
           "style": "light"
          },
          "paper_bgcolor": "white",
          "plot_bgcolor": "#E5ECF6",
          "polar": {
           "angularaxis": {
            "gridcolor": "white",
            "linecolor": "white",
            "ticks": ""
           },
           "bgcolor": "#E5ECF6",
           "radialaxis": {
            "gridcolor": "white",
            "linecolor": "white",
            "ticks": ""
           }
          },
          "scene": {
           "xaxis": {
            "backgroundcolor": "#E5ECF6",
            "gridcolor": "white",
            "gridwidth": 2,
            "linecolor": "white",
            "showbackground": true,
            "ticks": "",
            "zerolinecolor": "white"
           },
           "yaxis": {
            "backgroundcolor": "#E5ECF6",
            "gridcolor": "white",
            "gridwidth": 2,
            "linecolor": "white",
            "showbackground": true,
            "ticks": "",
            "zerolinecolor": "white"
           },
           "zaxis": {
            "backgroundcolor": "#E5ECF6",
            "gridcolor": "white",
            "gridwidth": 2,
            "linecolor": "white",
            "showbackground": true,
            "ticks": "",
            "zerolinecolor": "white"
           }
          },
          "shapedefaults": {
           "line": {
            "color": "#2a3f5f"
           }
          },
          "ternary": {
           "aaxis": {
            "gridcolor": "white",
            "linecolor": "white",
            "ticks": ""
           },
           "baxis": {
            "gridcolor": "white",
            "linecolor": "white",
            "ticks": ""
           },
           "bgcolor": "#E5ECF6",
           "caxis": {
            "gridcolor": "white",
            "linecolor": "white",
            "ticks": ""
           }
          },
          "title": {
           "x": 0.05
          },
          "xaxis": {
           "automargin": true,
           "gridcolor": "white",
           "linecolor": "white",
           "ticks": "",
           "title": {
            "standoff": 15
           },
           "zerolinecolor": "white",
           "zerolinewidth": 2
          },
          "yaxis": {
           "automargin": true,
           "gridcolor": "white",
           "linecolor": "white",
           "ticks": "",
           "title": {
            "standoff": 15
           },
           "zerolinecolor": "white",
           "zerolinewidth": 2
          }
         }
        },
        "title": {
         "text": "Verzerrung [mm] infolge Höhe und Projektion für eine Strecke von 1000m Länge"
        },
        "xaxis": {
         "anchor": "y",
         "domain": [
          0,
          1
         ],
         "title": {
          "text": "E"
         }
        },
        "yaxis": {
         "anchor": "x",
         "domain": [
          0,
          1
         ],
         "title": {
          "text": "N"
         }
        }
       }
      },
      "text/html": [
       "<div>\n",
       "        \n",
       "        \n",
       "            <div id=\"6d48518a-c23c-4b11-a859-663e8ad56ccd\" class=\"plotly-graph-div\" style=\"height:525px; width:100%;\"></div>\n",
       "            <script type=\"text/javascript\">\n",
       "                require([\"plotly\"], function(Plotly) {\n",
       "                    window.PLOTLYENV=window.PLOTLYENV || {};\n",
       "                    \n",
       "                if (document.getElementById(\"6d48518a-c23c-4b11-a859-663e8ad56ccd\")) {\n",
       "                    Plotly.newPlot(\n",
       "                        '6d48518a-c23c-4b11-a859-663e8ad56ccd',\n",
       "                        [{\"customdata\": [[\"Cadenazzo\"], [\"Bern\"], [\"Muttenz\"], [\"Chessel\"], [\"Melano\"], [\"Kraftwerk Untere Enge\"], [\"Bottinghofen am Bodensee\"], [\"Z\\u00fcrich HB\"], [\"Boncourt\"], [\"CERN\"], [\"Neuchatel\"], [\"Interlaken Ost\"], [\"Campognolo\"], [\"Bargen, SH\"], [\"Visp\"], [\"Langnau\"], [\"Vallorbe\"], [\"Martina\"], [\"Ste-Croix\"], [\"Andermatt\"], [\"Monte Generoso\"], [\"Saas Almagell\"], [\"Rigi\"], [\"Alp Gr\\u00fcm\"], [\"Ofenpass\"], [\"Payerne\"], [\"Eigergletscher\"], [\"Sphinx\"], [\"Stausee Mattmark\"], [\"Wasserstollen Uetliberg\"]], \"hovertemplate\": \"E=%{x}<br>N=%{y}<br>Height=%{marker.size}<br>Name=%{customdata[0]}<br>Gesamtfehler [mm]=%{marker.color}<extra></extra>\", \"legendgroup\": \"\", \"marker\": {\"color\": [60.99885836761132, -86.77973578471665, 7.605770633404063, -4.565326920669577, 114.69877316062593, -78.36306041781427, 13.025974490346925, -35.05818529527005, -24.833764660115776, 7.602577037005176, -74.80843578173335, -78.6479748290958, -18.030939231380216, 13.824012450641021, -36.664409571926626, -107.58259784324764, -118.27041379422099, -161.96825498104772, -167.83956981521442, -210.5675837032095, -96.41003017691219, -150.73782681395187, -279.7833179680538, -282.27221417591863, -325.42111191537515, -67.83186051904977, -347.29529419462324, -534.9335473288193, -220.95860577121584, -34.44239699422269], \"coloraxis\": \"coloraxis\", \"size\": [208.0, 553.6, 280.7, 378.6, 281.7, 500.0, 400.0, 406.2, 444.4, 437.9, 479.4, 566.7, 570.7, 606.3, 650.9, 686.4, 807.0, 1034.0, 1085.5, 1435.7, 1605.5, 1671.0, 1797.0, 2090.9, 2150.1, 447.3, 2352.0, 3571.0, 2198.4, 382.0], \"sizemode\": \"area\", \"sizeref\": 8.9275, \"symbol\": \"circle\"}, \"mode\": \"markers\", \"name\": \"\", \"showlegend\": false, \"type\": \"scatter\", \"x\": [2715783.3, 2600000.0, 2615766.2, 2558128.3, 2719998.3, 2600259.5, 2733173.3, 2682858.2, 2568683.3, 2493320.0, 2561781.7, 2633121.1, 2808405.0, 2687782.5, 2634147.9, 2626370.8, 2518397.5, 2830592.5, 2528490.0, 2688434.1, 2722608.3, 2640122.9, 2679520.05, 2799454.8, 2818462.9, 2561992.8, 2641168.5, 2641911.0, 2639939.2, 2679000.0], \"xaxis\": \"x\", \"y\": [1112721.7, 1200000.0, 1264806.3, 1133230.0, 1086300.0, 1201114.0, 1278503.3, 1248258.0, 1260400.0, 1121229.0, 1205267.3, 1171210.3, 1123758.3, 1294123.3, 1127065.8, 1199011.7, 1174126.7, 1197083.5, 1186306.7, 1165702.5, 1087610.0, 1104891.7, 1212273.44, 1139211.2, 1169362.9, 1186360.8, 1158376.8, 1155280.0, 1099723.3, 1245500.0], \"yaxis\": \"y\"}],\n",
       "                        {\"coloraxis\": {\"colorbar\": {\"title\": {\"text\": \"Gesamtfehler [mm]\"}}, \"colorscale\": [[0.0, \"#0d0887\"], [0.1111111111111111, \"#46039f\"], [0.2222222222222222, \"#7201a8\"], [0.3333333333333333, \"#9c179e\"], [0.4444444444444444, \"#bd3786\"], [0.5555555555555556, \"#d8576b\"], [0.6666666666666666, \"#ed7953\"], [0.7777777777777778, \"#fb9f3a\"], [0.8888888888888888, \"#fdca26\"], [1.0, \"#f0f921\"]]}, \"legend\": {\"itemsizing\": \"constant\", \"tracegroupgap\": 0}, \"template\": {\"data\": {\"bar\": [{\"error_x\": {\"color\": \"#2a3f5f\"}, \"error_y\": {\"color\": \"#2a3f5f\"}, \"marker\": {\"line\": {\"color\": \"#E5ECF6\", \"width\": 0.5}}, \"type\": \"bar\"}], \"barpolar\": [{\"marker\": {\"line\": {\"color\": \"#E5ECF6\", \"width\": 0.5}}, \"type\": \"barpolar\"}], \"carpet\": [{\"aaxis\": {\"endlinecolor\": \"#2a3f5f\", \"gridcolor\": \"white\", \"linecolor\": \"white\", \"minorgridcolor\": \"white\", \"startlinecolor\": \"#2a3f5f\"}, \"baxis\": {\"endlinecolor\": \"#2a3f5f\", \"gridcolor\": \"white\", \"linecolor\": \"white\", \"minorgridcolor\": \"white\", \"startlinecolor\": \"#2a3f5f\"}, \"type\": \"carpet\"}], \"choropleth\": [{\"colorbar\": {\"outlinewidth\": 0, \"ticks\": \"\"}, \"type\": \"choropleth\"}], \"contour\": [{\"colorbar\": {\"outlinewidth\": 0, \"ticks\": \"\"}, \"colorscale\": [[0.0, \"#0d0887\"], [0.1111111111111111, \"#46039f\"], [0.2222222222222222, \"#7201a8\"], [0.3333333333333333, \"#9c179e\"], [0.4444444444444444, \"#bd3786\"], [0.5555555555555556, \"#d8576b\"], [0.6666666666666666, \"#ed7953\"], [0.7777777777777778, \"#fb9f3a\"], [0.8888888888888888, \"#fdca26\"], [1.0, \"#f0f921\"]], \"type\": \"contour\"}], \"contourcarpet\": [{\"colorbar\": {\"outlinewidth\": 0, \"ticks\": \"\"}, \"type\": \"contourcarpet\"}], \"heatmap\": [{\"colorbar\": {\"outlinewidth\": 0, \"ticks\": \"\"}, \"colorscale\": [[0.0, \"#0d0887\"], [0.1111111111111111, \"#46039f\"], [0.2222222222222222, \"#7201a8\"], [0.3333333333333333, \"#9c179e\"], [0.4444444444444444, \"#bd3786\"], [0.5555555555555556, \"#d8576b\"], [0.6666666666666666, \"#ed7953\"], [0.7777777777777778, \"#fb9f3a\"], [0.8888888888888888, \"#fdca26\"], [1.0, \"#f0f921\"]], \"type\": \"heatmap\"}], \"heatmapgl\": [{\"colorbar\": {\"outlinewidth\": 0, \"ticks\": \"\"}, \"colorscale\": [[0.0, \"#0d0887\"], [0.1111111111111111, \"#46039f\"], [0.2222222222222222, \"#7201a8\"], [0.3333333333333333, \"#9c179e\"], [0.4444444444444444, \"#bd3786\"], [0.5555555555555556, \"#d8576b\"], [0.6666666666666666, \"#ed7953\"], [0.7777777777777778, \"#fb9f3a\"], [0.8888888888888888, \"#fdca26\"], [1.0, \"#f0f921\"]], \"type\": \"heatmapgl\"}], \"histogram\": [{\"marker\": {\"colorbar\": {\"outlinewidth\": 0, \"ticks\": \"\"}}, \"type\": \"histogram\"}], \"histogram2d\": [{\"colorbar\": {\"outlinewidth\": 0, \"ticks\": \"\"}, \"colorscale\": [[0.0, \"#0d0887\"], [0.1111111111111111, \"#46039f\"], [0.2222222222222222, \"#7201a8\"], [0.3333333333333333, \"#9c179e\"], [0.4444444444444444, \"#bd3786\"], [0.5555555555555556, \"#d8576b\"], [0.6666666666666666, \"#ed7953\"], [0.7777777777777778, \"#fb9f3a\"], [0.8888888888888888, \"#fdca26\"], [1.0, \"#f0f921\"]], \"type\": \"histogram2d\"}], \"histogram2dcontour\": [{\"colorbar\": {\"outlinewidth\": 0, \"ticks\": \"\"}, \"colorscale\": [[0.0, \"#0d0887\"], [0.1111111111111111, \"#46039f\"], [0.2222222222222222, \"#7201a8\"], [0.3333333333333333, \"#9c179e\"], [0.4444444444444444, \"#bd3786\"], [0.5555555555555556, \"#d8576b\"], [0.6666666666666666, \"#ed7953\"], [0.7777777777777778, \"#fb9f3a\"], [0.8888888888888888, \"#fdca26\"], [1.0, \"#f0f921\"]], \"type\": \"histogram2dcontour\"}], \"mesh3d\": [{\"colorbar\": {\"outlinewidth\": 0, \"ticks\": \"\"}, \"type\": \"mesh3d\"}], \"parcoords\": [{\"line\": {\"colorbar\": {\"outlinewidth\": 0, \"ticks\": \"\"}}, \"type\": \"parcoords\"}], \"pie\": [{\"automargin\": true, \"type\": \"pie\"}], \"scatter\": [{\"marker\": {\"colorbar\": {\"outlinewidth\": 0, \"ticks\": \"\"}}, \"type\": \"scatter\"}], \"scatter3d\": [{\"line\": {\"colorbar\": {\"outlinewidth\": 0, \"ticks\": \"\"}}, \"marker\": {\"colorbar\": {\"outlinewidth\": 0, \"ticks\": \"\"}}, \"type\": \"scatter3d\"}], \"scattercarpet\": [{\"marker\": {\"colorbar\": {\"outlinewidth\": 0, \"ticks\": \"\"}}, \"type\": \"scattercarpet\"}], \"scattergeo\": [{\"marker\": {\"colorbar\": {\"outlinewidth\": 0, \"ticks\": \"\"}}, \"type\": \"scattergeo\"}], \"scattergl\": [{\"marker\": {\"colorbar\": {\"outlinewidth\": 0, \"ticks\": \"\"}}, \"type\": \"scattergl\"}], \"scattermapbox\": [{\"marker\": {\"colorbar\": {\"outlinewidth\": 0, \"ticks\": \"\"}}, \"type\": \"scattermapbox\"}], \"scatterpolar\": [{\"marker\": {\"colorbar\": {\"outlinewidth\": 0, \"ticks\": \"\"}}, \"type\": \"scatterpolar\"}], \"scatterpolargl\": [{\"marker\": {\"colorbar\": {\"outlinewidth\": 0, \"ticks\": \"\"}}, \"type\": \"scatterpolargl\"}], \"scatterternary\": [{\"marker\": {\"colorbar\": {\"outlinewidth\": 0, \"ticks\": \"\"}}, \"type\": \"scatterternary\"}], \"surface\": [{\"colorbar\": {\"outlinewidth\": 0, \"ticks\": \"\"}, \"colorscale\": [[0.0, \"#0d0887\"], [0.1111111111111111, \"#46039f\"], [0.2222222222222222, \"#7201a8\"], [0.3333333333333333, \"#9c179e\"], [0.4444444444444444, \"#bd3786\"], [0.5555555555555556, \"#d8576b\"], [0.6666666666666666, \"#ed7953\"], [0.7777777777777778, \"#fb9f3a\"], [0.8888888888888888, \"#fdca26\"], [1.0, \"#f0f921\"]], \"type\": \"surface\"}], \"table\": [{\"cells\": {\"fill\": {\"color\": \"#EBF0F8\"}, \"line\": {\"color\": \"white\"}}, \"header\": {\"fill\": {\"color\": \"#C8D4E3\"}, \"line\": {\"color\": \"white\"}}, \"type\": \"table\"}]}, \"layout\": {\"annotationdefaults\": {\"arrowcolor\": \"#2a3f5f\", \"arrowhead\": 0, \"arrowwidth\": 1}, \"coloraxis\": {\"colorbar\": {\"outlinewidth\": 0, \"ticks\": \"\"}}, \"colorscale\": {\"diverging\": [[0, \"#8e0152\"], [0.1, \"#c51b7d\"], [0.2, \"#de77ae\"], [0.3, \"#f1b6da\"], [0.4, \"#fde0ef\"], [0.5, \"#f7f7f7\"], [0.6, \"#e6f5d0\"], [0.7, \"#b8e186\"], [0.8, \"#7fbc41\"], [0.9, \"#4d9221\"], [1, \"#276419\"]], \"sequential\": [[0.0, \"#0d0887\"], [0.1111111111111111, \"#46039f\"], [0.2222222222222222, \"#7201a8\"], [0.3333333333333333, \"#9c179e\"], [0.4444444444444444, \"#bd3786\"], [0.5555555555555556, \"#d8576b\"], [0.6666666666666666, \"#ed7953\"], [0.7777777777777778, \"#fb9f3a\"], [0.8888888888888888, \"#fdca26\"], [1.0, \"#f0f921\"]], \"sequentialminus\": [[0.0, \"#0d0887\"], [0.1111111111111111, \"#46039f\"], [0.2222222222222222, \"#7201a8\"], [0.3333333333333333, \"#9c179e\"], [0.4444444444444444, \"#bd3786\"], [0.5555555555555556, \"#d8576b\"], [0.6666666666666666, \"#ed7953\"], [0.7777777777777778, \"#fb9f3a\"], [0.8888888888888888, \"#fdca26\"], [1.0, \"#f0f921\"]]}, \"colorway\": [\"#636efa\", \"#EF553B\", \"#00cc96\", \"#ab63fa\", \"#FFA15A\", \"#19d3f3\", \"#FF6692\", \"#B6E880\", \"#FF97FF\", \"#FECB52\"], \"font\": {\"color\": \"#2a3f5f\"}, \"geo\": {\"bgcolor\": \"white\", \"lakecolor\": \"white\", \"landcolor\": \"#E5ECF6\", \"showlakes\": true, \"showland\": true, \"subunitcolor\": \"white\"}, \"hoverlabel\": {\"align\": \"left\"}, \"hovermode\": \"closest\", \"mapbox\": {\"style\": \"light\"}, \"paper_bgcolor\": \"white\", \"plot_bgcolor\": \"#E5ECF6\", \"polar\": {\"angularaxis\": {\"gridcolor\": \"white\", \"linecolor\": \"white\", \"ticks\": \"\"}, \"bgcolor\": \"#E5ECF6\", \"radialaxis\": {\"gridcolor\": \"white\", \"linecolor\": \"white\", \"ticks\": \"\"}}, \"scene\": {\"xaxis\": {\"backgroundcolor\": \"#E5ECF6\", \"gridcolor\": \"white\", \"gridwidth\": 2, \"linecolor\": \"white\", \"showbackground\": true, \"ticks\": \"\", \"zerolinecolor\": \"white\"}, \"yaxis\": {\"backgroundcolor\": \"#E5ECF6\", \"gridcolor\": \"white\", \"gridwidth\": 2, \"linecolor\": \"white\", \"showbackground\": true, \"ticks\": \"\", \"zerolinecolor\": \"white\"}, \"zaxis\": {\"backgroundcolor\": \"#E5ECF6\", \"gridcolor\": \"white\", \"gridwidth\": 2, \"linecolor\": \"white\", \"showbackground\": true, \"ticks\": \"\", \"zerolinecolor\": \"white\"}}, \"shapedefaults\": {\"line\": {\"color\": \"#2a3f5f\"}}, \"ternary\": {\"aaxis\": {\"gridcolor\": \"white\", \"linecolor\": \"white\", \"ticks\": \"\"}, \"baxis\": {\"gridcolor\": \"white\", \"linecolor\": \"white\", \"ticks\": \"\"}, \"bgcolor\": \"#E5ECF6\", \"caxis\": {\"gridcolor\": \"white\", \"linecolor\": \"white\", \"ticks\": \"\"}}, \"title\": {\"x\": 0.05}, \"xaxis\": {\"automargin\": true, \"gridcolor\": \"white\", \"linecolor\": \"white\", \"ticks\": \"\", \"title\": {\"standoff\": 15}, \"zerolinecolor\": \"white\", \"zerolinewidth\": 2}, \"yaxis\": {\"automargin\": true, \"gridcolor\": \"white\", \"linecolor\": \"white\", \"ticks\": \"\", \"title\": {\"standoff\": 15}, \"zerolinecolor\": \"white\", \"zerolinewidth\": 2}}}, \"title\": {\"text\": \"Verzerrung [mm] infolge H\\u00f6he und Projektion f\\u00fcr eine Strecke von 1000m L\\u00e4nge\"}, \"xaxis\": {\"anchor\": \"y\", \"domain\": [0.0, 1.0], \"title\": {\"text\": \"E\"}}, \"yaxis\": {\"anchor\": \"x\", \"domain\": [0.0, 1.0], \"title\": {\"text\": \"N\"}}},\n",
       "                        {\"responsive\": true}\n",
       "                    ).then(function(){\n",
       "                            \n",
       "var gd = document.getElementById('6d48518a-c23c-4b11-a859-663e8ad56ccd');\n",
       "var x = new MutationObserver(function (mutations, observer) {{\n",
       "        var display = window.getComputedStyle(gd).display;\n",
       "        if (!display || display === 'none') {{\n",
       "            console.log([gd, 'removed!']);\n",
       "            Plotly.purge(gd);\n",
       "            observer.disconnect();\n",
       "        }}\n",
       "}});\n",
       "\n",
       "// Listen for the removal of the full notebook cells\n",
       "var notebookContainer = gd.closest('#notebook-container');\n",
       "if (notebookContainer) {{\n",
       "    x.observe(notebookContainer, {childList: true});\n",
       "}}\n",
       "\n",
       "// Listen for the clearing of the current output cell\n",
       "var outputEl = gd.closest('.output');\n",
       "if (outputEl) {{\n",
       "    x.observe(outputEl, {childList: true});\n",
       "}}\n",
       "\n",
       "                        })\n",
       "                };\n",
       "                });\n",
       "            </script>\n",
       "        </div>"
      ]
     },
     "metadata": {},
     "output_type": "display_data"
    },
    {
     "data": {
      "application/javascript": [
       "\n",
       "            setTimeout(function() {\n",
       "                var nbb_cell_id = 58;\n",
       "                var nbb_unformatted_code = \"# fig = px.scatter(data, x=\\\"E\\\",y=\\\"N\\\",size=\\\"max. Distanz [m]\\\", hover_data=[\\\"name\\\"], color=\\\"Gesamtfehler [mm]\\\")\\nfig = px.scatter(\\n    points.values(),\\n    x=\\\"E\\\",\\n    y=\\\"N\\\",\\n    hover_data=[\\\"Name\\\"],\\n    color=\\\"Gesamtfehler [mm]\\\",\\n    size=\\\"Height\\\",\\n    title=f\\\"Verzerrung [mm] infolge H\\u00f6he und Projektion f\\u00fcr eine Strecke von {messung}m L\\u00e4nge\\\",\\n)\\n\\nfig.show()\";\n",
       "                var nbb_formatted_code = \"# fig = px.scatter(data, x=\\\"E\\\",y=\\\"N\\\",size=\\\"max. Distanz [m]\\\", hover_data=[\\\"name\\\"], color=\\\"Gesamtfehler [mm]\\\")\\nfig = px.scatter(\\n    points.values(),\\n    x=\\\"E\\\",\\n    y=\\\"N\\\",\\n    hover_data=[\\\"Name\\\"],\\n    color=\\\"Gesamtfehler [mm]\\\",\\n    size=\\\"Height\\\",\\n    title=f\\\"Verzerrung [mm] infolge H\\u00f6he und Projektion f\\u00fcr eine Strecke von {messung}m L\\u00e4nge\\\",\\n)\\n\\nfig.show()\";\n",
       "                var nbb_cells = Jupyter.notebook.get_cells();\n",
       "                for (var i = 0; i < nbb_cells.length; ++i) {\n",
       "                    if (nbb_cells[i].input_prompt_number == nbb_cell_id) {\n",
       "                        if (nbb_cells[i].get_text() == nbb_unformatted_code) {\n",
       "                             nbb_cells[i].set_text(nbb_formatted_code);\n",
       "                        }\n",
       "                        break;\n",
       "                    }\n",
       "                }\n",
       "            }, 500);\n",
       "            "
      ],
      "text/plain": [
       "<IPython.core.display.Javascript object>"
      ]
     },
     "metadata": {},
     "output_type": "display_data"
    }
   ],
   "source": [
    "# fig = px.scatter(data, x=\"E\",y=\"N\",size=\"max. Distanz [m]\", hover_data=[\"name\"], color=\"Gesamtfehler [mm]\")\n",
    "fig = px.scatter(\n",
    "    points.values(),\n",
    "    x=\"E\",\n",
    "    y=\"N\",\n",
    "    hover_data=[\"Name\"],\n",
    "    color=\"Gesamtfehler [mm]\",\n",
    "    size=\"Height\",\n",
    "    title=f\"Verzerrung [mm] infolge Höhe und Projektion für eine Strecke von {messung}m Länge\",\n",
    ")\n",
    "\n",
    "fig.show()"
   ]
  },
  {
   "cell_type": "code",
   "execution_count": 59,
   "metadata": {},
   "outputs": [
    {
     "data": {
      "application/vnd.plotly.v1+json": {
       "config": {
        "plotlyServerURL": "https://plot.ly"
       },
       "data": [
        {
         "customdata": [
          [
           "Cadenazzo"
          ],
          [
           "Bern"
          ],
          [
           "Muttenz"
          ],
          [
           "Chessel"
          ],
          [
           "Melano"
          ],
          [
           "Kraftwerk Untere Enge"
          ],
          [
           "Bottinghofen am Bodensee"
          ],
          [
           "Zürich HB"
          ],
          [
           "Boncourt"
          ],
          [
           "CERN"
          ],
          [
           "Neuchatel"
          ],
          [
           "Interlaken Ost"
          ],
          [
           "Campognolo"
          ],
          [
           "Bargen, SH"
          ],
          [
           "Visp"
          ],
          [
           "Langnau"
          ],
          [
           "Vallorbe"
          ],
          [
           "Martina"
          ],
          [
           "Ste-Croix"
          ],
          [
           "Andermatt"
          ],
          [
           "Monte Generoso"
          ],
          [
           "Saas Almagell"
          ],
          [
           "Rigi"
          ],
          [
           "Alp Grüm"
          ],
          [
           "Ofenpass"
          ],
          [
           "Payerne"
          ],
          [
           "Eigergletscher"
          ],
          [
           "Sphinx"
          ],
          [
           "Stausee Mattmark"
          ],
          [
           "Wasserstollen Uetliberg"
          ]
         ],
         "hovertemplate": "E=%{x}<br>N=%{y}<br>Height=%{marker.size}<br>Name=%{text}<br>Gesamtfehler [mm]=%{marker.color}<extra></extra>",
         "legendgroup": "",
         "marker": {
          "color": [
           60.99885836761132,
           -86.77973578471665,
           7.605770633404063,
           -4.565326920669577,
           114.69877316062593,
           -78.36306041781427,
           13.025974490346925,
           -35.05818529527005,
           -24.833764660115776,
           7.602577037005176,
           -74.80843578173335,
           -78.6479748290958,
           -18.030939231380216,
           13.824012450641021,
           -36.664409571926626,
           -107.58259784324764,
           -118.27041379422099,
           -161.96825498104772,
           -167.83956981521442,
           -210.5675837032095,
           -96.41003017691219,
           -150.73782681395187,
           -279.7833179680538,
           -282.27221417591863,
           -325.42111191537515,
           -67.83186051904977,
           -347.29529419462324,
           -534.9335473288193,
           -220.95860577121584,
           -34.44239699422269
          ],
          "coloraxis": "coloraxis",
          "size": [
           208,
           553.6,
           280.7,
           378.6,
           281.7,
           500,
           400,
           406.2,
           444.4,
           437.9,
           479.4,
           566.7,
           570.7,
           606.3,
           650.9,
           686.4,
           807,
           1034,
           1085.5,
           1435.7,
           1605.5,
           1671,
           1797,
           2090.9,
           2150.1,
           447.3,
           2352,
           3571,
           2198.4,
           382
          ],
          "sizemode": "area",
          "sizeref": 8.9275,
          "symbol": "circle"
         },
         "mode": "markers+text",
         "name": "",
         "showlegend": false,
         "text": [
          "Cadenazzo",
          "Bern",
          "Muttenz",
          "Chessel",
          "Melano",
          "Kraftwerk Untere Enge",
          "Bottinghofen am Bodensee",
          "Zürich HB",
          "Boncourt",
          "CERN",
          "Neuchatel",
          "Interlaken Ost",
          "Campognolo",
          "Bargen, SH",
          "Visp",
          "Langnau",
          "Vallorbe",
          "Martina",
          "Ste-Croix",
          "Andermatt",
          "Monte Generoso",
          "Saas Almagell",
          "Rigi",
          "Alp Grüm",
          "Ofenpass",
          "Payerne",
          "Eigergletscher",
          "Sphinx",
          "Stausee Mattmark",
          "Wasserstollen Uetliberg"
         ],
         "type": "scatter",
         "x": [
          2715783.3,
          2600000,
          2615766.2,
          2558128.3,
          2719998.3,
          2600259.5,
          2733173.3,
          2682858.2,
          2568683.3,
          2493320,
          2561781.7,
          2633121.1,
          2808405,
          2687782.5,
          2634147.9,
          2626370.8,
          2518397.5,
          2830592.5,
          2528490,
          2688434.1,
          2722608.3,
          2640122.9,
          2679520.05,
          2799454.8,
          2818462.9,
          2561992.8,
          2641168.5,
          2641911,
          2639939.2,
          2679000
         ],
         "xaxis": "x",
         "y": [
          1112721.7,
          1200000,
          1264806.3,
          1133230,
          1086300,
          1201114,
          1278503.3,
          1248258,
          1260400,
          1121229,
          1205267.3,
          1171210.3,
          1123758.3,
          1294123.3,
          1127065.8,
          1199011.7,
          1174126.7,
          1197083.5,
          1186306.7,
          1165702.5,
          1087610,
          1104891.7,
          1212273.44,
          1139211.2,
          1169362.9,
          1186360.8,
          1158376.8,
          1155280,
          1099723.3,
          1245500
         ],
         "yaxis": "y"
        }
       ],
       "layout": {
        "coloraxis": {
         "colorbar": {
          "title": {
           "text": "Gesamtfehler [mm]"
          }
         },
         "colorscale": [
          [
           0,
           "#0d0887"
          ],
          [
           0.1111111111111111,
           "#46039f"
          ],
          [
           0.2222222222222222,
           "#7201a8"
          ],
          [
           0.3333333333333333,
           "#9c179e"
          ],
          [
           0.4444444444444444,
           "#bd3786"
          ],
          [
           0.5555555555555556,
           "#d8576b"
          ],
          [
           0.6666666666666666,
           "#ed7953"
          ],
          [
           0.7777777777777778,
           "#fb9f3a"
          ],
          [
           0.8888888888888888,
           "#fdca26"
          ],
          [
           1,
           "#f0f921"
          ]
         ]
        },
        "legend": {
         "itemsizing": "constant",
         "tracegroupgap": 0
        },
        "template": {
         "data": {
          "bar": [
           {
            "error_x": {
             "color": "#2a3f5f"
            },
            "error_y": {
             "color": "#2a3f5f"
            },
            "marker": {
             "line": {
              "color": "#E5ECF6",
              "width": 0.5
             }
            },
            "type": "bar"
           }
          ],
          "barpolar": [
           {
            "marker": {
             "line": {
              "color": "#E5ECF6",
              "width": 0.5
             }
            },
            "type": "barpolar"
           }
          ],
          "carpet": [
           {
            "aaxis": {
             "endlinecolor": "#2a3f5f",
             "gridcolor": "white",
             "linecolor": "white",
             "minorgridcolor": "white",
             "startlinecolor": "#2a3f5f"
            },
            "baxis": {
             "endlinecolor": "#2a3f5f",
             "gridcolor": "white",
             "linecolor": "white",
             "minorgridcolor": "white",
             "startlinecolor": "#2a3f5f"
            },
            "type": "carpet"
           }
          ],
          "choropleth": [
           {
            "colorbar": {
             "outlinewidth": 0,
             "ticks": ""
            },
            "type": "choropleth"
           }
          ],
          "contour": [
           {
            "colorbar": {
             "outlinewidth": 0,
             "ticks": ""
            },
            "colorscale": [
             [
              0,
              "#0d0887"
             ],
             [
              0.1111111111111111,
              "#46039f"
             ],
             [
              0.2222222222222222,
              "#7201a8"
             ],
             [
              0.3333333333333333,
              "#9c179e"
             ],
             [
              0.4444444444444444,
              "#bd3786"
             ],
             [
              0.5555555555555556,
              "#d8576b"
             ],
             [
              0.6666666666666666,
              "#ed7953"
             ],
             [
              0.7777777777777778,
              "#fb9f3a"
             ],
             [
              0.8888888888888888,
              "#fdca26"
             ],
             [
              1,
              "#f0f921"
             ]
            ],
            "type": "contour"
           }
          ],
          "contourcarpet": [
           {
            "colorbar": {
             "outlinewidth": 0,
             "ticks": ""
            },
            "type": "contourcarpet"
           }
          ],
          "heatmap": [
           {
            "colorbar": {
             "outlinewidth": 0,
             "ticks": ""
            },
            "colorscale": [
             [
              0,
              "#0d0887"
             ],
             [
              0.1111111111111111,
              "#46039f"
             ],
             [
              0.2222222222222222,
              "#7201a8"
             ],
             [
              0.3333333333333333,
              "#9c179e"
             ],
             [
              0.4444444444444444,
              "#bd3786"
             ],
             [
              0.5555555555555556,
              "#d8576b"
             ],
             [
              0.6666666666666666,
              "#ed7953"
             ],
             [
              0.7777777777777778,
              "#fb9f3a"
             ],
             [
              0.8888888888888888,
              "#fdca26"
             ],
             [
              1,
              "#f0f921"
             ]
            ],
            "type": "heatmap"
           }
          ],
          "heatmapgl": [
           {
            "colorbar": {
             "outlinewidth": 0,
             "ticks": ""
            },
            "colorscale": [
             [
              0,
              "#0d0887"
             ],
             [
              0.1111111111111111,
              "#46039f"
             ],
             [
              0.2222222222222222,
              "#7201a8"
             ],
             [
              0.3333333333333333,
              "#9c179e"
             ],
             [
              0.4444444444444444,
              "#bd3786"
             ],
             [
              0.5555555555555556,
              "#d8576b"
             ],
             [
              0.6666666666666666,
              "#ed7953"
             ],
             [
              0.7777777777777778,
              "#fb9f3a"
             ],
             [
              0.8888888888888888,
              "#fdca26"
             ],
             [
              1,
              "#f0f921"
             ]
            ],
            "type": "heatmapgl"
           }
          ],
          "histogram": [
           {
            "marker": {
             "colorbar": {
              "outlinewidth": 0,
              "ticks": ""
             }
            },
            "type": "histogram"
           }
          ],
          "histogram2d": [
           {
            "colorbar": {
             "outlinewidth": 0,
             "ticks": ""
            },
            "colorscale": [
             [
              0,
              "#0d0887"
             ],
             [
              0.1111111111111111,
              "#46039f"
             ],
             [
              0.2222222222222222,
              "#7201a8"
             ],
             [
              0.3333333333333333,
              "#9c179e"
             ],
             [
              0.4444444444444444,
              "#bd3786"
             ],
             [
              0.5555555555555556,
              "#d8576b"
             ],
             [
              0.6666666666666666,
              "#ed7953"
             ],
             [
              0.7777777777777778,
              "#fb9f3a"
             ],
             [
              0.8888888888888888,
              "#fdca26"
             ],
             [
              1,
              "#f0f921"
             ]
            ],
            "type": "histogram2d"
           }
          ],
          "histogram2dcontour": [
           {
            "colorbar": {
             "outlinewidth": 0,
             "ticks": ""
            },
            "colorscale": [
             [
              0,
              "#0d0887"
             ],
             [
              0.1111111111111111,
              "#46039f"
             ],
             [
              0.2222222222222222,
              "#7201a8"
             ],
             [
              0.3333333333333333,
              "#9c179e"
             ],
             [
              0.4444444444444444,
              "#bd3786"
             ],
             [
              0.5555555555555556,
              "#d8576b"
             ],
             [
              0.6666666666666666,
              "#ed7953"
             ],
             [
              0.7777777777777778,
              "#fb9f3a"
             ],
             [
              0.8888888888888888,
              "#fdca26"
             ],
             [
              1,
              "#f0f921"
             ]
            ],
            "type": "histogram2dcontour"
           }
          ],
          "mesh3d": [
           {
            "colorbar": {
             "outlinewidth": 0,
             "ticks": ""
            },
            "type": "mesh3d"
           }
          ],
          "parcoords": [
           {
            "line": {
             "colorbar": {
              "outlinewidth": 0,
              "ticks": ""
             }
            },
            "type": "parcoords"
           }
          ],
          "pie": [
           {
            "automargin": true,
            "type": "pie"
           }
          ],
          "scatter": [
           {
            "marker": {
             "colorbar": {
              "outlinewidth": 0,
              "ticks": ""
             }
            },
            "type": "scatter"
           }
          ],
          "scatter3d": [
           {
            "line": {
             "colorbar": {
              "outlinewidth": 0,
              "ticks": ""
             }
            },
            "marker": {
             "colorbar": {
              "outlinewidth": 0,
              "ticks": ""
             }
            },
            "type": "scatter3d"
           }
          ],
          "scattercarpet": [
           {
            "marker": {
             "colorbar": {
              "outlinewidth": 0,
              "ticks": ""
             }
            },
            "type": "scattercarpet"
           }
          ],
          "scattergeo": [
           {
            "marker": {
             "colorbar": {
              "outlinewidth": 0,
              "ticks": ""
             }
            },
            "type": "scattergeo"
           }
          ],
          "scattergl": [
           {
            "marker": {
             "colorbar": {
              "outlinewidth": 0,
              "ticks": ""
             }
            },
            "type": "scattergl"
           }
          ],
          "scattermapbox": [
           {
            "marker": {
             "colorbar": {
              "outlinewidth": 0,
              "ticks": ""
             }
            },
            "type": "scattermapbox"
           }
          ],
          "scatterpolar": [
           {
            "marker": {
             "colorbar": {
              "outlinewidth": 0,
              "ticks": ""
             }
            },
            "type": "scatterpolar"
           }
          ],
          "scatterpolargl": [
           {
            "marker": {
             "colorbar": {
              "outlinewidth": 0,
              "ticks": ""
             }
            },
            "type": "scatterpolargl"
           }
          ],
          "scatterternary": [
           {
            "marker": {
             "colorbar": {
              "outlinewidth": 0,
              "ticks": ""
             }
            },
            "type": "scatterternary"
           }
          ],
          "surface": [
           {
            "colorbar": {
             "outlinewidth": 0,
             "ticks": ""
            },
            "colorscale": [
             [
              0,
              "#0d0887"
             ],
             [
              0.1111111111111111,
              "#46039f"
             ],
             [
              0.2222222222222222,
              "#7201a8"
             ],
             [
              0.3333333333333333,
              "#9c179e"
             ],
             [
              0.4444444444444444,
              "#bd3786"
             ],
             [
              0.5555555555555556,
              "#d8576b"
             ],
             [
              0.6666666666666666,
              "#ed7953"
             ],
             [
              0.7777777777777778,
              "#fb9f3a"
             ],
             [
              0.8888888888888888,
              "#fdca26"
             ],
             [
              1,
              "#f0f921"
             ]
            ],
            "type": "surface"
           }
          ],
          "table": [
           {
            "cells": {
             "fill": {
              "color": "#EBF0F8"
             },
             "line": {
              "color": "white"
             }
            },
            "header": {
             "fill": {
              "color": "#C8D4E3"
             },
             "line": {
              "color": "white"
             }
            },
            "type": "table"
           }
          ]
         },
         "layout": {
          "annotationdefaults": {
           "arrowcolor": "#2a3f5f",
           "arrowhead": 0,
           "arrowwidth": 1
          },
          "coloraxis": {
           "colorbar": {
            "outlinewidth": 0,
            "ticks": ""
           }
          },
          "colorscale": {
           "diverging": [
            [
             0,
             "#8e0152"
            ],
            [
             0.1,
             "#c51b7d"
            ],
            [
             0.2,
             "#de77ae"
            ],
            [
             0.3,
             "#f1b6da"
            ],
            [
             0.4,
             "#fde0ef"
            ],
            [
             0.5,
             "#f7f7f7"
            ],
            [
             0.6,
             "#e6f5d0"
            ],
            [
             0.7,
             "#b8e186"
            ],
            [
             0.8,
             "#7fbc41"
            ],
            [
             0.9,
             "#4d9221"
            ],
            [
             1,
             "#276419"
            ]
           ],
           "sequential": [
            [
             0,
             "#0d0887"
            ],
            [
             0.1111111111111111,
             "#46039f"
            ],
            [
             0.2222222222222222,
             "#7201a8"
            ],
            [
             0.3333333333333333,
             "#9c179e"
            ],
            [
             0.4444444444444444,
             "#bd3786"
            ],
            [
             0.5555555555555556,
             "#d8576b"
            ],
            [
             0.6666666666666666,
             "#ed7953"
            ],
            [
             0.7777777777777778,
             "#fb9f3a"
            ],
            [
             0.8888888888888888,
             "#fdca26"
            ],
            [
             1,
             "#f0f921"
            ]
           ],
           "sequentialminus": [
            [
             0,
             "#0d0887"
            ],
            [
             0.1111111111111111,
             "#46039f"
            ],
            [
             0.2222222222222222,
             "#7201a8"
            ],
            [
             0.3333333333333333,
             "#9c179e"
            ],
            [
             0.4444444444444444,
             "#bd3786"
            ],
            [
             0.5555555555555556,
             "#d8576b"
            ],
            [
             0.6666666666666666,
             "#ed7953"
            ],
            [
             0.7777777777777778,
             "#fb9f3a"
            ],
            [
             0.8888888888888888,
             "#fdca26"
            ],
            [
             1,
             "#f0f921"
            ]
           ]
          },
          "colorway": [
           "#636efa",
           "#EF553B",
           "#00cc96",
           "#ab63fa",
           "#FFA15A",
           "#19d3f3",
           "#FF6692",
           "#B6E880",
           "#FF97FF",
           "#FECB52"
          ],
          "font": {
           "color": "#2a3f5f"
          },
          "geo": {
           "bgcolor": "white",
           "lakecolor": "white",
           "landcolor": "#E5ECF6",
           "showlakes": true,
           "showland": true,
           "subunitcolor": "white"
          },
          "hoverlabel": {
           "align": "left"
          },
          "hovermode": "closest",
          "mapbox": {
           "style": "light"
          },
          "paper_bgcolor": "white",
          "plot_bgcolor": "#E5ECF6",
          "polar": {
           "angularaxis": {
            "gridcolor": "white",
            "linecolor": "white",
            "ticks": ""
           },
           "bgcolor": "#E5ECF6",
           "radialaxis": {
            "gridcolor": "white",
            "linecolor": "white",
            "ticks": ""
           }
          },
          "scene": {
           "xaxis": {
            "backgroundcolor": "#E5ECF6",
            "gridcolor": "white",
            "gridwidth": 2,
            "linecolor": "white",
            "showbackground": true,
            "ticks": "",
            "zerolinecolor": "white"
           },
           "yaxis": {
            "backgroundcolor": "#E5ECF6",
            "gridcolor": "white",
            "gridwidth": 2,
            "linecolor": "white",
            "showbackground": true,
            "ticks": "",
            "zerolinecolor": "white"
           },
           "zaxis": {
            "backgroundcolor": "#E5ECF6",
            "gridcolor": "white",
            "gridwidth": 2,
            "linecolor": "white",
            "showbackground": true,
            "ticks": "",
            "zerolinecolor": "white"
           }
          },
          "shapedefaults": {
           "line": {
            "color": "#2a3f5f"
           }
          },
          "ternary": {
           "aaxis": {
            "gridcolor": "white",
            "linecolor": "white",
            "ticks": ""
           },
           "baxis": {
            "gridcolor": "white",
            "linecolor": "white",
            "ticks": ""
           },
           "bgcolor": "#E5ECF6",
           "caxis": {
            "gridcolor": "white",
            "linecolor": "white",
            "ticks": ""
           }
          },
          "title": {
           "x": 0.05
          },
          "xaxis": {
           "automargin": true,
           "gridcolor": "white",
           "linecolor": "white",
           "ticks": "",
           "title": {
            "standoff": 15
           },
           "zerolinecolor": "white",
           "zerolinewidth": 2
          },
          "yaxis": {
           "automargin": true,
           "gridcolor": "white",
           "linecolor": "white",
           "ticks": "",
           "title": {
            "standoff": 15
           },
           "zerolinecolor": "white",
           "zerolinewidth": 2
          }
         }
        },
        "title": {
         "text": "Verzerrung [mm] infolge Höhe und Projektion für eine Strecke von 1000m"
        },
        "xaxis": {
         "anchor": "y",
         "domain": [
          0,
          1
         ],
         "range": [
          2700000,
          2740000
         ],
         "title": {
          "text": "E"
         }
        },
        "yaxis": {
         "anchor": "x",
         "domain": [
          0,
          1
         ],
         "range": [
          1080000,
          1095000
         ],
         "title": {
          "text": "N"
         }
        }
       }
      },
      "text/html": [
       "<div>\n",
       "        \n",
       "        \n",
       "            <div id=\"87f5addc-811c-4df8-8863-b31ed5f58e57\" class=\"plotly-graph-div\" style=\"height:525px; width:100%;\"></div>\n",
       "            <script type=\"text/javascript\">\n",
       "                require([\"plotly\"], function(Plotly) {\n",
       "                    window.PLOTLYENV=window.PLOTLYENV || {};\n",
       "                    \n",
       "                if (document.getElementById(\"87f5addc-811c-4df8-8863-b31ed5f58e57\")) {\n",
       "                    Plotly.newPlot(\n",
       "                        '87f5addc-811c-4df8-8863-b31ed5f58e57',\n",
       "                        [{\"customdata\": [[\"Cadenazzo\"], [\"Bern\"], [\"Muttenz\"], [\"Chessel\"], [\"Melano\"], [\"Kraftwerk Untere Enge\"], [\"Bottinghofen am Bodensee\"], [\"Z\\u00fcrich HB\"], [\"Boncourt\"], [\"CERN\"], [\"Neuchatel\"], [\"Interlaken Ost\"], [\"Campognolo\"], [\"Bargen, SH\"], [\"Visp\"], [\"Langnau\"], [\"Vallorbe\"], [\"Martina\"], [\"Ste-Croix\"], [\"Andermatt\"], [\"Monte Generoso\"], [\"Saas Almagell\"], [\"Rigi\"], [\"Alp Gr\\u00fcm\"], [\"Ofenpass\"], [\"Payerne\"], [\"Eigergletscher\"], [\"Sphinx\"], [\"Stausee Mattmark\"], [\"Wasserstollen Uetliberg\"]], \"hovertemplate\": \"E=%{x}<br>N=%{y}<br>Height=%{marker.size}<br>Name=%{text}<br>Gesamtfehler [mm]=%{marker.color}<extra></extra>\", \"legendgroup\": \"\", \"marker\": {\"color\": [60.99885836761132, -86.77973578471665, 7.605770633404063, -4.565326920669577, 114.69877316062593, -78.36306041781427, 13.025974490346925, -35.05818529527005, -24.833764660115776, 7.602577037005176, -74.80843578173335, -78.6479748290958, -18.030939231380216, 13.824012450641021, -36.664409571926626, -107.58259784324764, -118.27041379422099, -161.96825498104772, -167.83956981521442, -210.5675837032095, -96.41003017691219, -150.73782681395187, -279.7833179680538, -282.27221417591863, -325.42111191537515, -67.83186051904977, -347.29529419462324, -534.9335473288193, -220.95860577121584, -34.44239699422269], \"coloraxis\": \"coloraxis\", \"size\": [208.0, 553.6, 280.7, 378.6, 281.7, 500.0, 400.0, 406.2, 444.4, 437.9, 479.4, 566.7, 570.7, 606.3, 650.9, 686.4, 807.0, 1034.0, 1085.5, 1435.7, 1605.5, 1671.0, 1797.0, 2090.9, 2150.1, 447.3, 2352.0, 3571.0, 2198.4, 382.0], \"sizemode\": \"area\", \"sizeref\": 8.9275, \"symbol\": \"circle\"}, \"mode\": \"markers+text\", \"name\": \"\", \"showlegend\": false, \"text\": [\"Cadenazzo\", \"Bern\", \"Muttenz\", \"Chessel\", \"Melano\", \"Kraftwerk Untere Enge\", \"Bottinghofen am Bodensee\", \"Z\\u00fcrich HB\", \"Boncourt\", \"CERN\", \"Neuchatel\", \"Interlaken Ost\", \"Campognolo\", \"Bargen, SH\", \"Visp\", \"Langnau\", \"Vallorbe\", \"Martina\", \"Ste-Croix\", \"Andermatt\", \"Monte Generoso\", \"Saas Almagell\", \"Rigi\", \"Alp Gr\\u00fcm\", \"Ofenpass\", \"Payerne\", \"Eigergletscher\", \"Sphinx\", \"Stausee Mattmark\", \"Wasserstollen Uetliberg\"], \"type\": \"scatter\", \"x\": [2715783.3, 2600000.0, 2615766.2, 2558128.3, 2719998.3, 2600259.5, 2733173.3, 2682858.2, 2568683.3, 2493320.0, 2561781.7, 2633121.1, 2808405.0, 2687782.5, 2634147.9, 2626370.8, 2518397.5, 2830592.5, 2528490.0, 2688434.1, 2722608.3, 2640122.9, 2679520.05, 2799454.8, 2818462.9, 2561992.8, 2641168.5, 2641911.0, 2639939.2, 2679000.0], \"xaxis\": \"x\", \"y\": [1112721.7, 1200000.0, 1264806.3, 1133230.0, 1086300.0, 1201114.0, 1278503.3, 1248258.0, 1260400.0, 1121229.0, 1205267.3, 1171210.3, 1123758.3, 1294123.3, 1127065.8, 1199011.7, 1174126.7, 1197083.5, 1186306.7, 1165702.5, 1087610.0, 1104891.7, 1212273.44, 1139211.2, 1169362.9, 1186360.8, 1158376.8, 1155280.0, 1099723.3, 1245500.0], \"yaxis\": \"y\"}],\n",
       "                        {\"coloraxis\": {\"colorbar\": {\"title\": {\"text\": \"Gesamtfehler [mm]\"}}, \"colorscale\": [[0.0, \"#0d0887\"], [0.1111111111111111, \"#46039f\"], [0.2222222222222222, \"#7201a8\"], [0.3333333333333333, \"#9c179e\"], [0.4444444444444444, \"#bd3786\"], [0.5555555555555556, \"#d8576b\"], [0.6666666666666666, \"#ed7953\"], [0.7777777777777778, \"#fb9f3a\"], [0.8888888888888888, \"#fdca26\"], [1.0, \"#f0f921\"]]}, \"legend\": {\"itemsizing\": \"constant\", \"tracegroupgap\": 0}, \"template\": {\"data\": {\"bar\": [{\"error_x\": {\"color\": \"#2a3f5f\"}, \"error_y\": {\"color\": \"#2a3f5f\"}, \"marker\": {\"line\": {\"color\": \"#E5ECF6\", \"width\": 0.5}}, \"type\": \"bar\"}], \"barpolar\": [{\"marker\": {\"line\": {\"color\": \"#E5ECF6\", \"width\": 0.5}}, \"type\": \"barpolar\"}], \"carpet\": [{\"aaxis\": {\"endlinecolor\": \"#2a3f5f\", \"gridcolor\": \"white\", \"linecolor\": \"white\", \"minorgridcolor\": \"white\", \"startlinecolor\": \"#2a3f5f\"}, \"baxis\": {\"endlinecolor\": \"#2a3f5f\", \"gridcolor\": \"white\", \"linecolor\": \"white\", \"minorgridcolor\": \"white\", \"startlinecolor\": \"#2a3f5f\"}, \"type\": \"carpet\"}], \"choropleth\": [{\"colorbar\": {\"outlinewidth\": 0, \"ticks\": \"\"}, \"type\": \"choropleth\"}], \"contour\": [{\"colorbar\": {\"outlinewidth\": 0, \"ticks\": \"\"}, \"colorscale\": [[0.0, \"#0d0887\"], [0.1111111111111111, \"#46039f\"], [0.2222222222222222, \"#7201a8\"], [0.3333333333333333, \"#9c179e\"], [0.4444444444444444, \"#bd3786\"], [0.5555555555555556, \"#d8576b\"], [0.6666666666666666, \"#ed7953\"], [0.7777777777777778, \"#fb9f3a\"], [0.8888888888888888, \"#fdca26\"], [1.0, \"#f0f921\"]], \"type\": \"contour\"}], \"contourcarpet\": [{\"colorbar\": {\"outlinewidth\": 0, \"ticks\": \"\"}, \"type\": \"contourcarpet\"}], \"heatmap\": [{\"colorbar\": {\"outlinewidth\": 0, \"ticks\": \"\"}, \"colorscale\": [[0.0, \"#0d0887\"], [0.1111111111111111, \"#46039f\"], [0.2222222222222222, \"#7201a8\"], [0.3333333333333333, \"#9c179e\"], [0.4444444444444444, \"#bd3786\"], [0.5555555555555556, \"#d8576b\"], [0.6666666666666666, \"#ed7953\"], [0.7777777777777778, \"#fb9f3a\"], [0.8888888888888888, \"#fdca26\"], [1.0, \"#f0f921\"]], \"type\": \"heatmap\"}], \"heatmapgl\": [{\"colorbar\": {\"outlinewidth\": 0, \"ticks\": \"\"}, \"colorscale\": [[0.0, \"#0d0887\"], [0.1111111111111111, \"#46039f\"], [0.2222222222222222, \"#7201a8\"], [0.3333333333333333, \"#9c179e\"], [0.4444444444444444, \"#bd3786\"], [0.5555555555555556, \"#d8576b\"], [0.6666666666666666, \"#ed7953\"], [0.7777777777777778, \"#fb9f3a\"], [0.8888888888888888, \"#fdca26\"], [1.0, \"#f0f921\"]], \"type\": \"heatmapgl\"}], \"histogram\": [{\"marker\": {\"colorbar\": {\"outlinewidth\": 0, \"ticks\": \"\"}}, \"type\": \"histogram\"}], \"histogram2d\": [{\"colorbar\": {\"outlinewidth\": 0, \"ticks\": \"\"}, \"colorscale\": [[0.0, \"#0d0887\"], [0.1111111111111111, \"#46039f\"], [0.2222222222222222, \"#7201a8\"], [0.3333333333333333, \"#9c179e\"], [0.4444444444444444, \"#bd3786\"], [0.5555555555555556, \"#d8576b\"], [0.6666666666666666, \"#ed7953\"], [0.7777777777777778, \"#fb9f3a\"], [0.8888888888888888, \"#fdca26\"], [1.0, \"#f0f921\"]], \"type\": \"histogram2d\"}], \"histogram2dcontour\": [{\"colorbar\": {\"outlinewidth\": 0, \"ticks\": \"\"}, \"colorscale\": [[0.0, \"#0d0887\"], [0.1111111111111111, \"#46039f\"], [0.2222222222222222, \"#7201a8\"], [0.3333333333333333, \"#9c179e\"], [0.4444444444444444, \"#bd3786\"], [0.5555555555555556, \"#d8576b\"], [0.6666666666666666, \"#ed7953\"], [0.7777777777777778, \"#fb9f3a\"], [0.8888888888888888, \"#fdca26\"], [1.0, \"#f0f921\"]], \"type\": \"histogram2dcontour\"}], \"mesh3d\": [{\"colorbar\": {\"outlinewidth\": 0, \"ticks\": \"\"}, \"type\": \"mesh3d\"}], \"parcoords\": [{\"line\": {\"colorbar\": {\"outlinewidth\": 0, \"ticks\": \"\"}}, \"type\": \"parcoords\"}], \"pie\": [{\"automargin\": true, \"type\": \"pie\"}], \"scatter\": [{\"marker\": {\"colorbar\": {\"outlinewidth\": 0, \"ticks\": \"\"}}, \"type\": \"scatter\"}], \"scatter3d\": [{\"line\": {\"colorbar\": {\"outlinewidth\": 0, \"ticks\": \"\"}}, \"marker\": {\"colorbar\": {\"outlinewidth\": 0, \"ticks\": \"\"}}, \"type\": \"scatter3d\"}], \"scattercarpet\": [{\"marker\": {\"colorbar\": {\"outlinewidth\": 0, \"ticks\": \"\"}}, \"type\": \"scattercarpet\"}], \"scattergeo\": [{\"marker\": {\"colorbar\": {\"outlinewidth\": 0, \"ticks\": \"\"}}, \"type\": \"scattergeo\"}], \"scattergl\": [{\"marker\": {\"colorbar\": {\"outlinewidth\": 0, \"ticks\": \"\"}}, \"type\": \"scattergl\"}], \"scattermapbox\": [{\"marker\": {\"colorbar\": {\"outlinewidth\": 0, \"ticks\": \"\"}}, \"type\": \"scattermapbox\"}], \"scatterpolar\": [{\"marker\": {\"colorbar\": {\"outlinewidth\": 0, \"ticks\": \"\"}}, \"type\": \"scatterpolar\"}], \"scatterpolargl\": [{\"marker\": {\"colorbar\": {\"outlinewidth\": 0, \"ticks\": \"\"}}, \"type\": \"scatterpolargl\"}], \"scatterternary\": [{\"marker\": {\"colorbar\": {\"outlinewidth\": 0, \"ticks\": \"\"}}, \"type\": \"scatterternary\"}], \"surface\": [{\"colorbar\": {\"outlinewidth\": 0, \"ticks\": \"\"}, \"colorscale\": [[0.0, \"#0d0887\"], [0.1111111111111111, \"#46039f\"], [0.2222222222222222, \"#7201a8\"], [0.3333333333333333, \"#9c179e\"], [0.4444444444444444, \"#bd3786\"], [0.5555555555555556, \"#d8576b\"], [0.6666666666666666, \"#ed7953\"], [0.7777777777777778, \"#fb9f3a\"], [0.8888888888888888, \"#fdca26\"], [1.0, \"#f0f921\"]], \"type\": \"surface\"}], \"table\": [{\"cells\": {\"fill\": {\"color\": \"#EBF0F8\"}, \"line\": {\"color\": \"white\"}}, \"header\": {\"fill\": {\"color\": \"#C8D4E3\"}, \"line\": {\"color\": \"white\"}}, \"type\": \"table\"}]}, \"layout\": {\"annotationdefaults\": {\"arrowcolor\": \"#2a3f5f\", \"arrowhead\": 0, \"arrowwidth\": 1}, \"coloraxis\": {\"colorbar\": {\"outlinewidth\": 0, \"ticks\": \"\"}}, \"colorscale\": {\"diverging\": [[0, \"#8e0152\"], [0.1, \"#c51b7d\"], [0.2, \"#de77ae\"], [0.3, \"#f1b6da\"], [0.4, \"#fde0ef\"], [0.5, \"#f7f7f7\"], [0.6, \"#e6f5d0\"], [0.7, \"#b8e186\"], [0.8, \"#7fbc41\"], [0.9, \"#4d9221\"], [1, \"#276419\"]], \"sequential\": [[0.0, \"#0d0887\"], [0.1111111111111111, \"#46039f\"], [0.2222222222222222, \"#7201a8\"], [0.3333333333333333, \"#9c179e\"], [0.4444444444444444, \"#bd3786\"], [0.5555555555555556, \"#d8576b\"], [0.6666666666666666, \"#ed7953\"], [0.7777777777777778, \"#fb9f3a\"], [0.8888888888888888, \"#fdca26\"], [1.0, \"#f0f921\"]], \"sequentialminus\": [[0.0, \"#0d0887\"], [0.1111111111111111, \"#46039f\"], [0.2222222222222222, \"#7201a8\"], [0.3333333333333333, \"#9c179e\"], [0.4444444444444444, \"#bd3786\"], [0.5555555555555556, \"#d8576b\"], [0.6666666666666666, \"#ed7953\"], [0.7777777777777778, \"#fb9f3a\"], [0.8888888888888888, \"#fdca26\"], [1.0, \"#f0f921\"]]}, \"colorway\": [\"#636efa\", \"#EF553B\", \"#00cc96\", \"#ab63fa\", \"#FFA15A\", \"#19d3f3\", \"#FF6692\", \"#B6E880\", \"#FF97FF\", \"#FECB52\"], \"font\": {\"color\": \"#2a3f5f\"}, \"geo\": {\"bgcolor\": \"white\", \"lakecolor\": \"white\", \"landcolor\": \"#E5ECF6\", \"showlakes\": true, \"showland\": true, \"subunitcolor\": \"white\"}, \"hoverlabel\": {\"align\": \"left\"}, \"hovermode\": \"closest\", \"mapbox\": {\"style\": \"light\"}, \"paper_bgcolor\": \"white\", \"plot_bgcolor\": \"#E5ECF6\", \"polar\": {\"angularaxis\": {\"gridcolor\": \"white\", \"linecolor\": \"white\", \"ticks\": \"\"}, \"bgcolor\": \"#E5ECF6\", \"radialaxis\": {\"gridcolor\": \"white\", \"linecolor\": \"white\", \"ticks\": \"\"}}, \"scene\": {\"xaxis\": {\"backgroundcolor\": \"#E5ECF6\", \"gridcolor\": \"white\", \"gridwidth\": 2, \"linecolor\": \"white\", \"showbackground\": true, \"ticks\": \"\", \"zerolinecolor\": \"white\"}, \"yaxis\": {\"backgroundcolor\": \"#E5ECF6\", \"gridcolor\": \"white\", \"gridwidth\": 2, \"linecolor\": \"white\", \"showbackground\": true, \"ticks\": \"\", \"zerolinecolor\": \"white\"}, \"zaxis\": {\"backgroundcolor\": \"#E5ECF6\", \"gridcolor\": \"white\", \"gridwidth\": 2, \"linecolor\": \"white\", \"showbackground\": true, \"ticks\": \"\", \"zerolinecolor\": \"white\"}}, \"shapedefaults\": {\"line\": {\"color\": \"#2a3f5f\"}}, \"ternary\": {\"aaxis\": {\"gridcolor\": \"white\", \"linecolor\": \"white\", \"ticks\": \"\"}, \"baxis\": {\"gridcolor\": \"white\", \"linecolor\": \"white\", \"ticks\": \"\"}, \"bgcolor\": \"#E5ECF6\", \"caxis\": {\"gridcolor\": \"white\", \"linecolor\": \"white\", \"ticks\": \"\"}}, \"title\": {\"x\": 0.05}, \"xaxis\": {\"automargin\": true, \"gridcolor\": \"white\", \"linecolor\": \"white\", \"ticks\": \"\", \"title\": {\"standoff\": 15}, \"zerolinecolor\": \"white\", \"zerolinewidth\": 2}, \"yaxis\": {\"automargin\": true, \"gridcolor\": \"white\", \"linecolor\": \"white\", \"ticks\": \"\", \"title\": {\"standoff\": 15}, \"zerolinecolor\": \"white\", \"zerolinewidth\": 2}}}, \"title\": {\"text\": \"Verzerrung [mm] infolge H\\u00f6he und Projektion f\\u00fcr eine Strecke von 1000m\"}, \"xaxis\": {\"anchor\": \"y\", \"domain\": [0.0, 1.0], \"range\": [2700000, 2740000], \"title\": {\"text\": \"E\"}}, \"yaxis\": {\"anchor\": \"x\", \"domain\": [0.0, 1.0], \"range\": [1080000, 1095000], \"title\": {\"text\": \"N\"}}},\n",
       "                        {\"responsive\": true}\n",
       "                    ).then(function(){\n",
       "                            \n",
       "var gd = document.getElementById('87f5addc-811c-4df8-8863-b31ed5f58e57');\n",
       "var x = new MutationObserver(function (mutations, observer) {{\n",
       "        var display = window.getComputedStyle(gd).display;\n",
       "        if (!display || display === 'none') {{\n",
       "            console.log([gd, 'removed!']);\n",
       "            Plotly.purge(gd);\n",
       "            observer.disconnect();\n",
       "        }}\n",
       "}});\n",
       "\n",
       "// Listen for the removal of the full notebook cells\n",
       "var notebookContainer = gd.closest('#notebook-container');\n",
       "if (notebookContainer) {{\n",
       "    x.observe(notebookContainer, {childList: true});\n",
       "}}\n",
       "\n",
       "// Listen for the clearing of the current output cell\n",
       "var outputEl = gd.closest('.output');\n",
       "if (outputEl) {{\n",
       "    x.observe(outputEl, {childList: true});\n",
       "}}\n",
       "\n",
       "                        })\n",
       "                };\n",
       "                });\n",
       "            </script>\n",
       "        </div>"
      ]
     },
     "metadata": {},
     "output_type": "display_data"
    },
    {
     "data": {
      "application/javascript": [
       "\n",
       "            setTimeout(function() {\n",
       "                var nbb_cell_id = 59;\n",
       "                var nbb_unformatted_code = \"fig = px.scatter(\\n    points.values(),\\n    x=\\\"E\\\",\\n    y=\\\"N\\\",\\n    hover_data=[\\\"Name\\\"],\\n    color=\\\"Gesamtfehler [mm]\\\",\\n    size=\\\"Height\\\",\\n    title=f\\\"Verzerrung [mm] infolge H\\u00f6he und Projektion f\\u00fcr eine Strecke von {messung}m\\\",\\n    range_x=[2700000, 2740000],\\n    range_y=[1080000, 1095000],\\n    text=\\\"Name\\\",\\n)\\nfig.show()\";\n",
       "                var nbb_formatted_code = \"fig = px.scatter(\\n    points.values(),\\n    x=\\\"E\\\",\\n    y=\\\"N\\\",\\n    hover_data=[\\\"Name\\\"],\\n    color=\\\"Gesamtfehler [mm]\\\",\\n    size=\\\"Height\\\",\\n    title=f\\\"Verzerrung [mm] infolge H\\u00f6he und Projektion f\\u00fcr eine Strecke von {messung}m\\\",\\n    range_x=[2700000, 2740000],\\n    range_y=[1080000, 1095000],\\n    text=\\\"Name\\\",\\n)\\nfig.show()\";\n",
       "                var nbb_cells = Jupyter.notebook.get_cells();\n",
       "                for (var i = 0; i < nbb_cells.length; ++i) {\n",
       "                    if (nbb_cells[i].input_prompt_number == nbb_cell_id) {\n",
       "                        if (nbb_cells[i].get_text() == nbb_unformatted_code) {\n",
       "                             nbb_cells[i].set_text(nbb_formatted_code);\n",
       "                        }\n",
       "                        break;\n",
       "                    }\n",
       "                }\n",
       "            }, 500);\n",
       "            "
      ],
      "text/plain": [
       "<IPython.core.display.Javascript object>"
      ]
     },
     "metadata": {},
     "output_type": "display_data"
    }
   ],
   "source": [
    "fig = px.scatter(\n",
    "    points.values(),\n",
    "    x=\"E\",\n",
    "    y=\"N\",\n",
    "    hover_data=[\"Name\"],\n",
    "    color=\"Gesamtfehler [mm]\",\n",
    "    size=\"Height\",\n",
    "    title=f\"Verzerrung [mm] infolge Höhe und Projektion für eine Strecke von {messung}m\",\n",
    "    range_x=[2700000, 2740000],\n",
    "    range_y=[1080000, 1095000],\n",
    "    text=\"Name\",\n",
    ")\n",
    "fig.show()"
   ]
  },
  {
   "cell_type": "markdown",
   "metadata": {},
   "source": [
    "### Maximale Distanz [m] für einen gegebenen erlaubten Gesamtfehler"
   ]
  },
  {
   "cell_type": "code",
   "execution_count": 60,
   "metadata": {
    "scrolled": false
   },
   "outputs": [
    {
     "data": {
      "application/vnd.plotly.v1+json": {
       "config": {
        "plotlyServerURL": "https://plot.ly"
       },
       "data": [
        {
         "customdata": [
          [
           "Cadenazzo"
          ],
          [
           "Bern"
          ],
          [
           "Muttenz"
          ],
          [
           "Chessel"
          ],
          [
           "Melano"
          ],
          [
           "Kraftwerk Untere Enge"
          ],
          [
           "Bottinghofen am Bodensee"
          ],
          [
           "Zürich HB"
          ],
          [
           "Boncourt"
          ],
          [
           "CERN"
          ],
          [
           "Neuchatel"
          ],
          [
           "Interlaken Ost"
          ],
          [
           "Campognolo"
          ],
          [
           "Bargen, SH"
          ],
          [
           "Visp"
          ],
          [
           "Langnau"
          ],
          [
           "Vallorbe"
          ],
          [
           "Martina"
          ],
          [
           "Ste-Croix"
          ],
          [
           "Andermatt"
          ],
          [
           "Monte Generoso"
          ],
          [
           "Saas Almagell"
          ],
          [
           "Rigi"
          ],
          [
           "Alp Grüm"
          ],
          [
           "Ofenpass"
          ],
          [
           "Payerne"
          ],
          [
           "Eigergletscher"
          ],
          [
           "Sphinx"
          ],
          [
           "Stausee Mattmark"
          ],
          [
           "Wasserstollen Uetliberg"
          ]
         ],
         "hovertemplate": "E=%{x}<br>N=%{y}<br>Name=%{customdata[0]}<br>max. Distanz [m]=%{marker.color}<extra></extra>",
         "legendgroup": "",
         "marker": {
          "color": [
           163.93749436664865,
           115.23427571622108,
           1314.7911608354955,
           2190.423637515695,
           87.18489068755005,
           127.61114671492489,
           767.6968819083908,
           285.2400920297634,
           402.6775697049376,
           1315.3434620099265,
           133.67476402211068,
           127.14885566642911,
           554.6022795438745,
           723.3789781142788,
           272.7440620675377,
           92.95183608193904,
           84.55199977055294,
           61.74049353792489,
           59.58070561673411,
           47.490690751797224,
           103.72364765008999,
           66.34034874567956,
           35.74194513321878,
           35.426795475416796,
           30.72941377755616,
           147.42334831304905,
           28.793940393553576,
           18.693910766924137,
           45.25734566932658,
           290.33983905643214
          ],
          "coloraxis": "coloraxis",
          "symbol": "circle"
         },
         "mode": "markers",
         "name": "",
         "showlegend": false,
         "type": "scatter",
         "x": [
          2715783.3,
          2600000,
          2615766.2,
          2558128.3,
          2719998.3,
          2600259.5,
          2733173.3,
          2682858.2,
          2568683.3,
          2493320,
          2561781.7,
          2633121.1,
          2808405,
          2687782.5,
          2634147.9,
          2626370.8,
          2518397.5,
          2830592.5,
          2528490,
          2688434.1,
          2722608.3,
          2640122.9,
          2679520.05,
          2799454.8,
          2818462.9,
          2561992.8,
          2641168.5,
          2641911,
          2639939.2,
          2679000
         ],
         "xaxis": "x",
         "y": [
          1112721.7,
          1200000,
          1264806.3,
          1133230,
          1086300,
          1201114,
          1278503.3,
          1248258,
          1260400,
          1121229,
          1205267.3,
          1171210.3,
          1123758.3,
          1294123.3,
          1127065.8,
          1199011.7,
          1174126.7,
          1197083.5,
          1186306.7,
          1165702.5,
          1087610,
          1104891.7,
          1212273.44,
          1139211.2,
          1169362.9,
          1186360.8,
          1158376.8,
          1155280,
          1099723.3,
          1245500
         ],
         "yaxis": "y"
        }
       ],
       "layout": {
        "coloraxis": {
         "colorbar": {
          "title": {
           "text": "max. Distanz [m]"
          }
         },
         "colorscale": [
          [
           0,
           "#0d0887"
          ],
          [
           0.1111111111111111,
           "#46039f"
          ],
          [
           0.2222222222222222,
           "#7201a8"
          ],
          [
           0.3333333333333333,
           "#9c179e"
          ],
          [
           0.4444444444444444,
           "#bd3786"
          ],
          [
           0.5555555555555556,
           "#d8576b"
          ],
          [
           0.6666666666666666,
           "#ed7953"
          ],
          [
           0.7777777777777778,
           "#fb9f3a"
          ],
          [
           0.8888888888888888,
           "#fdca26"
          ],
          [
           1,
           "#f0f921"
          ]
         ]
        },
        "legend": {
         "tracegroupgap": 0
        },
        "template": {
         "data": {
          "bar": [
           {
            "error_x": {
             "color": "#2a3f5f"
            },
            "error_y": {
             "color": "#2a3f5f"
            },
            "marker": {
             "line": {
              "color": "#E5ECF6",
              "width": 0.5
             }
            },
            "type": "bar"
           }
          ],
          "barpolar": [
           {
            "marker": {
             "line": {
              "color": "#E5ECF6",
              "width": 0.5
             }
            },
            "type": "barpolar"
           }
          ],
          "carpet": [
           {
            "aaxis": {
             "endlinecolor": "#2a3f5f",
             "gridcolor": "white",
             "linecolor": "white",
             "minorgridcolor": "white",
             "startlinecolor": "#2a3f5f"
            },
            "baxis": {
             "endlinecolor": "#2a3f5f",
             "gridcolor": "white",
             "linecolor": "white",
             "minorgridcolor": "white",
             "startlinecolor": "#2a3f5f"
            },
            "type": "carpet"
           }
          ],
          "choropleth": [
           {
            "colorbar": {
             "outlinewidth": 0,
             "ticks": ""
            },
            "type": "choropleth"
           }
          ],
          "contour": [
           {
            "colorbar": {
             "outlinewidth": 0,
             "ticks": ""
            },
            "colorscale": [
             [
              0,
              "#0d0887"
             ],
             [
              0.1111111111111111,
              "#46039f"
             ],
             [
              0.2222222222222222,
              "#7201a8"
             ],
             [
              0.3333333333333333,
              "#9c179e"
             ],
             [
              0.4444444444444444,
              "#bd3786"
             ],
             [
              0.5555555555555556,
              "#d8576b"
             ],
             [
              0.6666666666666666,
              "#ed7953"
             ],
             [
              0.7777777777777778,
              "#fb9f3a"
             ],
             [
              0.8888888888888888,
              "#fdca26"
             ],
             [
              1,
              "#f0f921"
             ]
            ],
            "type": "contour"
           }
          ],
          "contourcarpet": [
           {
            "colorbar": {
             "outlinewidth": 0,
             "ticks": ""
            },
            "type": "contourcarpet"
           }
          ],
          "heatmap": [
           {
            "colorbar": {
             "outlinewidth": 0,
             "ticks": ""
            },
            "colorscale": [
             [
              0,
              "#0d0887"
             ],
             [
              0.1111111111111111,
              "#46039f"
             ],
             [
              0.2222222222222222,
              "#7201a8"
             ],
             [
              0.3333333333333333,
              "#9c179e"
             ],
             [
              0.4444444444444444,
              "#bd3786"
             ],
             [
              0.5555555555555556,
              "#d8576b"
             ],
             [
              0.6666666666666666,
              "#ed7953"
             ],
             [
              0.7777777777777778,
              "#fb9f3a"
             ],
             [
              0.8888888888888888,
              "#fdca26"
             ],
             [
              1,
              "#f0f921"
             ]
            ],
            "type": "heatmap"
           }
          ],
          "heatmapgl": [
           {
            "colorbar": {
             "outlinewidth": 0,
             "ticks": ""
            },
            "colorscale": [
             [
              0,
              "#0d0887"
             ],
             [
              0.1111111111111111,
              "#46039f"
             ],
             [
              0.2222222222222222,
              "#7201a8"
             ],
             [
              0.3333333333333333,
              "#9c179e"
             ],
             [
              0.4444444444444444,
              "#bd3786"
             ],
             [
              0.5555555555555556,
              "#d8576b"
             ],
             [
              0.6666666666666666,
              "#ed7953"
             ],
             [
              0.7777777777777778,
              "#fb9f3a"
             ],
             [
              0.8888888888888888,
              "#fdca26"
             ],
             [
              1,
              "#f0f921"
             ]
            ],
            "type": "heatmapgl"
           }
          ],
          "histogram": [
           {
            "marker": {
             "colorbar": {
              "outlinewidth": 0,
              "ticks": ""
             }
            },
            "type": "histogram"
           }
          ],
          "histogram2d": [
           {
            "colorbar": {
             "outlinewidth": 0,
             "ticks": ""
            },
            "colorscale": [
             [
              0,
              "#0d0887"
             ],
             [
              0.1111111111111111,
              "#46039f"
             ],
             [
              0.2222222222222222,
              "#7201a8"
             ],
             [
              0.3333333333333333,
              "#9c179e"
             ],
             [
              0.4444444444444444,
              "#bd3786"
             ],
             [
              0.5555555555555556,
              "#d8576b"
             ],
             [
              0.6666666666666666,
              "#ed7953"
             ],
             [
              0.7777777777777778,
              "#fb9f3a"
             ],
             [
              0.8888888888888888,
              "#fdca26"
             ],
             [
              1,
              "#f0f921"
             ]
            ],
            "type": "histogram2d"
           }
          ],
          "histogram2dcontour": [
           {
            "colorbar": {
             "outlinewidth": 0,
             "ticks": ""
            },
            "colorscale": [
             [
              0,
              "#0d0887"
             ],
             [
              0.1111111111111111,
              "#46039f"
             ],
             [
              0.2222222222222222,
              "#7201a8"
             ],
             [
              0.3333333333333333,
              "#9c179e"
             ],
             [
              0.4444444444444444,
              "#bd3786"
             ],
             [
              0.5555555555555556,
              "#d8576b"
             ],
             [
              0.6666666666666666,
              "#ed7953"
             ],
             [
              0.7777777777777778,
              "#fb9f3a"
             ],
             [
              0.8888888888888888,
              "#fdca26"
             ],
             [
              1,
              "#f0f921"
             ]
            ],
            "type": "histogram2dcontour"
           }
          ],
          "mesh3d": [
           {
            "colorbar": {
             "outlinewidth": 0,
             "ticks": ""
            },
            "type": "mesh3d"
           }
          ],
          "parcoords": [
           {
            "line": {
             "colorbar": {
              "outlinewidth": 0,
              "ticks": ""
             }
            },
            "type": "parcoords"
           }
          ],
          "pie": [
           {
            "automargin": true,
            "type": "pie"
           }
          ],
          "scatter": [
           {
            "marker": {
             "colorbar": {
              "outlinewidth": 0,
              "ticks": ""
             }
            },
            "type": "scatter"
           }
          ],
          "scatter3d": [
           {
            "line": {
             "colorbar": {
              "outlinewidth": 0,
              "ticks": ""
             }
            },
            "marker": {
             "colorbar": {
              "outlinewidth": 0,
              "ticks": ""
             }
            },
            "type": "scatter3d"
           }
          ],
          "scattercarpet": [
           {
            "marker": {
             "colorbar": {
              "outlinewidth": 0,
              "ticks": ""
             }
            },
            "type": "scattercarpet"
           }
          ],
          "scattergeo": [
           {
            "marker": {
             "colorbar": {
              "outlinewidth": 0,
              "ticks": ""
             }
            },
            "type": "scattergeo"
           }
          ],
          "scattergl": [
           {
            "marker": {
             "colorbar": {
              "outlinewidth": 0,
              "ticks": ""
             }
            },
            "type": "scattergl"
           }
          ],
          "scattermapbox": [
           {
            "marker": {
             "colorbar": {
              "outlinewidth": 0,
              "ticks": ""
             }
            },
            "type": "scattermapbox"
           }
          ],
          "scatterpolar": [
           {
            "marker": {
             "colorbar": {
              "outlinewidth": 0,
              "ticks": ""
             }
            },
            "type": "scatterpolar"
           }
          ],
          "scatterpolargl": [
           {
            "marker": {
             "colorbar": {
              "outlinewidth": 0,
              "ticks": ""
             }
            },
            "type": "scatterpolargl"
           }
          ],
          "scatterternary": [
           {
            "marker": {
             "colorbar": {
              "outlinewidth": 0,
              "ticks": ""
             }
            },
            "type": "scatterternary"
           }
          ],
          "surface": [
           {
            "colorbar": {
             "outlinewidth": 0,
             "ticks": ""
            },
            "colorscale": [
             [
              0,
              "#0d0887"
             ],
             [
              0.1111111111111111,
              "#46039f"
             ],
             [
              0.2222222222222222,
              "#7201a8"
             ],
             [
              0.3333333333333333,
              "#9c179e"
             ],
             [
              0.4444444444444444,
              "#bd3786"
             ],
             [
              0.5555555555555556,
              "#d8576b"
             ],
             [
              0.6666666666666666,
              "#ed7953"
             ],
             [
              0.7777777777777778,
              "#fb9f3a"
             ],
             [
              0.8888888888888888,
              "#fdca26"
             ],
             [
              1,
              "#f0f921"
             ]
            ],
            "type": "surface"
           }
          ],
          "table": [
           {
            "cells": {
             "fill": {
              "color": "#EBF0F8"
             },
             "line": {
              "color": "white"
             }
            },
            "header": {
             "fill": {
              "color": "#C8D4E3"
             },
             "line": {
              "color": "white"
             }
            },
            "type": "table"
           }
          ]
         },
         "layout": {
          "annotationdefaults": {
           "arrowcolor": "#2a3f5f",
           "arrowhead": 0,
           "arrowwidth": 1
          },
          "coloraxis": {
           "colorbar": {
            "outlinewidth": 0,
            "ticks": ""
           }
          },
          "colorscale": {
           "diverging": [
            [
             0,
             "#8e0152"
            ],
            [
             0.1,
             "#c51b7d"
            ],
            [
             0.2,
             "#de77ae"
            ],
            [
             0.3,
             "#f1b6da"
            ],
            [
             0.4,
             "#fde0ef"
            ],
            [
             0.5,
             "#f7f7f7"
            ],
            [
             0.6,
             "#e6f5d0"
            ],
            [
             0.7,
             "#b8e186"
            ],
            [
             0.8,
             "#7fbc41"
            ],
            [
             0.9,
             "#4d9221"
            ],
            [
             1,
             "#276419"
            ]
           ],
           "sequential": [
            [
             0,
             "#0d0887"
            ],
            [
             0.1111111111111111,
             "#46039f"
            ],
            [
             0.2222222222222222,
             "#7201a8"
            ],
            [
             0.3333333333333333,
             "#9c179e"
            ],
            [
             0.4444444444444444,
             "#bd3786"
            ],
            [
             0.5555555555555556,
             "#d8576b"
            ],
            [
             0.6666666666666666,
             "#ed7953"
            ],
            [
             0.7777777777777778,
             "#fb9f3a"
            ],
            [
             0.8888888888888888,
             "#fdca26"
            ],
            [
             1,
             "#f0f921"
            ]
           ],
           "sequentialminus": [
            [
             0,
             "#0d0887"
            ],
            [
             0.1111111111111111,
             "#46039f"
            ],
            [
             0.2222222222222222,
             "#7201a8"
            ],
            [
             0.3333333333333333,
             "#9c179e"
            ],
            [
             0.4444444444444444,
             "#bd3786"
            ],
            [
             0.5555555555555556,
             "#d8576b"
            ],
            [
             0.6666666666666666,
             "#ed7953"
            ],
            [
             0.7777777777777778,
             "#fb9f3a"
            ],
            [
             0.8888888888888888,
             "#fdca26"
            ],
            [
             1,
             "#f0f921"
            ]
           ]
          },
          "colorway": [
           "#636efa",
           "#EF553B",
           "#00cc96",
           "#ab63fa",
           "#FFA15A",
           "#19d3f3",
           "#FF6692",
           "#B6E880",
           "#FF97FF",
           "#FECB52"
          ],
          "font": {
           "color": "#2a3f5f"
          },
          "geo": {
           "bgcolor": "white",
           "lakecolor": "white",
           "landcolor": "#E5ECF6",
           "showlakes": true,
           "showland": true,
           "subunitcolor": "white"
          },
          "hoverlabel": {
           "align": "left"
          },
          "hovermode": "closest",
          "mapbox": {
           "style": "light"
          },
          "paper_bgcolor": "white",
          "plot_bgcolor": "#E5ECF6",
          "polar": {
           "angularaxis": {
            "gridcolor": "white",
            "linecolor": "white",
            "ticks": ""
           },
           "bgcolor": "#E5ECF6",
           "radialaxis": {
            "gridcolor": "white",
            "linecolor": "white",
            "ticks": ""
           }
          },
          "scene": {
           "xaxis": {
            "backgroundcolor": "#E5ECF6",
            "gridcolor": "white",
            "gridwidth": 2,
            "linecolor": "white",
            "showbackground": true,
            "ticks": "",
            "zerolinecolor": "white"
           },
           "yaxis": {
            "backgroundcolor": "#E5ECF6",
            "gridcolor": "white",
            "gridwidth": 2,
            "linecolor": "white",
            "showbackground": true,
            "ticks": "",
            "zerolinecolor": "white"
           },
           "zaxis": {
            "backgroundcolor": "#E5ECF6",
            "gridcolor": "white",
            "gridwidth": 2,
            "linecolor": "white",
            "showbackground": true,
            "ticks": "",
            "zerolinecolor": "white"
           }
          },
          "shapedefaults": {
           "line": {
            "color": "#2a3f5f"
           }
          },
          "ternary": {
           "aaxis": {
            "gridcolor": "white",
            "linecolor": "white",
            "ticks": ""
           },
           "baxis": {
            "gridcolor": "white",
            "linecolor": "white",
            "ticks": ""
           },
           "bgcolor": "#E5ECF6",
           "caxis": {
            "gridcolor": "white",
            "linecolor": "white",
            "ticks": ""
           }
          },
          "title": {
           "x": 0.05
          },
          "xaxis": {
           "automargin": true,
           "gridcolor": "white",
           "linecolor": "white",
           "ticks": "",
           "title": {
            "standoff": 15
           },
           "zerolinecolor": "white",
           "zerolinewidth": 2
          },
          "yaxis": {
           "automargin": true,
           "gridcolor": "white",
           "linecolor": "white",
           "ticks": "",
           "title": {
            "standoff": 15
           },
           "zerolinecolor": "white",
           "zerolinewidth": 2
          }
         }
        },
        "title": {
         "text": "Maximale Distanz [m] für eine akzeptierte Gesamtverzerrung von 10 mm"
        },
        "xaxis": {
         "anchor": "y",
         "domain": [
          0,
          1
         ],
         "title": {
          "text": "E"
         }
        },
        "yaxis": {
         "anchor": "x",
         "domain": [
          0,
          1
         ],
         "title": {
          "text": "N"
         }
        }
       }
      },
      "text/html": [
       "<div>\n",
       "        \n",
       "        \n",
       "            <div id=\"75ed41de-8589-4ec3-9ae7-d87b24ee28d6\" class=\"plotly-graph-div\" style=\"height:525px; width:100%;\"></div>\n",
       "            <script type=\"text/javascript\">\n",
       "                require([\"plotly\"], function(Plotly) {\n",
       "                    window.PLOTLYENV=window.PLOTLYENV || {};\n",
       "                    \n",
       "                if (document.getElementById(\"75ed41de-8589-4ec3-9ae7-d87b24ee28d6\")) {\n",
       "                    Plotly.newPlot(\n",
       "                        '75ed41de-8589-4ec3-9ae7-d87b24ee28d6',\n",
       "                        [{\"customdata\": [[\"Cadenazzo\"], [\"Bern\"], [\"Muttenz\"], [\"Chessel\"], [\"Melano\"], [\"Kraftwerk Untere Enge\"], [\"Bottinghofen am Bodensee\"], [\"Z\\u00fcrich HB\"], [\"Boncourt\"], [\"CERN\"], [\"Neuchatel\"], [\"Interlaken Ost\"], [\"Campognolo\"], [\"Bargen, SH\"], [\"Visp\"], [\"Langnau\"], [\"Vallorbe\"], [\"Martina\"], [\"Ste-Croix\"], [\"Andermatt\"], [\"Monte Generoso\"], [\"Saas Almagell\"], [\"Rigi\"], [\"Alp Gr\\u00fcm\"], [\"Ofenpass\"], [\"Payerne\"], [\"Eigergletscher\"], [\"Sphinx\"], [\"Stausee Mattmark\"], [\"Wasserstollen Uetliberg\"]], \"hovertemplate\": \"E=%{x}<br>N=%{y}<br>Name=%{customdata[0]}<br>max. Distanz [m]=%{marker.color}<extra></extra>\", \"legendgroup\": \"\", \"marker\": {\"color\": [163.93749436664865, 115.23427571622108, 1314.7911608354955, 2190.423637515695, 87.18489068755005, 127.61114671492489, 767.6968819083908, 285.2400920297634, 402.6775697049376, 1315.3434620099265, 133.67476402211068, 127.14885566642911, 554.6022795438745, 723.3789781142788, 272.7440620675377, 92.95183608193904, 84.55199977055294, 61.74049353792489, 59.58070561673411, 47.490690751797224, 103.72364765008999, 66.34034874567956, 35.74194513321878, 35.426795475416796, 30.72941377755616, 147.42334831304905, 28.793940393553576, 18.693910766924137, 45.25734566932658, 290.33983905643214], \"coloraxis\": \"coloraxis\", \"symbol\": \"circle\"}, \"mode\": \"markers\", \"name\": \"\", \"showlegend\": false, \"type\": \"scatter\", \"x\": [2715783.3, 2600000.0, 2615766.2, 2558128.3, 2719998.3, 2600259.5, 2733173.3, 2682858.2, 2568683.3, 2493320.0, 2561781.7, 2633121.1, 2808405.0, 2687782.5, 2634147.9, 2626370.8, 2518397.5, 2830592.5, 2528490.0, 2688434.1, 2722608.3, 2640122.9, 2679520.05, 2799454.8, 2818462.9, 2561992.8, 2641168.5, 2641911.0, 2639939.2, 2679000.0], \"xaxis\": \"x\", \"y\": [1112721.7, 1200000.0, 1264806.3, 1133230.0, 1086300.0, 1201114.0, 1278503.3, 1248258.0, 1260400.0, 1121229.0, 1205267.3, 1171210.3, 1123758.3, 1294123.3, 1127065.8, 1199011.7, 1174126.7, 1197083.5, 1186306.7, 1165702.5, 1087610.0, 1104891.7, 1212273.44, 1139211.2, 1169362.9, 1186360.8, 1158376.8, 1155280.0, 1099723.3, 1245500.0], \"yaxis\": \"y\"}],\n",
       "                        {\"coloraxis\": {\"colorbar\": {\"title\": {\"text\": \"max. Distanz [m]\"}}, \"colorscale\": [[0.0, \"#0d0887\"], [0.1111111111111111, \"#46039f\"], [0.2222222222222222, \"#7201a8\"], [0.3333333333333333, \"#9c179e\"], [0.4444444444444444, \"#bd3786\"], [0.5555555555555556, \"#d8576b\"], [0.6666666666666666, \"#ed7953\"], [0.7777777777777778, \"#fb9f3a\"], [0.8888888888888888, \"#fdca26\"], [1.0, \"#f0f921\"]]}, \"legend\": {\"tracegroupgap\": 0}, \"template\": {\"data\": {\"bar\": [{\"error_x\": {\"color\": \"#2a3f5f\"}, \"error_y\": {\"color\": \"#2a3f5f\"}, \"marker\": {\"line\": {\"color\": \"#E5ECF6\", \"width\": 0.5}}, \"type\": \"bar\"}], \"barpolar\": [{\"marker\": {\"line\": {\"color\": \"#E5ECF6\", \"width\": 0.5}}, \"type\": \"barpolar\"}], \"carpet\": [{\"aaxis\": {\"endlinecolor\": \"#2a3f5f\", \"gridcolor\": \"white\", \"linecolor\": \"white\", \"minorgridcolor\": \"white\", \"startlinecolor\": \"#2a3f5f\"}, \"baxis\": {\"endlinecolor\": \"#2a3f5f\", \"gridcolor\": \"white\", \"linecolor\": \"white\", \"minorgridcolor\": \"white\", \"startlinecolor\": \"#2a3f5f\"}, \"type\": \"carpet\"}], \"choropleth\": [{\"colorbar\": {\"outlinewidth\": 0, \"ticks\": \"\"}, \"type\": \"choropleth\"}], \"contour\": [{\"colorbar\": {\"outlinewidth\": 0, \"ticks\": \"\"}, \"colorscale\": [[0.0, \"#0d0887\"], [0.1111111111111111, \"#46039f\"], [0.2222222222222222, \"#7201a8\"], [0.3333333333333333, \"#9c179e\"], [0.4444444444444444, \"#bd3786\"], [0.5555555555555556, \"#d8576b\"], [0.6666666666666666, \"#ed7953\"], [0.7777777777777778, \"#fb9f3a\"], [0.8888888888888888, \"#fdca26\"], [1.0, \"#f0f921\"]], \"type\": \"contour\"}], \"contourcarpet\": [{\"colorbar\": {\"outlinewidth\": 0, \"ticks\": \"\"}, \"type\": \"contourcarpet\"}], \"heatmap\": [{\"colorbar\": {\"outlinewidth\": 0, \"ticks\": \"\"}, \"colorscale\": [[0.0, \"#0d0887\"], [0.1111111111111111, \"#46039f\"], [0.2222222222222222, \"#7201a8\"], [0.3333333333333333, \"#9c179e\"], [0.4444444444444444, \"#bd3786\"], [0.5555555555555556, \"#d8576b\"], [0.6666666666666666, \"#ed7953\"], [0.7777777777777778, \"#fb9f3a\"], [0.8888888888888888, \"#fdca26\"], [1.0, \"#f0f921\"]], \"type\": \"heatmap\"}], \"heatmapgl\": [{\"colorbar\": {\"outlinewidth\": 0, \"ticks\": \"\"}, \"colorscale\": [[0.0, \"#0d0887\"], [0.1111111111111111, \"#46039f\"], [0.2222222222222222, \"#7201a8\"], [0.3333333333333333, \"#9c179e\"], [0.4444444444444444, \"#bd3786\"], [0.5555555555555556, \"#d8576b\"], [0.6666666666666666, \"#ed7953\"], [0.7777777777777778, \"#fb9f3a\"], [0.8888888888888888, \"#fdca26\"], [1.0, \"#f0f921\"]], \"type\": \"heatmapgl\"}], \"histogram\": [{\"marker\": {\"colorbar\": {\"outlinewidth\": 0, \"ticks\": \"\"}}, \"type\": \"histogram\"}], \"histogram2d\": [{\"colorbar\": {\"outlinewidth\": 0, \"ticks\": \"\"}, \"colorscale\": [[0.0, \"#0d0887\"], [0.1111111111111111, \"#46039f\"], [0.2222222222222222, \"#7201a8\"], [0.3333333333333333, \"#9c179e\"], [0.4444444444444444, \"#bd3786\"], [0.5555555555555556, \"#d8576b\"], [0.6666666666666666, \"#ed7953\"], [0.7777777777777778, \"#fb9f3a\"], [0.8888888888888888, \"#fdca26\"], [1.0, \"#f0f921\"]], \"type\": \"histogram2d\"}], \"histogram2dcontour\": [{\"colorbar\": {\"outlinewidth\": 0, \"ticks\": \"\"}, \"colorscale\": [[0.0, \"#0d0887\"], [0.1111111111111111, \"#46039f\"], [0.2222222222222222, \"#7201a8\"], [0.3333333333333333, \"#9c179e\"], [0.4444444444444444, \"#bd3786\"], [0.5555555555555556, \"#d8576b\"], [0.6666666666666666, \"#ed7953\"], [0.7777777777777778, \"#fb9f3a\"], [0.8888888888888888, \"#fdca26\"], [1.0, \"#f0f921\"]], \"type\": \"histogram2dcontour\"}], \"mesh3d\": [{\"colorbar\": {\"outlinewidth\": 0, \"ticks\": \"\"}, \"type\": \"mesh3d\"}], \"parcoords\": [{\"line\": {\"colorbar\": {\"outlinewidth\": 0, \"ticks\": \"\"}}, \"type\": \"parcoords\"}], \"pie\": [{\"automargin\": true, \"type\": \"pie\"}], \"scatter\": [{\"marker\": {\"colorbar\": {\"outlinewidth\": 0, \"ticks\": \"\"}}, \"type\": \"scatter\"}], \"scatter3d\": [{\"line\": {\"colorbar\": {\"outlinewidth\": 0, \"ticks\": \"\"}}, \"marker\": {\"colorbar\": {\"outlinewidth\": 0, \"ticks\": \"\"}}, \"type\": \"scatter3d\"}], \"scattercarpet\": [{\"marker\": {\"colorbar\": {\"outlinewidth\": 0, \"ticks\": \"\"}}, \"type\": \"scattercarpet\"}], \"scattergeo\": [{\"marker\": {\"colorbar\": {\"outlinewidth\": 0, \"ticks\": \"\"}}, \"type\": \"scattergeo\"}], \"scattergl\": [{\"marker\": {\"colorbar\": {\"outlinewidth\": 0, \"ticks\": \"\"}}, \"type\": \"scattergl\"}], \"scattermapbox\": [{\"marker\": {\"colorbar\": {\"outlinewidth\": 0, \"ticks\": \"\"}}, \"type\": \"scattermapbox\"}], \"scatterpolar\": [{\"marker\": {\"colorbar\": {\"outlinewidth\": 0, \"ticks\": \"\"}}, \"type\": \"scatterpolar\"}], \"scatterpolargl\": [{\"marker\": {\"colorbar\": {\"outlinewidth\": 0, \"ticks\": \"\"}}, \"type\": \"scatterpolargl\"}], \"scatterternary\": [{\"marker\": {\"colorbar\": {\"outlinewidth\": 0, \"ticks\": \"\"}}, \"type\": \"scatterternary\"}], \"surface\": [{\"colorbar\": {\"outlinewidth\": 0, \"ticks\": \"\"}, \"colorscale\": [[0.0, \"#0d0887\"], [0.1111111111111111, \"#46039f\"], [0.2222222222222222, \"#7201a8\"], [0.3333333333333333, \"#9c179e\"], [0.4444444444444444, \"#bd3786\"], [0.5555555555555556, \"#d8576b\"], [0.6666666666666666, \"#ed7953\"], [0.7777777777777778, \"#fb9f3a\"], [0.8888888888888888, \"#fdca26\"], [1.0, \"#f0f921\"]], \"type\": \"surface\"}], \"table\": [{\"cells\": {\"fill\": {\"color\": \"#EBF0F8\"}, \"line\": {\"color\": \"white\"}}, \"header\": {\"fill\": {\"color\": \"#C8D4E3\"}, \"line\": {\"color\": \"white\"}}, \"type\": \"table\"}]}, \"layout\": {\"annotationdefaults\": {\"arrowcolor\": \"#2a3f5f\", \"arrowhead\": 0, \"arrowwidth\": 1}, \"coloraxis\": {\"colorbar\": {\"outlinewidth\": 0, \"ticks\": \"\"}}, \"colorscale\": {\"diverging\": [[0, \"#8e0152\"], [0.1, \"#c51b7d\"], [0.2, \"#de77ae\"], [0.3, \"#f1b6da\"], [0.4, \"#fde0ef\"], [0.5, \"#f7f7f7\"], [0.6, \"#e6f5d0\"], [0.7, \"#b8e186\"], [0.8, \"#7fbc41\"], [0.9, \"#4d9221\"], [1, \"#276419\"]], \"sequential\": [[0.0, \"#0d0887\"], [0.1111111111111111, \"#46039f\"], [0.2222222222222222, \"#7201a8\"], [0.3333333333333333, \"#9c179e\"], [0.4444444444444444, \"#bd3786\"], [0.5555555555555556, \"#d8576b\"], [0.6666666666666666, \"#ed7953\"], [0.7777777777777778, \"#fb9f3a\"], [0.8888888888888888, \"#fdca26\"], [1.0, \"#f0f921\"]], \"sequentialminus\": [[0.0, \"#0d0887\"], [0.1111111111111111, \"#46039f\"], [0.2222222222222222, \"#7201a8\"], [0.3333333333333333, \"#9c179e\"], [0.4444444444444444, \"#bd3786\"], [0.5555555555555556, \"#d8576b\"], [0.6666666666666666, \"#ed7953\"], [0.7777777777777778, \"#fb9f3a\"], [0.8888888888888888, \"#fdca26\"], [1.0, \"#f0f921\"]]}, \"colorway\": [\"#636efa\", \"#EF553B\", \"#00cc96\", \"#ab63fa\", \"#FFA15A\", \"#19d3f3\", \"#FF6692\", \"#B6E880\", \"#FF97FF\", \"#FECB52\"], \"font\": {\"color\": \"#2a3f5f\"}, \"geo\": {\"bgcolor\": \"white\", \"lakecolor\": \"white\", \"landcolor\": \"#E5ECF6\", \"showlakes\": true, \"showland\": true, \"subunitcolor\": \"white\"}, \"hoverlabel\": {\"align\": \"left\"}, \"hovermode\": \"closest\", \"mapbox\": {\"style\": \"light\"}, \"paper_bgcolor\": \"white\", \"plot_bgcolor\": \"#E5ECF6\", \"polar\": {\"angularaxis\": {\"gridcolor\": \"white\", \"linecolor\": \"white\", \"ticks\": \"\"}, \"bgcolor\": \"#E5ECF6\", \"radialaxis\": {\"gridcolor\": \"white\", \"linecolor\": \"white\", \"ticks\": \"\"}}, \"scene\": {\"xaxis\": {\"backgroundcolor\": \"#E5ECF6\", \"gridcolor\": \"white\", \"gridwidth\": 2, \"linecolor\": \"white\", \"showbackground\": true, \"ticks\": \"\", \"zerolinecolor\": \"white\"}, \"yaxis\": {\"backgroundcolor\": \"#E5ECF6\", \"gridcolor\": \"white\", \"gridwidth\": 2, \"linecolor\": \"white\", \"showbackground\": true, \"ticks\": \"\", \"zerolinecolor\": \"white\"}, \"zaxis\": {\"backgroundcolor\": \"#E5ECF6\", \"gridcolor\": \"white\", \"gridwidth\": 2, \"linecolor\": \"white\", \"showbackground\": true, \"ticks\": \"\", \"zerolinecolor\": \"white\"}}, \"shapedefaults\": {\"line\": {\"color\": \"#2a3f5f\"}}, \"ternary\": {\"aaxis\": {\"gridcolor\": \"white\", \"linecolor\": \"white\", \"ticks\": \"\"}, \"baxis\": {\"gridcolor\": \"white\", \"linecolor\": \"white\", \"ticks\": \"\"}, \"bgcolor\": \"#E5ECF6\", \"caxis\": {\"gridcolor\": \"white\", \"linecolor\": \"white\", \"ticks\": \"\"}}, \"title\": {\"x\": 0.05}, \"xaxis\": {\"automargin\": true, \"gridcolor\": \"white\", \"linecolor\": \"white\", \"ticks\": \"\", \"title\": {\"standoff\": 15}, \"zerolinecolor\": \"white\", \"zerolinewidth\": 2}, \"yaxis\": {\"automargin\": true, \"gridcolor\": \"white\", \"linecolor\": \"white\", \"ticks\": \"\", \"title\": {\"standoff\": 15}, \"zerolinecolor\": \"white\", \"zerolinewidth\": 2}}}, \"title\": {\"text\": \"Maximale Distanz [m] f\\u00fcr eine akzeptierte Gesamtverzerrung von 10 mm\"}, \"xaxis\": {\"anchor\": \"y\", \"domain\": [0.0, 1.0], \"title\": {\"text\": \"E\"}}, \"yaxis\": {\"anchor\": \"x\", \"domain\": [0.0, 1.0], \"title\": {\"text\": \"N\"}}},\n",
       "                        {\"responsive\": true}\n",
       "                    ).then(function(){\n",
       "                            \n",
       "var gd = document.getElementById('75ed41de-8589-4ec3-9ae7-d87b24ee28d6');\n",
       "var x = new MutationObserver(function (mutations, observer) {{\n",
       "        var display = window.getComputedStyle(gd).display;\n",
       "        if (!display || display === 'none') {{\n",
       "            console.log([gd, 'removed!']);\n",
       "            Plotly.purge(gd);\n",
       "            observer.disconnect();\n",
       "        }}\n",
       "}});\n",
       "\n",
       "// Listen for the removal of the full notebook cells\n",
       "var notebookContainer = gd.closest('#notebook-container');\n",
       "if (notebookContainer) {{\n",
       "    x.observe(notebookContainer, {childList: true});\n",
       "}}\n",
       "\n",
       "// Listen for the clearing of the current output cell\n",
       "var outputEl = gd.closest('.output');\n",
       "if (outputEl) {{\n",
       "    x.observe(outputEl, {childList: true});\n",
       "}}\n",
       "\n",
       "                        })\n",
       "                };\n",
       "                });\n",
       "            </script>\n",
       "        </div>"
      ]
     },
     "metadata": {},
     "output_type": "display_data"
    },
    {
     "data": {
      "application/javascript": [
       "\n",
       "            setTimeout(function() {\n",
       "                var nbb_cell_id = 60;\n",
       "                var nbb_unformatted_code = \"fig = px.scatter(\\n    points.values(),\\n    x=\\\"E\\\",\\n    y=\\\"N\\\",\\n    hover_data=[\\\"Name\\\"],\\n    color=\\\"max. Distanz [m]\\\",\\n    title=f\\\"Maximale Distanz [m] f\\u00fcr eine akzeptierte Gesamtverzerrung von {max_error} mm\\\",\\n)\\n\\nfig.show()\";\n",
       "                var nbb_formatted_code = \"fig = px.scatter(\\n    points.values(),\\n    x=\\\"E\\\",\\n    y=\\\"N\\\",\\n    hover_data=[\\\"Name\\\"],\\n    color=\\\"max. Distanz [m]\\\",\\n    title=f\\\"Maximale Distanz [m] f\\u00fcr eine akzeptierte Gesamtverzerrung von {max_error} mm\\\",\\n)\\n\\nfig.show()\";\n",
       "                var nbb_cells = Jupyter.notebook.get_cells();\n",
       "                for (var i = 0; i < nbb_cells.length; ++i) {\n",
       "                    if (nbb_cells[i].input_prompt_number == nbb_cell_id) {\n",
       "                        if (nbb_cells[i].get_text() == nbb_unformatted_code) {\n",
       "                             nbb_cells[i].set_text(nbb_formatted_code);\n",
       "                        }\n",
       "                        break;\n",
       "                    }\n",
       "                }\n",
       "            }, 500);\n",
       "            "
      ],
      "text/plain": [
       "<IPython.core.display.Javascript object>"
      ]
     },
     "metadata": {},
     "output_type": "display_data"
    }
   ],
   "source": [
    "fig = px.scatter(\n",
    "    points.values(),\n",
    "    x=\"E\",\n",
    "    y=\"N\",\n",
    "    hover_data=[\"Name\"],\n",
    "    color=\"max. Distanz [m]\",\n",
    "    title=f\"Maximale Distanz [m] für eine akzeptierte Gesamtverzerrung von {max_error} mm\",\n",
    ")\n",
    "\n",
    "fig.show()"
   ]
  },
  {
   "cell_type": "markdown",
   "metadata": {},
   "source": [
    "### Längenverzerrung infolge Projektion für gegebene Messstrecke in der Realität"
   ]
  },
  {
   "cell_type": "code",
   "execution_count": 61,
   "metadata": {},
   "outputs": [
    {
     "data": {
      "application/vnd.plotly.v1+json": {
       "config": {
        "plotlyServerURL": "https://plot.ly"
       },
       "data": [
        {
         "customdata": [
          [
           "Cadenazzo"
          ],
          [
           "Bern"
          ],
          [
           "Muttenz"
          ],
          [
           "Chessel"
          ],
          [
           "Melano"
          ],
          [
           "Kraftwerk Untere Enge"
          ],
          [
           "Bottinghofen am Bodensee"
          ],
          [
           "Zürich HB"
          ],
          [
           "Boncourt"
          ],
          [
           "CERN"
          ],
          [
           "Neuchatel"
          ],
          [
           "Interlaken Ost"
          ],
          [
           "Campognolo"
          ],
          [
           "Bargen, SH"
          ],
          [
           "Visp"
          ],
          [
           "Langnau"
          ],
          [
           "Vallorbe"
          ],
          [
           "Martina"
          ],
          [
           "Ste-Croix"
          ],
          [
           "Andermatt"
          ],
          [
           "Monte Generoso"
          ],
          [
           "Saas Almagell"
          ],
          [
           "Rigi"
          ],
          [
           "Alp Grüm"
          ],
          [
           "Ofenpass"
          ],
          [
           "Payerne"
          ],
          [
           "Eigergletscher"
          ],
          [
           "Sphinx"
          ],
          [
           "Stausee Mattmark"
          ],
          [
           "Wasserstollen Uetliberg"
          ]
         ],
         "hovertemplate": "E=%{x}<br>N=%{y}<br>Name=%{customdata[0]}<br>Längenfehler [mm]=%{marker.color}<extra></extra>",
         "legendgroup": "",
         "marker": {
          "color": [
           93.60572787329602,
           0,
           51.608866595188374,
           54.78385890262416,
           158.85862420896046,
           0.015249663078975573,
           75.72960547588536,
           28.6172900840711,
           44.829484501406114,
           76.24696923062402,
           0.3409305951436181,
           10.185073007846768,
           71.42907243701302,
           108.86396758212413,
           65.36606100394238,
           0.012002382391074207,
           8.226091122764956,
           0.10452347237333015,
           2.3041254115696574,
           14.454890203410287,
           155.21911755956808,
           111.15441201252452,
           1.8510684358261642,
           45.40848456178992,
           11.53413886800081,
           2.2859549277427504,
           21.289271438604374,
           24.574996090564127,
           123.56342401687925,
           25.43973956426271
          ],
          "coloraxis": "coloraxis",
          "symbol": "circle"
         },
         "mode": "markers",
         "name": "",
         "showlegend": false,
         "type": "scatter",
         "x": [
          2715783.3,
          2600000,
          2615766.2,
          2558128.3,
          2719998.3,
          2600259.5,
          2733173.3,
          2682858.2,
          2568683.3,
          2493320,
          2561781.7,
          2633121.1,
          2808405,
          2687782.5,
          2634147.9,
          2626370.8,
          2518397.5,
          2830592.5,
          2528490,
          2688434.1,
          2722608.3,
          2640122.9,
          2679520.05,
          2799454.8,
          2818462.9,
          2561992.8,
          2641168.5,
          2641911,
          2639939.2,
          2679000
         ],
         "xaxis": "x",
         "y": [
          1112721.7,
          1200000,
          1264806.3,
          1133230,
          1086300,
          1201114,
          1278503.3,
          1248258,
          1260400,
          1121229,
          1205267.3,
          1171210.3,
          1123758.3,
          1294123.3,
          1127065.8,
          1199011.7,
          1174126.7,
          1197083.5,
          1186306.7,
          1165702.5,
          1087610,
          1104891.7,
          1212273.44,
          1139211.2,
          1169362.9,
          1186360.8,
          1158376.8,
          1155280,
          1099723.3,
          1245500
         ],
         "yaxis": "y"
        }
       ],
       "layout": {
        "coloraxis": {
         "colorbar": {
          "title": {
           "text": "Längenfehler [mm]"
          }
         },
         "colorscale": [
          [
           0,
           "#0d0887"
          ],
          [
           0.1111111111111111,
           "#46039f"
          ],
          [
           0.2222222222222222,
           "#7201a8"
          ],
          [
           0.3333333333333333,
           "#9c179e"
          ],
          [
           0.4444444444444444,
           "#bd3786"
          ],
          [
           0.5555555555555556,
           "#d8576b"
          ],
          [
           0.6666666666666666,
           "#ed7953"
          ],
          [
           0.7777777777777778,
           "#fb9f3a"
          ],
          [
           0.8888888888888888,
           "#fdca26"
          ],
          [
           1,
           "#f0f921"
          ]
         ]
        },
        "legend": {
         "tracegroupgap": 0
        },
        "template": {
         "data": {
          "bar": [
           {
            "error_x": {
             "color": "#2a3f5f"
            },
            "error_y": {
             "color": "#2a3f5f"
            },
            "marker": {
             "line": {
              "color": "#E5ECF6",
              "width": 0.5
             }
            },
            "type": "bar"
           }
          ],
          "barpolar": [
           {
            "marker": {
             "line": {
              "color": "#E5ECF6",
              "width": 0.5
             }
            },
            "type": "barpolar"
           }
          ],
          "carpet": [
           {
            "aaxis": {
             "endlinecolor": "#2a3f5f",
             "gridcolor": "white",
             "linecolor": "white",
             "minorgridcolor": "white",
             "startlinecolor": "#2a3f5f"
            },
            "baxis": {
             "endlinecolor": "#2a3f5f",
             "gridcolor": "white",
             "linecolor": "white",
             "minorgridcolor": "white",
             "startlinecolor": "#2a3f5f"
            },
            "type": "carpet"
           }
          ],
          "choropleth": [
           {
            "colorbar": {
             "outlinewidth": 0,
             "ticks": ""
            },
            "type": "choropleth"
           }
          ],
          "contour": [
           {
            "colorbar": {
             "outlinewidth": 0,
             "ticks": ""
            },
            "colorscale": [
             [
              0,
              "#0d0887"
             ],
             [
              0.1111111111111111,
              "#46039f"
             ],
             [
              0.2222222222222222,
              "#7201a8"
             ],
             [
              0.3333333333333333,
              "#9c179e"
             ],
             [
              0.4444444444444444,
              "#bd3786"
             ],
             [
              0.5555555555555556,
              "#d8576b"
             ],
             [
              0.6666666666666666,
              "#ed7953"
             ],
             [
              0.7777777777777778,
              "#fb9f3a"
             ],
             [
              0.8888888888888888,
              "#fdca26"
             ],
             [
              1,
              "#f0f921"
             ]
            ],
            "type": "contour"
           }
          ],
          "contourcarpet": [
           {
            "colorbar": {
             "outlinewidth": 0,
             "ticks": ""
            },
            "type": "contourcarpet"
           }
          ],
          "heatmap": [
           {
            "colorbar": {
             "outlinewidth": 0,
             "ticks": ""
            },
            "colorscale": [
             [
              0,
              "#0d0887"
             ],
             [
              0.1111111111111111,
              "#46039f"
             ],
             [
              0.2222222222222222,
              "#7201a8"
             ],
             [
              0.3333333333333333,
              "#9c179e"
             ],
             [
              0.4444444444444444,
              "#bd3786"
             ],
             [
              0.5555555555555556,
              "#d8576b"
             ],
             [
              0.6666666666666666,
              "#ed7953"
             ],
             [
              0.7777777777777778,
              "#fb9f3a"
             ],
             [
              0.8888888888888888,
              "#fdca26"
             ],
             [
              1,
              "#f0f921"
             ]
            ],
            "type": "heatmap"
           }
          ],
          "heatmapgl": [
           {
            "colorbar": {
             "outlinewidth": 0,
             "ticks": ""
            },
            "colorscale": [
             [
              0,
              "#0d0887"
             ],
             [
              0.1111111111111111,
              "#46039f"
             ],
             [
              0.2222222222222222,
              "#7201a8"
             ],
             [
              0.3333333333333333,
              "#9c179e"
             ],
             [
              0.4444444444444444,
              "#bd3786"
             ],
             [
              0.5555555555555556,
              "#d8576b"
             ],
             [
              0.6666666666666666,
              "#ed7953"
             ],
             [
              0.7777777777777778,
              "#fb9f3a"
             ],
             [
              0.8888888888888888,
              "#fdca26"
             ],
             [
              1,
              "#f0f921"
             ]
            ],
            "type": "heatmapgl"
           }
          ],
          "histogram": [
           {
            "marker": {
             "colorbar": {
              "outlinewidth": 0,
              "ticks": ""
             }
            },
            "type": "histogram"
           }
          ],
          "histogram2d": [
           {
            "colorbar": {
             "outlinewidth": 0,
             "ticks": ""
            },
            "colorscale": [
             [
              0,
              "#0d0887"
             ],
             [
              0.1111111111111111,
              "#46039f"
             ],
             [
              0.2222222222222222,
              "#7201a8"
             ],
             [
              0.3333333333333333,
              "#9c179e"
             ],
             [
              0.4444444444444444,
              "#bd3786"
             ],
             [
              0.5555555555555556,
              "#d8576b"
             ],
             [
              0.6666666666666666,
              "#ed7953"
             ],
             [
              0.7777777777777778,
              "#fb9f3a"
             ],
             [
              0.8888888888888888,
              "#fdca26"
             ],
             [
              1,
              "#f0f921"
             ]
            ],
            "type": "histogram2d"
           }
          ],
          "histogram2dcontour": [
           {
            "colorbar": {
             "outlinewidth": 0,
             "ticks": ""
            },
            "colorscale": [
             [
              0,
              "#0d0887"
             ],
             [
              0.1111111111111111,
              "#46039f"
             ],
             [
              0.2222222222222222,
              "#7201a8"
             ],
             [
              0.3333333333333333,
              "#9c179e"
             ],
             [
              0.4444444444444444,
              "#bd3786"
             ],
             [
              0.5555555555555556,
              "#d8576b"
             ],
             [
              0.6666666666666666,
              "#ed7953"
             ],
             [
              0.7777777777777778,
              "#fb9f3a"
             ],
             [
              0.8888888888888888,
              "#fdca26"
             ],
             [
              1,
              "#f0f921"
             ]
            ],
            "type": "histogram2dcontour"
           }
          ],
          "mesh3d": [
           {
            "colorbar": {
             "outlinewidth": 0,
             "ticks": ""
            },
            "type": "mesh3d"
           }
          ],
          "parcoords": [
           {
            "line": {
             "colorbar": {
              "outlinewidth": 0,
              "ticks": ""
             }
            },
            "type": "parcoords"
           }
          ],
          "pie": [
           {
            "automargin": true,
            "type": "pie"
           }
          ],
          "scatter": [
           {
            "marker": {
             "colorbar": {
              "outlinewidth": 0,
              "ticks": ""
             }
            },
            "type": "scatter"
           }
          ],
          "scatter3d": [
           {
            "line": {
             "colorbar": {
              "outlinewidth": 0,
              "ticks": ""
             }
            },
            "marker": {
             "colorbar": {
              "outlinewidth": 0,
              "ticks": ""
             }
            },
            "type": "scatter3d"
           }
          ],
          "scattercarpet": [
           {
            "marker": {
             "colorbar": {
              "outlinewidth": 0,
              "ticks": ""
             }
            },
            "type": "scattercarpet"
           }
          ],
          "scattergeo": [
           {
            "marker": {
             "colorbar": {
              "outlinewidth": 0,
              "ticks": ""
             }
            },
            "type": "scattergeo"
           }
          ],
          "scattergl": [
           {
            "marker": {
             "colorbar": {
              "outlinewidth": 0,
              "ticks": ""
             }
            },
            "type": "scattergl"
           }
          ],
          "scattermapbox": [
           {
            "marker": {
             "colorbar": {
              "outlinewidth": 0,
              "ticks": ""
             }
            },
            "type": "scattermapbox"
           }
          ],
          "scatterpolar": [
           {
            "marker": {
             "colorbar": {
              "outlinewidth": 0,
              "ticks": ""
             }
            },
            "type": "scatterpolar"
           }
          ],
          "scatterpolargl": [
           {
            "marker": {
             "colorbar": {
              "outlinewidth": 0,
              "ticks": ""
             }
            },
            "type": "scatterpolargl"
           }
          ],
          "scatterternary": [
           {
            "marker": {
             "colorbar": {
              "outlinewidth": 0,
              "ticks": ""
             }
            },
            "type": "scatterternary"
           }
          ],
          "surface": [
           {
            "colorbar": {
             "outlinewidth": 0,
             "ticks": ""
            },
            "colorscale": [
             [
              0,
              "#0d0887"
             ],
             [
              0.1111111111111111,
              "#46039f"
             ],
             [
              0.2222222222222222,
              "#7201a8"
             ],
             [
              0.3333333333333333,
              "#9c179e"
             ],
             [
              0.4444444444444444,
              "#bd3786"
             ],
             [
              0.5555555555555556,
              "#d8576b"
             ],
             [
              0.6666666666666666,
              "#ed7953"
             ],
             [
              0.7777777777777778,
              "#fb9f3a"
             ],
             [
              0.8888888888888888,
              "#fdca26"
             ],
             [
              1,
              "#f0f921"
             ]
            ],
            "type": "surface"
           }
          ],
          "table": [
           {
            "cells": {
             "fill": {
              "color": "#EBF0F8"
             },
             "line": {
              "color": "white"
             }
            },
            "header": {
             "fill": {
              "color": "#C8D4E3"
             },
             "line": {
              "color": "white"
             }
            },
            "type": "table"
           }
          ]
         },
         "layout": {
          "annotationdefaults": {
           "arrowcolor": "#2a3f5f",
           "arrowhead": 0,
           "arrowwidth": 1
          },
          "coloraxis": {
           "colorbar": {
            "outlinewidth": 0,
            "ticks": ""
           }
          },
          "colorscale": {
           "diverging": [
            [
             0,
             "#8e0152"
            ],
            [
             0.1,
             "#c51b7d"
            ],
            [
             0.2,
             "#de77ae"
            ],
            [
             0.3,
             "#f1b6da"
            ],
            [
             0.4,
             "#fde0ef"
            ],
            [
             0.5,
             "#f7f7f7"
            ],
            [
             0.6,
             "#e6f5d0"
            ],
            [
             0.7,
             "#b8e186"
            ],
            [
             0.8,
             "#7fbc41"
            ],
            [
             0.9,
             "#4d9221"
            ],
            [
             1,
             "#276419"
            ]
           ],
           "sequential": [
            [
             0,
             "#0d0887"
            ],
            [
             0.1111111111111111,
             "#46039f"
            ],
            [
             0.2222222222222222,
             "#7201a8"
            ],
            [
             0.3333333333333333,
             "#9c179e"
            ],
            [
             0.4444444444444444,
             "#bd3786"
            ],
            [
             0.5555555555555556,
             "#d8576b"
            ],
            [
             0.6666666666666666,
             "#ed7953"
            ],
            [
             0.7777777777777778,
             "#fb9f3a"
            ],
            [
             0.8888888888888888,
             "#fdca26"
            ],
            [
             1,
             "#f0f921"
            ]
           ],
           "sequentialminus": [
            [
             0,
             "#0d0887"
            ],
            [
             0.1111111111111111,
             "#46039f"
            ],
            [
             0.2222222222222222,
             "#7201a8"
            ],
            [
             0.3333333333333333,
             "#9c179e"
            ],
            [
             0.4444444444444444,
             "#bd3786"
            ],
            [
             0.5555555555555556,
             "#d8576b"
            ],
            [
             0.6666666666666666,
             "#ed7953"
            ],
            [
             0.7777777777777778,
             "#fb9f3a"
            ],
            [
             0.8888888888888888,
             "#fdca26"
            ],
            [
             1,
             "#f0f921"
            ]
           ]
          },
          "colorway": [
           "#636efa",
           "#EF553B",
           "#00cc96",
           "#ab63fa",
           "#FFA15A",
           "#19d3f3",
           "#FF6692",
           "#B6E880",
           "#FF97FF",
           "#FECB52"
          ],
          "font": {
           "color": "#2a3f5f"
          },
          "geo": {
           "bgcolor": "white",
           "lakecolor": "white",
           "landcolor": "#E5ECF6",
           "showlakes": true,
           "showland": true,
           "subunitcolor": "white"
          },
          "hoverlabel": {
           "align": "left"
          },
          "hovermode": "closest",
          "mapbox": {
           "style": "light"
          },
          "paper_bgcolor": "white",
          "plot_bgcolor": "#E5ECF6",
          "polar": {
           "angularaxis": {
            "gridcolor": "white",
            "linecolor": "white",
            "ticks": ""
           },
           "bgcolor": "#E5ECF6",
           "radialaxis": {
            "gridcolor": "white",
            "linecolor": "white",
            "ticks": ""
           }
          },
          "scene": {
           "xaxis": {
            "backgroundcolor": "#E5ECF6",
            "gridcolor": "white",
            "gridwidth": 2,
            "linecolor": "white",
            "showbackground": true,
            "ticks": "",
            "zerolinecolor": "white"
           },
           "yaxis": {
            "backgroundcolor": "#E5ECF6",
            "gridcolor": "white",
            "gridwidth": 2,
            "linecolor": "white",
            "showbackground": true,
            "ticks": "",
            "zerolinecolor": "white"
           },
           "zaxis": {
            "backgroundcolor": "#E5ECF6",
            "gridcolor": "white",
            "gridwidth": 2,
            "linecolor": "white",
            "showbackground": true,
            "ticks": "",
            "zerolinecolor": "white"
           }
          },
          "shapedefaults": {
           "line": {
            "color": "#2a3f5f"
           }
          },
          "ternary": {
           "aaxis": {
            "gridcolor": "white",
            "linecolor": "white",
            "ticks": ""
           },
           "baxis": {
            "gridcolor": "white",
            "linecolor": "white",
            "ticks": ""
           },
           "bgcolor": "#E5ECF6",
           "caxis": {
            "gridcolor": "white",
            "linecolor": "white",
            "ticks": ""
           }
          },
          "title": {
           "x": 0.05
          },
          "xaxis": {
           "automargin": true,
           "gridcolor": "white",
           "linecolor": "white",
           "ticks": "",
           "title": {
            "standoff": 15
           },
           "zerolinecolor": "white",
           "zerolinewidth": 2
          },
          "yaxis": {
           "automargin": true,
           "gridcolor": "white",
           "linecolor": "white",
           "ticks": "",
           "title": {
            "standoff": 15
           },
           "zerolinecolor": "white",
           "zerolinewidth": 2
          }
         }
        },
        "title": {
         "text": "Längenverzerrung infolge Projektion für eine gegebene Strecke von 1000 m in der Realität"
        },
        "xaxis": {
         "anchor": "y",
         "domain": [
          0,
          1
         ],
         "title": {
          "text": "E"
         }
        },
        "yaxis": {
         "anchor": "x",
         "domain": [
          0,
          1
         ],
         "title": {
          "text": "N"
         }
        }
       }
      },
      "text/html": [
       "<div>\n",
       "        \n",
       "        \n",
       "            <div id=\"92696be3-0931-4cbb-aaac-12947ce9d574\" class=\"plotly-graph-div\" style=\"height:525px; width:100%;\"></div>\n",
       "            <script type=\"text/javascript\">\n",
       "                require([\"plotly\"], function(Plotly) {\n",
       "                    window.PLOTLYENV=window.PLOTLYENV || {};\n",
       "                    \n",
       "                if (document.getElementById(\"92696be3-0931-4cbb-aaac-12947ce9d574\")) {\n",
       "                    Plotly.newPlot(\n",
       "                        '92696be3-0931-4cbb-aaac-12947ce9d574',\n",
       "                        [{\"customdata\": [[\"Cadenazzo\"], [\"Bern\"], [\"Muttenz\"], [\"Chessel\"], [\"Melano\"], [\"Kraftwerk Untere Enge\"], [\"Bottinghofen am Bodensee\"], [\"Z\\u00fcrich HB\"], [\"Boncourt\"], [\"CERN\"], [\"Neuchatel\"], [\"Interlaken Ost\"], [\"Campognolo\"], [\"Bargen, SH\"], [\"Visp\"], [\"Langnau\"], [\"Vallorbe\"], [\"Martina\"], [\"Ste-Croix\"], [\"Andermatt\"], [\"Monte Generoso\"], [\"Saas Almagell\"], [\"Rigi\"], [\"Alp Gr\\u00fcm\"], [\"Ofenpass\"], [\"Payerne\"], [\"Eigergletscher\"], [\"Sphinx\"], [\"Stausee Mattmark\"], [\"Wasserstollen Uetliberg\"]], \"hovertemplate\": \"E=%{x}<br>N=%{y}<br>Name=%{customdata[0]}<br>L\\u00e4ngenfehler [mm]=%{marker.color}<extra></extra>\", \"legendgroup\": \"\", \"marker\": {\"color\": [93.60572787329602, 0.0, 51.608866595188374, 54.78385890262416, 158.85862420896046, 0.015249663078975573, 75.72960547588536, 28.6172900840711, 44.829484501406114, 76.24696923062402, 0.3409305951436181, 10.185073007846768, 71.42907243701302, 108.86396758212413, 65.36606100394238, 0.012002382391074207, 8.226091122764956, 0.10452347237333015, 2.3041254115696574, 14.454890203410287, 155.21911755956808, 111.15441201252452, 1.8510684358261642, 45.40848456178992, 11.53413886800081, 2.2859549277427504, 21.289271438604374, 24.574996090564127, 123.56342401687925, 25.43973956426271], \"coloraxis\": \"coloraxis\", \"symbol\": \"circle\"}, \"mode\": \"markers\", \"name\": \"\", \"showlegend\": false, \"type\": \"scatter\", \"x\": [2715783.3, 2600000.0, 2615766.2, 2558128.3, 2719998.3, 2600259.5, 2733173.3, 2682858.2, 2568683.3, 2493320.0, 2561781.7, 2633121.1, 2808405.0, 2687782.5, 2634147.9, 2626370.8, 2518397.5, 2830592.5, 2528490.0, 2688434.1, 2722608.3, 2640122.9, 2679520.05, 2799454.8, 2818462.9, 2561992.8, 2641168.5, 2641911.0, 2639939.2, 2679000.0], \"xaxis\": \"x\", \"y\": [1112721.7, 1200000.0, 1264806.3, 1133230.0, 1086300.0, 1201114.0, 1278503.3, 1248258.0, 1260400.0, 1121229.0, 1205267.3, 1171210.3, 1123758.3, 1294123.3, 1127065.8, 1199011.7, 1174126.7, 1197083.5, 1186306.7, 1165702.5, 1087610.0, 1104891.7, 1212273.44, 1139211.2, 1169362.9, 1186360.8, 1158376.8, 1155280.0, 1099723.3, 1245500.0], \"yaxis\": \"y\"}],\n",
       "                        {\"coloraxis\": {\"colorbar\": {\"title\": {\"text\": \"L\\u00e4ngenfehler [mm]\"}}, \"colorscale\": [[0.0, \"#0d0887\"], [0.1111111111111111, \"#46039f\"], [0.2222222222222222, \"#7201a8\"], [0.3333333333333333, \"#9c179e\"], [0.4444444444444444, \"#bd3786\"], [0.5555555555555556, \"#d8576b\"], [0.6666666666666666, \"#ed7953\"], [0.7777777777777778, \"#fb9f3a\"], [0.8888888888888888, \"#fdca26\"], [1.0, \"#f0f921\"]]}, \"legend\": {\"tracegroupgap\": 0}, \"template\": {\"data\": {\"bar\": [{\"error_x\": {\"color\": \"#2a3f5f\"}, \"error_y\": {\"color\": \"#2a3f5f\"}, \"marker\": {\"line\": {\"color\": \"#E5ECF6\", \"width\": 0.5}}, \"type\": \"bar\"}], \"barpolar\": [{\"marker\": {\"line\": {\"color\": \"#E5ECF6\", \"width\": 0.5}}, \"type\": \"barpolar\"}], \"carpet\": [{\"aaxis\": {\"endlinecolor\": \"#2a3f5f\", \"gridcolor\": \"white\", \"linecolor\": \"white\", \"minorgridcolor\": \"white\", \"startlinecolor\": \"#2a3f5f\"}, \"baxis\": {\"endlinecolor\": \"#2a3f5f\", \"gridcolor\": \"white\", \"linecolor\": \"white\", \"minorgridcolor\": \"white\", \"startlinecolor\": \"#2a3f5f\"}, \"type\": \"carpet\"}], \"choropleth\": [{\"colorbar\": {\"outlinewidth\": 0, \"ticks\": \"\"}, \"type\": \"choropleth\"}], \"contour\": [{\"colorbar\": {\"outlinewidth\": 0, \"ticks\": \"\"}, \"colorscale\": [[0.0, \"#0d0887\"], [0.1111111111111111, \"#46039f\"], [0.2222222222222222, \"#7201a8\"], [0.3333333333333333, \"#9c179e\"], [0.4444444444444444, \"#bd3786\"], [0.5555555555555556, \"#d8576b\"], [0.6666666666666666, \"#ed7953\"], [0.7777777777777778, \"#fb9f3a\"], [0.8888888888888888, \"#fdca26\"], [1.0, \"#f0f921\"]], \"type\": \"contour\"}], \"contourcarpet\": [{\"colorbar\": {\"outlinewidth\": 0, \"ticks\": \"\"}, \"type\": \"contourcarpet\"}], \"heatmap\": [{\"colorbar\": {\"outlinewidth\": 0, \"ticks\": \"\"}, \"colorscale\": [[0.0, \"#0d0887\"], [0.1111111111111111, \"#46039f\"], [0.2222222222222222, \"#7201a8\"], [0.3333333333333333, \"#9c179e\"], [0.4444444444444444, \"#bd3786\"], [0.5555555555555556, \"#d8576b\"], [0.6666666666666666, \"#ed7953\"], [0.7777777777777778, \"#fb9f3a\"], [0.8888888888888888, \"#fdca26\"], [1.0, \"#f0f921\"]], \"type\": \"heatmap\"}], \"heatmapgl\": [{\"colorbar\": {\"outlinewidth\": 0, \"ticks\": \"\"}, \"colorscale\": [[0.0, \"#0d0887\"], [0.1111111111111111, \"#46039f\"], [0.2222222222222222, \"#7201a8\"], [0.3333333333333333, \"#9c179e\"], [0.4444444444444444, \"#bd3786\"], [0.5555555555555556, \"#d8576b\"], [0.6666666666666666, \"#ed7953\"], [0.7777777777777778, \"#fb9f3a\"], [0.8888888888888888, \"#fdca26\"], [1.0, \"#f0f921\"]], \"type\": \"heatmapgl\"}], \"histogram\": [{\"marker\": {\"colorbar\": {\"outlinewidth\": 0, \"ticks\": \"\"}}, \"type\": \"histogram\"}], \"histogram2d\": [{\"colorbar\": {\"outlinewidth\": 0, \"ticks\": \"\"}, \"colorscale\": [[0.0, \"#0d0887\"], [0.1111111111111111, \"#46039f\"], [0.2222222222222222, \"#7201a8\"], [0.3333333333333333, \"#9c179e\"], [0.4444444444444444, \"#bd3786\"], [0.5555555555555556, \"#d8576b\"], [0.6666666666666666, \"#ed7953\"], [0.7777777777777778, \"#fb9f3a\"], [0.8888888888888888, \"#fdca26\"], [1.0, \"#f0f921\"]], \"type\": \"histogram2d\"}], \"histogram2dcontour\": [{\"colorbar\": {\"outlinewidth\": 0, \"ticks\": \"\"}, \"colorscale\": [[0.0, \"#0d0887\"], [0.1111111111111111, \"#46039f\"], [0.2222222222222222, \"#7201a8\"], [0.3333333333333333, \"#9c179e\"], [0.4444444444444444, \"#bd3786\"], [0.5555555555555556, \"#d8576b\"], [0.6666666666666666, \"#ed7953\"], [0.7777777777777778, \"#fb9f3a\"], [0.8888888888888888, \"#fdca26\"], [1.0, \"#f0f921\"]], \"type\": \"histogram2dcontour\"}], \"mesh3d\": [{\"colorbar\": {\"outlinewidth\": 0, \"ticks\": \"\"}, \"type\": \"mesh3d\"}], \"parcoords\": [{\"line\": {\"colorbar\": {\"outlinewidth\": 0, \"ticks\": \"\"}}, \"type\": \"parcoords\"}], \"pie\": [{\"automargin\": true, \"type\": \"pie\"}], \"scatter\": [{\"marker\": {\"colorbar\": {\"outlinewidth\": 0, \"ticks\": \"\"}}, \"type\": \"scatter\"}], \"scatter3d\": [{\"line\": {\"colorbar\": {\"outlinewidth\": 0, \"ticks\": \"\"}}, \"marker\": {\"colorbar\": {\"outlinewidth\": 0, \"ticks\": \"\"}}, \"type\": \"scatter3d\"}], \"scattercarpet\": [{\"marker\": {\"colorbar\": {\"outlinewidth\": 0, \"ticks\": \"\"}}, \"type\": \"scattercarpet\"}], \"scattergeo\": [{\"marker\": {\"colorbar\": {\"outlinewidth\": 0, \"ticks\": \"\"}}, \"type\": \"scattergeo\"}], \"scattergl\": [{\"marker\": {\"colorbar\": {\"outlinewidth\": 0, \"ticks\": \"\"}}, \"type\": \"scattergl\"}], \"scattermapbox\": [{\"marker\": {\"colorbar\": {\"outlinewidth\": 0, \"ticks\": \"\"}}, \"type\": \"scattermapbox\"}], \"scatterpolar\": [{\"marker\": {\"colorbar\": {\"outlinewidth\": 0, \"ticks\": \"\"}}, \"type\": \"scatterpolar\"}], \"scatterpolargl\": [{\"marker\": {\"colorbar\": {\"outlinewidth\": 0, \"ticks\": \"\"}}, \"type\": \"scatterpolargl\"}], \"scatterternary\": [{\"marker\": {\"colorbar\": {\"outlinewidth\": 0, \"ticks\": \"\"}}, \"type\": \"scatterternary\"}], \"surface\": [{\"colorbar\": {\"outlinewidth\": 0, \"ticks\": \"\"}, \"colorscale\": [[0.0, \"#0d0887\"], [0.1111111111111111, \"#46039f\"], [0.2222222222222222, \"#7201a8\"], [0.3333333333333333, \"#9c179e\"], [0.4444444444444444, \"#bd3786\"], [0.5555555555555556, \"#d8576b\"], [0.6666666666666666, \"#ed7953\"], [0.7777777777777778, \"#fb9f3a\"], [0.8888888888888888, \"#fdca26\"], [1.0, \"#f0f921\"]], \"type\": \"surface\"}], \"table\": [{\"cells\": {\"fill\": {\"color\": \"#EBF0F8\"}, \"line\": {\"color\": \"white\"}}, \"header\": {\"fill\": {\"color\": \"#C8D4E3\"}, \"line\": {\"color\": \"white\"}}, \"type\": \"table\"}]}, \"layout\": {\"annotationdefaults\": {\"arrowcolor\": \"#2a3f5f\", \"arrowhead\": 0, \"arrowwidth\": 1}, \"coloraxis\": {\"colorbar\": {\"outlinewidth\": 0, \"ticks\": \"\"}}, \"colorscale\": {\"diverging\": [[0, \"#8e0152\"], [0.1, \"#c51b7d\"], [0.2, \"#de77ae\"], [0.3, \"#f1b6da\"], [0.4, \"#fde0ef\"], [0.5, \"#f7f7f7\"], [0.6, \"#e6f5d0\"], [0.7, \"#b8e186\"], [0.8, \"#7fbc41\"], [0.9, \"#4d9221\"], [1, \"#276419\"]], \"sequential\": [[0.0, \"#0d0887\"], [0.1111111111111111, \"#46039f\"], [0.2222222222222222, \"#7201a8\"], [0.3333333333333333, \"#9c179e\"], [0.4444444444444444, \"#bd3786\"], [0.5555555555555556, \"#d8576b\"], [0.6666666666666666, \"#ed7953\"], [0.7777777777777778, \"#fb9f3a\"], [0.8888888888888888, \"#fdca26\"], [1.0, \"#f0f921\"]], \"sequentialminus\": [[0.0, \"#0d0887\"], [0.1111111111111111, \"#46039f\"], [0.2222222222222222, \"#7201a8\"], [0.3333333333333333, \"#9c179e\"], [0.4444444444444444, \"#bd3786\"], [0.5555555555555556, \"#d8576b\"], [0.6666666666666666, \"#ed7953\"], [0.7777777777777778, \"#fb9f3a\"], [0.8888888888888888, \"#fdca26\"], [1.0, \"#f0f921\"]]}, \"colorway\": [\"#636efa\", \"#EF553B\", \"#00cc96\", \"#ab63fa\", \"#FFA15A\", \"#19d3f3\", \"#FF6692\", \"#B6E880\", \"#FF97FF\", \"#FECB52\"], \"font\": {\"color\": \"#2a3f5f\"}, \"geo\": {\"bgcolor\": \"white\", \"lakecolor\": \"white\", \"landcolor\": \"#E5ECF6\", \"showlakes\": true, \"showland\": true, \"subunitcolor\": \"white\"}, \"hoverlabel\": {\"align\": \"left\"}, \"hovermode\": \"closest\", \"mapbox\": {\"style\": \"light\"}, \"paper_bgcolor\": \"white\", \"plot_bgcolor\": \"#E5ECF6\", \"polar\": {\"angularaxis\": {\"gridcolor\": \"white\", \"linecolor\": \"white\", \"ticks\": \"\"}, \"bgcolor\": \"#E5ECF6\", \"radialaxis\": {\"gridcolor\": \"white\", \"linecolor\": \"white\", \"ticks\": \"\"}}, \"scene\": {\"xaxis\": {\"backgroundcolor\": \"#E5ECF6\", \"gridcolor\": \"white\", \"gridwidth\": 2, \"linecolor\": \"white\", \"showbackground\": true, \"ticks\": \"\", \"zerolinecolor\": \"white\"}, \"yaxis\": {\"backgroundcolor\": \"#E5ECF6\", \"gridcolor\": \"white\", \"gridwidth\": 2, \"linecolor\": \"white\", \"showbackground\": true, \"ticks\": \"\", \"zerolinecolor\": \"white\"}, \"zaxis\": {\"backgroundcolor\": \"#E5ECF6\", \"gridcolor\": \"white\", \"gridwidth\": 2, \"linecolor\": \"white\", \"showbackground\": true, \"ticks\": \"\", \"zerolinecolor\": \"white\"}}, \"shapedefaults\": {\"line\": {\"color\": \"#2a3f5f\"}}, \"ternary\": {\"aaxis\": {\"gridcolor\": \"white\", \"linecolor\": \"white\", \"ticks\": \"\"}, \"baxis\": {\"gridcolor\": \"white\", \"linecolor\": \"white\", \"ticks\": \"\"}, \"bgcolor\": \"#E5ECF6\", \"caxis\": {\"gridcolor\": \"white\", \"linecolor\": \"white\", \"ticks\": \"\"}}, \"title\": {\"x\": 0.05}, \"xaxis\": {\"automargin\": true, \"gridcolor\": \"white\", \"linecolor\": \"white\", \"ticks\": \"\", \"title\": {\"standoff\": 15}, \"zerolinecolor\": \"white\", \"zerolinewidth\": 2}, \"yaxis\": {\"automargin\": true, \"gridcolor\": \"white\", \"linecolor\": \"white\", \"ticks\": \"\", \"title\": {\"standoff\": 15}, \"zerolinecolor\": \"white\", \"zerolinewidth\": 2}}}, \"title\": {\"text\": \"L\\u00e4ngenverzerrung infolge Projektion f\\u00fcr eine gegebene Strecke von 1000 m in der Realit\\u00e4t\"}, \"xaxis\": {\"anchor\": \"y\", \"domain\": [0.0, 1.0], \"title\": {\"text\": \"E\"}}, \"yaxis\": {\"anchor\": \"x\", \"domain\": [0.0, 1.0], \"title\": {\"text\": \"N\"}}},\n",
       "                        {\"responsive\": true}\n",
       "                    ).then(function(){\n",
       "                            \n",
       "var gd = document.getElementById('92696be3-0931-4cbb-aaac-12947ce9d574');\n",
       "var x = new MutationObserver(function (mutations, observer) {{\n",
       "        var display = window.getComputedStyle(gd).display;\n",
       "        if (!display || display === 'none') {{\n",
       "            console.log([gd, 'removed!']);\n",
       "            Plotly.purge(gd);\n",
       "            observer.disconnect();\n",
       "        }}\n",
       "}});\n",
       "\n",
       "// Listen for the removal of the full notebook cells\n",
       "var notebookContainer = gd.closest('#notebook-container');\n",
       "if (notebookContainer) {{\n",
       "    x.observe(notebookContainer, {childList: true});\n",
       "}}\n",
       "\n",
       "// Listen for the clearing of the current output cell\n",
       "var outputEl = gd.closest('.output');\n",
       "if (outputEl) {{\n",
       "    x.observe(outputEl, {childList: true});\n",
       "}}\n",
       "\n",
       "                        })\n",
       "                };\n",
       "                });\n",
       "            </script>\n",
       "        </div>"
      ]
     },
     "metadata": {},
     "output_type": "display_data"
    },
    {
     "data": {
      "application/javascript": [
       "\n",
       "            setTimeout(function() {\n",
       "                var nbb_cell_id = 61;\n",
       "                var nbb_unformatted_code = \"fig = px.scatter(\\n    points.values(),\\n    x=\\\"E\\\",\\n    y=\\\"N\\\",\\n    hover_data=[\\\"Name\\\"],\\n    color=\\\"L\\u00e4ngenfehler [mm]\\\",\\n    title=f\\\"L\\u00e4ngenverzerrung infolge Projektion f\\u00fcr eine gegebene Strecke von {messung} m in der Realit\\u00e4t\\\",\\n)\\n\\nfig.show()\";\n",
       "                var nbb_formatted_code = \"fig = px.scatter(\\n    points.values(),\\n    x=\\\"E\\\",\\n    y=\\\"N\\\",\\n    hover_data=[\\\"Name\\\"],\\n    color=\\\"L\\u00e4ngenfehler [mm]\\\",\\n    title=f\\\"L\\u00e4ngenverzerrung infolge Projektion f\\u00fcr eine gegebene Strecke von {messung} m in der Realit\\u00e4t\\\",\\n)\\n\\nfig.show()\";\n",
       "                var nbb_cells = Jupyter.notebook.get_cells();\n",
       "                for (var i = 0; i < nbb_cells.length; ++i) {\n",
       "                    if (nbb_cells[i].input_prompt_number == nbb_cell_id) {\n",
       "                        if (nbb_cells[i].get_text() == nbb_unformatted_code) {\n",
       "                             nbb_cells[i].set_text(nbb_formatted_code);\n",
       "                        }\n",
       "                        break;\n",
       "                    }\n",
       "                }\n",
       "            }, 500);\n",
       "            "
      ],
      "text/plain": [
       "<IPython.core.display.Javascript object>"
      ]
     },
     "metadata": {},
     "output_type": "display_data"
    }
   ],
   "source": [
    "fig = px.scatter(\n",
    "    points.values(),\n",
    "    x=\"E\",\n",
    "    y=\"N\",\n",
    "    hover_data=[\"Name\"],\n",
    "    color=\"Längenfehler [mm]\",\n",
    "    title=f\"Längenverzerrung infolge Projektion für eine gegebene Strecke von {messung} m in der Realität\",\n",
    ")\n",
    "\n",
    "fig.show()"
   ]
  },
  {
   "cell_type": "markdown",
   "metadata": {},
   "source": [
    "### Massstabsfaktor"
   ]
  },
  {
   "cell_type": "code",
   "execution_count": 62,
   "metadata": {},
   "outputs": [
    {
     "data": {
      "application/vnd.plotly.v1+json": {
       "config": {
        "plotlyServerURL": "https://plot.ly"
       },
       "data": [
        {
         "customdata": [
          [
           "Cadenazzo"
          ],
          [
           "Bern"
          ],
          [
           "Muttenz"
          ],
          [
           "Chessel"
          ],
          [
           "Melano"
          ],
          [
           "Kraftwerk Untere Enge"
          ],
          [
           "Bottinghofen am Bodensee"
          ],
          [
           "Zürich HB"
          ],
          [
           "Boncourt"
          ],
          [
           "CERN"
          ],
          [
           "Neuchatel"
          ],
          [
           "Interlaken Ost"
          ],
          [
           "Campognolo"
          ],
          [
           "Bargen, SH"
          ],
          [
           "Visp"
          ],
          [
           "Langnau"
          ],
          [
           "Vallorbe"
          ],
          [
           "Martina"
          ],
          [
           "Ste-Croix"
          ],
          [
           "Andermatt"
          ],
          [
           "Monte Generoso"
          ],
          [
           "Saas Almagell"
          ],
          [
           "Rigi"
          ],
          [
           "Alp Grüm"
          ],
          [
           "Ofenpass"
          ],
          [
           "Payerne"
          ],
          [
           "Eigergletscher"
          ],
          [
           "Sphinx"
          ],
          [
           "Stausee Mattmark"
          ],
          [
           "Wasserstollen Uetliberg"
          ]
         ],
         "hovertemplate": "E=%{x}<br>N=%{y}<br>Name=%{customdata[0]}<br>Massstabfaktor=%{marker.color}<extra></extra>",
         "legendgroup": "",
         "marker": {
          "color": [
           1.0000936057278733,
           1,
           1.0000516088665952,
           1.0000547838589027,
           1.000158858624209,
           1.000000015249663,
           1.0000757296054759,
           1.000028617290084,
           1.0000448294845015,
           1.0000762469692306,
           1.000000340930595,
           1.0000101850730079,
           1.000071429072437,
           1.0001088639675821,
           1.000065366061004,
           1.0000000120023824,
           1.0000082260911227,
           1.0000001045234723,
           1.0000023041254116,
           1.0000144548902035,
           1.0001552191175596,
           1.0001111544120125,
           1.0000018510684359,
           1.0000454084845618,
           1.000011534138868,
           1.0000022859549278,
           1.0000212892714386,
           1.0000245749960905,
           1.0001235634240169,
           1.0000254397395643
          ],
          "coloraxis": "coloraxis",
          "symbol": "circle"
         },
         "mode": "markers",
         "name": "",
         "showlegend": false,
         "type": "scatter",
         "x": [
          2715783.3,
          2600000,
          2615766.2,
          2558128.3,
          2719998.3,
          2600259.5,
          2733173.3,
          2682858.2,
          2568683.3,
          2493320,
          2561781.7,
          2633121.1,
          2808405,
          2687782.5,
          2634147.9,
          2626370.8,
          2518397.5,
          2830592.5,
          2528490,
          2688434.1,
          2722608.3,
          2640122.9,
          2679520.05,
          2799454.8,
          2818462.9,
          2561992.8,
          2641168.5,
          2641911,
          2639939.2,
          2679000
         ],
         "xaxis": "x",
         "y": [
          1112721.7,
          1200000,
          1264806.3,
          1133230,
          1086300,
          1201114,
          1278503.3,
          1248258,
          1260400,
          1121229,
          1205267.3,
          1171210.3,
          1123758.3,
          1294123.3,
          1127065.8,
          1199011.7,
          1174126.7,
          1197083.5,
          1186306.7,
          1165702.5,
          1087610,
          1104891.7,
          1212273.44,
          1139211.2,
          1169362.9,
          1186360.8,
          1158376.8,
          1155280,
          1099723.3,
          1245500
         ],
         "yaxis": "y"
        }
       ],
       "layout": {
        "coloraxis": {
         "colorbar": {
          "title": {
           "text": "Massstabfaktor"
          }
         },
         "colorscale": [
          [
           0,
           "#0d0887"
          ],
          [
           0.1111111111111111,
           "#46039f"
          ],
          [
           0.2222222222222222,
           "#7201a8"
          ],
          [
           0.3333333333333333,
           "#9c179e"
          ],
          [
           0.4444444444444444,
           "#bd3786"
          ],
          [
           0.5555555555555556,
           "#d8576b"
          ],
          [
           0.6666666666666666,
           "#ed7953"
          ],
          [
           0.7777777777777778,
           "#fb9f3a"
          ],
          [
           0.8888888888888888,
           "#fdca26"
          ],
          [
           1,
           "#f0f921"
          ]
         ]
        },
        "legend": {
         "tracegroupgap": 0
        },
        "template": {
         "data": {
          "bar": [
           {
            "error_x": {
             "color": "#2a3f5f"
            },
            "error_y": {
             "color": "#2a3f5f"
            },
            "marker": {
             "line": {
              "color": "#E5ECF6",
              "width": 0.5
             }
            },
            "type": "bar"
           }
          ],
          "barpolar": [
           {
            "marker": {
             "line": {
              "color": "#E5ECF6",
              "width": 0.5
             }
            },
            "type": "barpolar"
           }
          ],
          "carpet": [
           {
            "aaxis": {
             "endlinecolor": "#2a3f5f",
             "gridcolor": "white",
             "linecolor": "white",
             "minorgridcolor": "white",
             "startlinecolor": "#2a3f5f"
            },
            "baxis": {
             "endlinecolor": "#2a3f5f",
             "gridcolor": "white",
             "linecolor": "white",
             "minorgridcolor": "white",
             "startlinecolor": "#2a3f5f"
            },
            "type": "carpet"
           }
          ],
          "choropleth": [
           {
            "colorbar": {
             "outlinewidth": 0,
             "ticks": ""
            },
            "type": "choropleth"
           }
          ],
          "contour": [
           {
            "colorbar": {
             "outlinewidth": 0,
             "ticks": ""
            },
            "colorscale": [
             [
              0,
              "#0d0887"
             ],
             [
              0.1111111111111111,
              "#46039f"
             ],
             [
              0.2222222222222222,
              "#7201a8"
             ],
             [
              0.3333333333333333,
              "#9c179e"
             ],
             [
              0.4444444444444444,
              "#bd3786"
             ],
             [
              0.5555555555555556,
              "#d8576b"
             ],
             [
              0.6666666666666666,
              "#ed7953"
             ],
             [
              0.7777777777777778,
              "#fb9f3a"
             ],
             [
              0.8888888888888888,
              "#fdca26"
             ],
             [
              1,
              "#f0f921"
             ]
            ],
            "type": "contour"
           }
          ],
          "contourcarpet": [
           {
            "colorbar": {
             "outlinewidth": 0,
             "ticks": ""
            },
            "type": "contourcarpet"
           }
          ],
          "heatmap": [
           {
            "colorbar": {
             "outlinewidth": 0,
             "ticks": ""
            },
            "colorscale": [
             [
              0,
              "#0d0887"
             ],
             [
              0.1111111111111111,
              "#46039f"
             ],
             [
              0.2222222222222222,
              "#7201a8"
             ],
             [
              0.3333333333333333,
              "#9c179e"
             ],
             [
              0.4444444444444444,
              "#bd3786"
             ],
             [
              0.5555555555555556,
              "#d8576b"
             ],
             [
              0.6666666666666666,
              "#ed7953"
             ],
             [
              0.7777777777777778,
              "#fb9f3a"
             ],
             [
              0.8888888888888888,
              "#fdca26"
             ],
             [
              1,
              "#f0f921"
             ]
            ],
            "type": "heatmap"
           }
          ],
          "heatmapgl": [
           {
            "colorbar": {
             "outlinewidth": 0,
             "ticks": ""
            },
            "colorscale": [
             [
              0,
              "#0d0887"
             ],
             [
              0.1111111111111111,
              "#46039f"
             ],
             [
              0.2222222222222222,
              "#7201a8"
             ],
             [
              0.3333333333333333,
              "#9c179e"
             ],
             [
              0.4444444444444444,
              "#bd3786"
             ],
             [
              0.5555555555555556,
              "#d8576b"
             ],
             [
              0.6666666666666666,
              "#ed7953"
             ],
             [
              0.7777777777777778,
              "#fb9f3a"
             ],
             [
              0.8888888888888888,
              "#fdca26"
             ],
             [
              1,
              "#f0f921"
             ]
            ],
            "type": "heatmapgl"
           }
          ],
          "histogram": [
           {
            "marker": {
             "colorbar": {
              "outlinewidth": 0,
              "ticks": ""
             }
            },
            "type": "histogram"
           }
          ],
          "histogram2d": [
           {
            "colorbar": {
             "outlinewidth": 0,
             "ticks": ""
            },
            "colorscale": [
             [
              0,
              "#0d0887"
             ],
             [
              0.1111111111111111,
              "#46039f"
             ],
             [
              0.2222222222222222,
              "#7201a8"
             ],
             [
              0.3333333333333333,
              "#9c179e"
             ],
             [
              0.4444444444444444,
              "#bd3786"
             ],
             [
              0.5555555555555556,
              "#d8576b"
             ],
             [
              0.6666666666666666,
              "#ed7953"
             ],
             [
              0.7777777777777778,
              "#fb9f3a"
             ],
             [
              0.8888888888888888,
              "#fdca26"
             ],
             [
              1,
              "#f0f921"
             ]
            ],
            "type": "histogram2d"
           }
          ],
          "histogram2dcontour": [
           {
            "colorbar": {
             "outlinewidth": 0,
             "ticks": ""
            },
            "colorscale": [
             [
              0,
              "#0d0887"
             ],
             [
              0.1111111111111111,
              "#46039f"
             ],
             [
              0.2222222222222222,
              "#7201a8"
             ],
             [
              0.3333333333333333,
              "#9c179e"
             ],
             [
              0.4444444444444444,
              "#bd3786"
             ],
             [
              0.5555555555555556,
              "#d8576b"
             ],
             [
              0.6666666666666666,
              "#ed7953"
             ],
             [
              0.7777777777777778,
              "#fb9f3a"
             ],
             [
              0.8888888888888888,
              "#fdca26"
             ],
             [
              1,
              "#f0f921"
             ]
            ],
            "type": "histogram2dcontour"
           }
          ],
          "mesh3d": [
           {
            "colorbar": {
             "outlinewidth": 0,
             "ticks": ""
            },
            "type": "mesh3d"
           }
          ],
          "parcoords": [
           {
            "line": {
             "colorbar": {
              "outlinewidth": 0,
              "ticks": ""
             }
            },
            "type": "parcoords"
           }
          ],
          "pie": [
           {
            "automargin": true,
            "type": "pie"
           }
          ],
          "scatter": [
           {
            "marker": {
             "colorbar": {
              "outlinewidth": 0,
              "ticks": ""
             }
            },
            "type": "scatter"
           }
          ],
          "scatter3d": [
           {
            "line": {
             "colorbar": {
              "outlinewidth": 0,
              "ticks": ""
             }
            },
            "marker": {
             "colorbar": {
              "outlinewidth": 0,
              "ticks": ""
             }
            },
            "type": "scatter3d"
           }
          ],
          "scattercarpet": [
           {
            "marker": {
             "colorbar": {
              "outlinewidth": 0,
              "ticks": ""
             }
            },
            "type": "scattercarpet"
           }
          ],
          "scattergeo": [
           {
            "marker": {
             "colorbar": {
              "outlinewidth": 0,
              "ticks": ""
             }
            },
            "type": "scattergeo"
           }
          ],
          "scattergl": [
           {
            "marker": {
             "colorbar": {
              "outlinewidth": 0,
              "ticks": ""
             }
            },
            "type": "scattergl"
           }
          ],
          "scattermapbox": [
           {
            "marker": {
             "colorbar": {
              "outlinewidth": 0,
              "ticks": ""
             }
            },
            "type": "scattermapbox"
           }
          ],
          "scatterpolar": [
           {
            "marker": {
             "colorbar": {
              "outlinewidth": 0,
              "ticks": ""
             }
            },
            "type": "scatterpolar"
           }
          ],
          "scatterpolargl": [
           {
            "marker": {
             "colorbar": {
              "outlinewidth": 0,
              "ticks": ""
             }
            },
            "type": "scatterpolargl"
           }
          ],
          "scatterternary": [
           {
            "marker": {
             "colorbar": {
              "outlinewidth": 0,
              "ticks": ""
             }
            },
            "type": "scatterternary"
           }
          ],
          "surface": [
           {
            "colorbar": {
             "outlinewidth": 0,
             "ticks": ""
            },
            "colorscale": [
             [
              0,
              "#0d0887"
             ],
             [
              0.1111111111111111,
              "#46039f"
             ],
             [
              0.2222222222222222,
              "#7201a8"
             ],
             [
              0.3333333333333333,
              "#9c179e"
             ],
             [
              0.4444444444444444,
              "#bd3786"
             ],
             [
              0.5555555555555556,
              "#d8576b"
             ],
             [
              0.6666666666666666,
              "#ed7953"
             ],
             [
              0.7777777777777778,
              "#fb9f3a"
             ],
             [
              0.8888888888888888,
              "#fdca26"
             ],
             [
              1,
              "#f0f921"
             ]
            ],
            "type": "surface"
           }
          ],
          "table": [
           {
            "cells": {
             "fill": {
              "color": "#EBF0F8"
             },
             "line": {
              "color": "white"
             }
            },
            "header": {
             "fill": {
              "color": "#C8D4E3"
             },
             "line": {
              "color": "white"
             }
            },
            "type": "table"
           }
          ]
         },
         "layout": {
          "annotationdefaults": {
           "arrowcolor": "#2a3f5f",
           "arrowhead": 0,
           "arrowwidth": 1
          },
          "coloraxis": {
           "colorbar": {
            "outlinewidth": 0,
            "ticks": ""
           }
          },
          "colorscale": {
           "diverging": [
            [
             0,
             "#8e0152"
            ],
            [
             0.1,
             "#c51b7d"
            ],
            [
             0.2,
             "#de77ae"
            ],
            [
             0.3,
             "#f1b6da"
            ],
            [
             0.4,
             "#fde0ef"
            ],
            [
             0.5,
             "#f7f7f7"
            ],
            [
             0.6,
             "#e6f5d0"
            ],
            [
             0.7,
             "#b8e186"
            ],
            [
             0.8,
             "#7fbc41"
            ],
            [
             0.9,
             "#4d9221"
            ],
            [
             1,
             "#276419"
            ]
           ],
           "sequential": [
            [
             0,
             "#0d0887"
            ],
            [
             0.1111111111111111,
             "#46039f"
            ],
            [
             0.2222222222222222,
             "#7201a8"
            ],
            [
             0.3333333333333333,
             "#9c179e"
            ],
            [
             0.4444444444444444,
             "#bd3786"
            ],
            [
             0.5555555555555556,
             "#d8576b"
            ],
            [
             0.6666666666666666,
             "#ed7953"
            ],
            [
             0.7777777777777778,
             "#fb9f3a"
            ],
            [
             0.8888888888888888,
             "#fdca26"
            ],
            [
             1,
             "#f0f921"
            ]
           ],
           "sequentialminus": [
            [
             0,
             "#0d0887"
            ],
            [
             0.1111111111111111,
             "#46039f"
            ],
            [
             0.2222222222222222,
             "#7201a8"
            ],
            [
             0.3333333333333333,
             "#9c179e"
            ],
            [
             0.4444444444444444,
             "#bd3786"
            ],
            [
             0.5555555555555556,
             "#d8576b"
            ],
            [
             0.6666666666666666,
             "#ed7953"
            ],
            [
             0.7777777777777778,
             "#fb9f3a"
            ],
            [
             0.8888888888888888,
             "#fdca26"
            ],
            [
             1,
             "#f0f921"
            ]
           ]
          },
          "colorway": [
           "#636efa",
           "#EF553B",
           "#00cc96",
           "#ab63fa",
           "#FFA15A",
           "#19d3f3",
           "#FF6692",
           "#B6E880",
           "#FF97FF",
           "#FECB52"
          ],
          "font": {
           "color": "#2a3f5f"
          },
          "geo": {
           "bgcolor": "white",
           "lakecolor": "white",
           "landcolor": "#E5ECF6",
           "showlakes": true,
           "showland": true,
           "subunitcolor": "white"
          },
          "hoverlabel": {
           "align": "left"
          },
          "hovermode": "closest",
          "mapbox": {
           "style": "light"
          },
          "paper_bgcolor": "white",
          "plot_bgcolor": "#E5ECF6",
          "polar": {
           "angularaxis": {
            "gridcolor": "white",
            "linecolor": "white",
            "ticks": ""
           },
           "bgcolor": "#E5ECF6",
           "radialaxis": {
            "gridcolor": "white",
            "linecolor": "white",
            "ticks": ""
           }
          },
          "scene": {
           "xaxis": {
            "backgroundcolor": "#E5ECF6",
            "gridcolor": "white",
            "gridwidth": 2,
            "linecolor": "white",
            "showbackground": true,
            "ticks": "",
            "zerolinecolor": "white"
           },
           "yaxis": {
            "backgroundcolor": "#E5ECF6",
            "gridcolor": "white",
            "gridwidth": 2,
            "linecolor": "white",
            "showbackground": true,
            "ticks": "",
            "zerolinecolor": "white"
           },
           "zaxis": {
            "backgroundcolor": "#E5ECF6",
            "gridcolor": "white",
            "gridwidth": 2,
            "linecolor": "white",
            "showbackground": true,
            "ticks": "",
            "zerolinecolor": "white"
           }
          },
          "shapedefaults": {
           "line": {
            "color": "#2a3f5f"
           }
          },
          "ternary": {
           "aaxis": {
            "gridcolor": "white",
            "linecolor": "white",
            "ticks": ""
           },
           "baxis": {
            "gridcolor": "white",
            "linecolor": "white",
            "ticks": ""
           },
           "bgcolor": "#E5ECF6",
           "caxis": {
            "gridcolor": "white",
            "linecolor": "white",
            "ticks": ""
           }
          },
          "title": {
           "x": 0.05
          },
          "xaxis": {
           "automargin": true,
           "gridcolor": "white",
           "linecolor": "white",
           "ticks": "",
           "title": {
            "standoff": 15
           },
           "zerolinecolor": "white",
           "zerolinewidth": 2
          },
          "yaxis": {
           "automargin": true,
           "gridcolor": "white",
           "linecolor": "white",
           "ticks": "",
           "title": {
            "standoff": 15
           },
           "zerolinecolor": "white",
           "zerolinewidth": 2
          }
         }
        },
        "title": {
         "text": "Massstabsfaktor"
        },
        "xaxis": {
         "anchor": "y",
         "domain": [
          0,
          1
         ],
         "title": {
          "text": "E"
         }
        },
        "yaxis": {
         "anchor": "x",
         "domain": [
          0,
          1
         ],
         "title": {
          "text": "N"
         }
        }
       }
      },
      "text/html": [
       "<div>\n",
       "        \n",
       "        \n",
       "            <div id=\"ae20c7f4-9209-440a-a184-5d20d8811a32\" class=\"plotly-graph-div\" style=\"height:525px; width:100%;\"></div>\n",
       "            <script type=\"text/javascript\">\n",
       "                require([\"plotly\"], function(Plotly) {\n",
       "                    window.PLOTLYENV=window.PLOTLYENV || {};\n",
       "                    \n",
       "                if (document.getElementById(\"ae20c7f4-9209-440a-a184-5d20d8811a32\")) {\n",
       "                    Plotly.newPlot(\n",
       "                        'ae20c7f4-9209-440a-a184-5d20d8811a32',\n",
       "                        [{\"customdata\": [[\"Cadenazzo\"], [\"Bern\"], [\"Muttenz\"], [\"Chessel\"], [\"Melano\"], [\"Kraftwerk Untere Enge\"], [\"Bottinghofen am Bodensee\"], [\"Z\\u00fcrich HB\"], [\"Boncourt\"], [\"CERN\"], [\"Neuchatel\"], [\"Interlaken Ost\"], [\"Campognolo\"], [\"Bargen, SH\"], [\"Visp\"], [\"Langnau\"], [\"Vallorbe\"], [\"Martina\"], [\"Ste-Croix\"], [\"Andermatt\"], [\"Monte Generoso\"], [\"Saas Almagell\"], [\"Rigi\"], [\"Alp Gr\\u00fcm\"], [\"Ofenpass\"], [\"Payerne\"], [\"Eigergletscher\"], [\"Sphinx\"], [\"Stausee Mattmark\"], [\"Wasserstollen Uetliberg\"]], \"hovertemplate\": \"E=%{x}<br>N=%{y}<br>Name=%{customdata[0]}<br>Massstabfaktor=%{marker.color}<extra></extra>\", \"legendgroup\": \"\", \"marker\": {\"color\": [1.0000936057278733, 1.0, 1.0000516088665952, 1.0000547838589027, 1.000158858624209, 1.000000015249663, 1.0000757296054759, 1.000028617290084, 1.0000448294845015, 1.0000762469692306, 1.000000340930595, 1.0000101850730079, 1.000071429072437, 1.0001088639675821, 1.000065366061004, 1.0000000120023824, 1.0000082260911227, 1.0000001045234723, 1.0000023041254116, 1.0000144548902035, 1.0001552191175596, 1.0001111544120125, 1.0000018510684359, 1.0000454084845618, 1.000011534138868, 1.0000022859549278, 1.0000212892714386, 1.0000245749960905, 1.0001235634240169, 1.0000254397395643], \"coloraxis\": \"coloraxis\", \"symbol\": \"circle\"}, \"mode\": \"markers\", \"name\": \"\", \"showlegend\": false, \"type\": \"scatter\", \"x\": [2715783.3, 2600000.0, 2615766.2, 2558128.3, 2719998.3, 2600259.5, 2733173.3, 2682858.2, 2568683.3, 2493320.0, 2561781.7, 2633121.1, 2808405.0, 2687782.5, 2634147.9, 2626370.8, 2518397.5, 2830592.5, 2528490.0, 2688434.1, 2722608.3, 2640122.9, 2679520.05, 2799454.8, 2818462.9, 2561992.8, 2641168.5, 2641911.0, 2639939.2, 2679000.0], \"xaxis\": \"x\", \"y\": [1112721.7, 1200000.0, 1264806.3, 1133230.0, 1086300.0, 1201114.0, 1278503.3, 1248258.0, 1260400.0, 1121229.0, 1205267.3, 1171210.3, 1123758.3, 1294123.3, 1127065.8, 1199011.7, 1174126.7, 1197083.5, 1186306.7, 1165702.5, 1087610.0, 1104891.7, 1212273.44, 1139211.2, 1169362.9, 1186360.8, 1158376.8, 1155280.0, 1099723.3, 1245500.0], \"yaxis\": \"y\"}],\n",
       "                        {\"coloraxis\": {\"colorbar\": {\"title\": {\"text\": \"Massstabfaktor\"}}, \"colorscale\": [[0.0, \"#0d0887\"], [0.1111111111111111, \"#46039f\"], [0.2222222222222222, \"#7201a8\"], [0.3333333333333333, \"#9c179e\"], [0.4444444444444444, \"#bd3786\"], [0.5555555555555556, \"#d8576b\"], [0.6666666666666666, \"#ed7953\"], [0.7777777777777778, \"#fb9f3a\"], [0.8888888888888888, \"#fdca26\"], [1.0, \"#f0f921\"]]}, \"legend\": {\"tracegroupgap\": 0}, \"template\": {\"data\": {\"bar\": [{\"error_x\": {\"color\": \"#2a3f5f\"}, \"error_y\": {\"color\": \"#2a3f5f\"}, \"marker\": {\"line\": {\"color\": \"#E5ECF6\", \"width\": 0.5}}, \"type\": \"bar\"}], \"barpolar\": [{\"marker\": {\"line\": {\"color\": \"#E5ECF6\", \"width\": 0.5}}, \"type\": \"barpolar\"}], \"carpet\": [{\"aaxis\": {\"endlinecolor\": \"#2a3f5f\", \"gridcolor\": \"white\", \"linecolor\": \"white\", \"minorgridcolor\": \"white\", \"startlinecolor\": \"#2a3f5f\"}, \"baxis\": {\"endlinecolor\": \"#2a3f5f\", \"gridcolor\": \"white\", \"linecolor\": \"white\", \"minorgridcolor\": \"white\", \"startlinecolor\": \"#2a3f5f\"}, \"type\": \"carpet\"}], \"choropleth\": [{\"colorbar\": {\"outlinewidth\": 0, \"ticks\": \"\"}, \"type\": \"choropleth\"}], \"contour\": [{\"colorbar\": {\"outlinewidth\": 0, \"ticks\": \"\"}, \"colorscale\": [[0.0, \"#0d0887\"], [0.1111111111111111, \"#46039f\"], [0.2222222222222222, \"#7201a8\"], [0.3333333333333333, \"#9c179e\"], [0.4444444444444444, \"#bd3786\"], [0.5555555555555556, \"#d8576b\"], [0.6666666666666666, \"#ed7953\"], [0.7777777777777778, \"#fb9f3a\"], [0.8888888888888888, \"#fdca26\"], [1.0, \"#f0f921\"]], \"type\": \"contour\"}], \"contourcarpet\": [{\"colorbar\": {\"outlinewidth\": 0, \"ticks\": \"\"}, \"type\": \"contourcarpet\"}], \"heatmap\": [{\"colorbar\": {\"outlinewidth\": 0, \"ticks\": \"\"}, \"colorscale\": [[0.0, \"#0d0887\"], [0.1111111111111111, \"#46039f\"], [0.2222222222222222, \"#7201a8\"], [0.3333333333333333, \"#9c179e\"], [0.4444444444444444, \"#bd3786\"], [0.5555555555555556, \"#d8576b\"], [0.6666666666666666, \"#ed7953\"], [0.7777777777777778, \"#fb9f3a\"], [0.8888888888888888, \"#fdca26\"], [1.0, \"#f0f921\"]], \"type\": \"heatmap\"}], \"heatmapgl\": [{\"colorbar\": {\"outlinewidth\": 0, \"ticks\": \"\"}, \"colorscale\": [[0.0, \"#0d0887\"], [0.1111111111111111, \"#46039f\"], [0.2222222222222222, \"#7201a8\"], [0.3333333333333333, \"#9c179e\"], [0.4444444444444444, \"#bd3786\"], [0.5555555555555556, \"#d8576b\"], [0.6666666666666666, \"#ed7953\"], [0.7777777777777778, \"#fb9f3a\"], [0.8888888888888888, \"#fdca26\"], [1.0, \"#f0f921\"]], \"type\": \"heatmapgl\"}], \"histogram\": [{\"marker\": {\"colorbar\": {\"outlinewidth\": 0, \"ticks\": \"\"}}, \"type\": \"histogram\"}], \"histogram2d\": [{\"colorbar\": {\"outlinewidth\": 0, \"ticks\": \"\"}, \"colorscale\": [[0.0, \"#0d0887\"], [0.1111111111111111, \"#46039f\"], [0.2222222222222222, \"#7201a8\"], [0.3333333333333333, \"#9c179e\"], [0.4444444444444444, \"#bd3786\"], [0.5555555555555556, \"#d8576b\"], [0.6666666666666666, \"#ed7953\"], [0.7777777777777778, \"#fb9f3a\"], [0.8888888888888888, \"#fdca26\"], [1.0, \"#f0f921\"]], \"type\": \"histogram2d\"}], \"histogram2dcontour\": [{\"colorbar\": {\"outlinewidth\": 0, \"ticks\": \"\"}, \"colorscale\": [[0.0, \"#0d0887\"], [0.1111111111111111, \"#46039f\"], [0.2222222222222222, \"#7201a8\"], [0.3333333333333333, \"#9c179e\"], [0.4444444444444444, \"#bd3786\"], [0.5555555555555556, \"#d8576b\"], [0.6666666666666666, \"#ed7953\"], [0.7777777777777778, \"#fb9f3a\"], [0.8888888888888888, \"#fdca26\"], [1.0, \"#f0f921\"]], \"type\": \"histogram2dcontour\"}], \"mesh3d\": [{\"colorbar\": {\"outlinewidth\": 0, \"ticks\": \"\"}, \"type\": \"mesh3d\"}], \"parcoords\": [{\"line\": {\"colorbar\": {\"outlinewidth\": 0, \"ticks\": \"\"}}, \"type\": \"parcoords\"}], \"pie\": [{\"automargin\": true, \"type\": \"pie\"}], \"scatter\": [{\"marker\": {\"colorbar\": {\"outlinewidth\": 0, \"ticks\": \"\"}}, \"type\": \"scatter\"}], \"scatter3d\": [{\"line\": {\"colorbar\": {\"outlinewidth\": 0, \"ticks\": \"\"}}, \"marker\": {\"colorbar\": {\"outlinewidth\": 0, \"ticks\": \"\"}}, \"type\": \"scatter3d\"}], \"scattercarpet\": [{\"marker\": {\"colorbar\": {\"outlinewidth\": 0, \"ticks\": \"\"}}, \"type\": \"scattercarpet\"}], \"scattergeo\": [{\"marker\": {\"colorbar\": {\"outlinewidth\": 0, \"ticks\": \"\"}}, \"type\": \"scattergeo\"}], \"scattergl\": [{\"marker\": {\"colorbar\": {\"outlinewidth\": 0, \"ticks\": \"\"}}, \"type\": \"scattergl\"}], \"scattermapbox\": [{\"marker\": {\"colorbar\": {\"outlinewidth\": 0, \"ticks\": \"\"}}, \"type\": \"scattermapbox\"}], \"scatterpolar\": [{\"marker\": {\"colorbar\": {\"outlinewidth\": 0, \"ticks\": \"\"}}, \"type\": \"scatterpolar\"}], \"scatterpolargl\": [{\"marker\": {\"colorbar\": {\"outlinewidth\": 0, \"ticks\": \"\"}}, \"type\": \"scatterpolargl\"}], \"scatterternary\": [{\"marker\": {\"colorbar\": {\"outlinewidth\": 0, \"ticks\": \"\"}}, \"type\": \"scatterternary\"}], \"surface\": [{\"colorbar\": {\"outlinewidth\": 0, \"ticks\": \"\"}, \"colorscale\": [[0.0, \"#0d0887\"], [0.1111111111111111, \"#46039f\"], [0.2222222222222222, \"#7201a8\"], [0.3333333333333333, \"#9c179e\"], [0.4444444444444444, \"#bd3786\"], [0.5555555555555556, \"#d8576b\"], [0.6666666666666666, \"#ed7953\"], [0.7777777777777778, \"#fb9f3a\"], [0.8888888888888888, \"#fdca26\"], [1.0, \"#f0f921\"]], \"type\": \"surface\"}], \"table\": [{\"cells\": {\"fill\": {\"color\": \"#EBF0F8\"}, \"line\": {\"color\": \"white\"}}, \"header\": {\"fill\": {\"color\": \"#C8D4E3\"}, \"line\": {\"color\": \"white\"}}, \"type\": \"table\"}]}, \"layout\": {\"annotationdefaults\": {\"arrowcolor\": \"#2a3f5f\", \"arrowhead\": 0, \"arrowwidth\": 1}, \"coloraxis\": {\"colorbar\": {\"outlinewidth\": 0, \"ticks\": \"\"}}, \"colorscale\": {\"diverging\": [[0, \"#8e0152\"], [0.1, \"#c51b7d\"], [0.2, \"#de77ae\"], [0.3, \"#f1b6da\"], [0.4, \"#fde0ef\"], [0.5, \"#f7f7f7\"], [0.6, \"#e6f5d0\"], [0.7, \"#b8e186\"], [0.8, \"#7fbc41\"], [0.9, \"#4d9221\"], [1, \"#276419\"]], \"sequential\": [[0.0, \"#0d0887\"], [0.1111111111111111, \"#46039f\"], [0.2222222222222222, \"#7201a8\"], [0.3333333333333333, \"#9c179e\"], [0.4444444444444444, \"#bd3786\"], [0.5555555555555556, \"#d8576b\"], [0.6666666666666666, \"#ed7953\"], [0.7777777777777778, \"#fb9f3a\"], [0.8888888888888888, \"#fdca26\"], [1.0, \"#f0f921\"]], \"sequentialminus\": [[0.0, \"#0d0887\"], [0.1111111111111111, \"#46039f\"], [0.2222222222222222, \"#7201a8\"], [0.3333333333333333, \"#9c179e\"], [0.4444444444444444, \"#bd3786\"], [0.5555555555555556, \"#d8576b\"], [0.6666666666666666, \"#ed7953\"], [0.7777777777777778, \"#fb9f3a\"], [0.8888888888888888, \"#fdca26\"], [1.0, \"#f0f921\"]]}, \"colorway\": [\"#636efa\", \"#EF553B\", \"#00cc96\", \"#ab63fa\", \"#FFA15A\", \"#19d3f3\", \"#FF6692\", \"#B6E880\", \"#FF97FF\", \"#FECB52\"], \"font\": {\"color\": \"#2a3f5f\"}, \"geo\": {\"bgcolor\": \"white\", \"lakecolor\": \"white\", \"landcolor\": \"#E5ECF6\", \"showlakes\": true, \"showland\": true, \"subunitcolor\": \"white\"}, \"hoverlabel\": {\"align\": \"left\"}, \"hovermode\": \"closest\", \"mapbox\": {\"style\": \"light\"}, \"paper_bgcolor\": \"white\", \"plot_bgcolor\": \"#E5ECF6\", \"polar\": {\"angularaxis\": {\"gridcolor\": \"white\", \"linecolor\": \"white\", \"ticks\": \"\"}, \"bgcolor\": \"#E5ECF6\", \"radialaxis\": {\"gridcolor\": \"white\", \"linecolor\": \"white\", \"ticks\": \"\"}}, \"scene\": {\"xaxis\": {\"backgroundcolor\": \"#E5ECF6\", \"gridcolor\": \"white\", \"gridwidth\": 2, \"linecolor\": \"white\", \"showbackground\": true, \"ticks\": \"\", \"zerolinecolor\": \"white\"}, \"yaxis\": {\"backgroundcolor\": \"#E5ECF6\", \"gridcolor\": \"white\", \"gridwidth\": 2, \"linecolor\": \"white\", \"showbackground\": true, \"ticks\": \"\", \"zerolinecolor\": \"white\"}, \"zaxis\": {\"backgroundcolor\": \"#E5ECF6\", \"gridcolor\": \"white\", \"gridwidth\": 2, \"linecolor\": \"white\", \"showbackground\": true, \"ticks\": \"\", \"zerolinecolor\": \"white\"}}, \"shapedefaults\": {\"line\": {\"color\": \"#2a3f5f\"}}, \"ternary\": {\"aaxis\": {\"gridcolor\": \"white\", \"linecolor\": \"white\", \"ticks\": \"\"}, \"baxis\": {\"gridcolor\": \"white\", \"linecolor\": \"white\", \"ticks\": \"\"}, \"bgcolor\": \"#E5ECF6\", \"caxis\": {\"gridcolor\": \"white\", \"linecolor\": \"white\", \"ticks\": \"\"}}, \"title\": {\"x\": 0.05}, \"xaxis\": {\"automargin\": true, \"gridcolor\": \"white\", \"linecolor\": \"white\", \"ticks\": \"\", \"title\": {\"standoff\": 15}, \"zerolinecolor\": \"white\", \"zerolinewidth\": 2}, \"yaxis\": {\"automargin\": true, \"gridcolor\": \"white\", \"linecolor\": \"white\", \"ticks\": \"\", \"title\": {\"standoff\": 15}, \"zerolinecolor\": \"white\", \"zerolinewidth\": 2}}}, \"title\": {\"text\": \"Massstabsfaktor\"}, \"xaxis\": {\"anchor\": \"y\", \"domain\": [0.0, 1.0], \"title\": {\"text\": \"E\"}}, \"yaxis\": {\"anchor\": \"x\", \"domain\": [0.0, 1.0], \"title\": {\"text\": \"N\"}}},\n",
       "                        {\"responsive\": true}\n",
       "                    ).then(function(){\n",
       "                            \n",
       "var gd = document.getElementById('ae20c7f4-9209-440a-a184-5d20d8811a32');\n",
       "var x = new MutationObserver(function (mutations, observer) {{\n",
       "        var display = window.getComputedStyle(gd).display;\n",
       "        if (!display || display === 'none') {{\n",
       "            console.log([gd, 'removed!']);\n",
       "            Plotly.purge(gd);\n",
       "            observer.disconnect();\n",
       "        }}\n",
       "}});\n",
       "\n",
       "// Listen for the removal of the full notebook cells\n",
       "var notebookContainer = gd.closest('#notebook-container');\n",
       "if (notebookContainer) {{\n",
       "    x.observe(notebookContainer, {childList: true});\n",
       "}}\n",
       "\n",
       "// Listen for the clearing of the current output cell\n",
       "var outputEl = gd.closest('.output');\n",
       "if (outputEl) {{\n",
       "    x.observe(outputEl, {childList: true});\n",
       "}}\n",
       "\n",
       "                        })\n",
       "                };\n",
       "                });\n",
       "            </script>\n",
       "        </div>"
      ]
     },
     "metadata": {},
     "output_type": "display_data"
    },
    {
     "data": {
      "application/javascript": [
       "\n",
       "            setTimeout(function() {\n",
       "                var nbb_cell_id = 62;\n",
       "                var nbb_unformatted_code = \"fig = px.scatter(\\n    points.values(),\\n    x=\\\"E\\\",\\n    y=\\\"N\\\",\\n    hover_data=[\\\"Name\\\"],\\n    color=\\\"Massstabfaktor\\\",\\n    # size=\\\"Massstabfaktor\\\",\\n    title=f\\\"Massstabsfaktor\\\",\\n)\\n\\nfig.show()\";\n",
       "                var nbb_formatted_code = \"fig = px.scatter(\\n    points.values(),\\n    x=\\\"E\\\",\\n    y=\\\"N\\\",\\n    hover_data=[\\\"Name\\\"],\\n    color=\\\"Massstabfaktor\\\",\\n    # size=\\\"Massstabfaktor\\\",\\n    title=f\\\"Massstabsfaktor\\\",\\n)\\n\\nfig.show()\";\n",
       "                var nbb_cells = Jupyter.notebook.get_cells();\n",
       "                for (var i = 0; i < nbb_cells.length; ++i) {\n",
       "                    if (nbb_cells[i].input_prompt_number == nbb_cell_id) {\n",
       "                        if (nbb_cells[i].get_text() == nbb_unformatted_code) {\n",
       "                             nbb_cells[i].set_text(nbb_formatted_code);\n",
       "                        }\n",
       "                        break;\n",
       "                    }\n",
       "                }\n",
       "            }, 500);\n",
       "            "
      ],
      "text/plain": [
       "<IPython.core.display.Javascript object>"
      ]
     },
     "metadata": {},
     "output_type": "display_data"
    }
   ],
   "source": [
    "fig = px.scatter(\n",
    "    points.values(),\n",
    "    x=\"E\",\n",
    "    y=\"N\",\n",
    "    hover_data=[\"Name\"],\n",
    "    color=\"Massstabfaktor\",\n",
    "    # size=\"Massstabfaktor\",\n",
    "    title=f\"Massstabsfaktor\",\n",
    ")\n",
    "\n",
    "fig.show()"
   ]
  },
  {
   "cell_type": "code",
   "execution_count": 63,
   "metadata": {},
   "outputs": [
    {
     "data": {
      "application/vnd.plotly.v1+json": {
       "config": {
        "plotlyServerURL": "https://plot.ly"
       },
       "data": [
        {
         "customdata": [
          [
           "Cadenazzo"
          ],
          [
           "Bern"
          ],
          [
           "Muttenz"
          ],
          [
           "Chessel"
          ],
          [
           "Melano"
          ],
          [
           "Kraftwerk Untere Enge"
          ],
          [
           "Bottinghofen am Bodensee"
          ],
          [
           "Zürich HB"
          ],
          [
           "Boncourt"
          ],
          [
           "CERN"
          ],
          [
           "Neuchatel"
          ],
          [
           "Interlaken Ost"
          ],
          [
           "Campognolo"
          ],
          [
           "Bargen, SH"
          ],
          [
           "Visp"
          ],
          [
           "Langnau"
          ],
          [
           "Vallorbe"
          ],
          [
           "Martina"
          ],
          [
           "Ste-Croix"
          ],
          [
           "Andermatt"
          ],
          [
           "Monte Generoso"
          ],
          [
           "Saas Almagell"
          ],
          [
           "Rigi"
          ],
          [
           "Alp Grüm"
          ],
          [
           "Ofenpass"
          ],
          [
           "Payerne"
          ],
          [
           "Eigergletscher"
          ],
          [
           "Sphinx"
          ],
          [
           "Stausee Mattmark"
          ],
          [
           "Wasserstollen Uetliberg"
          ]
         ],
         "hovertemplate": "E=%{x}<br>N=%{y}<br>Height=%{marker.size}<br>Name=%{customdata[0]}<br>Höhenverzerrungsfaktor=%{marker.color}<extra></extra>",
         "legendgroup": "",
         "marker": {
          "color": [
           1.0000326068695058,
           1.0000867797357846,
           1.0000440030959619,
           1.0000593491858232,
           1.0000441598510483,
           1.0000783783100808,
           1.0000627036309857,
           1.0000636754753793,
           1.0000696632491617,
           1.0000686443921936,
           1.0000751493663769,
           1.0000888330478368,
           1.0000894600116685,
           1.0000950399551316,
           1.0001020304705759,
           1.0001075946002256,
           1.000126496504917,
           1.0001620727784533,
           1.0001701436952268,
           1.0002250224739067,
           1.0002516291477366,
           1.0002618922388264,
           1.0002816343864038,
           1.0003276806987376,
           1.0003369552507833,
           1.0000701178154467,
           1.0003685845656334,
           1.0005595085434194,
           1.000344522029788,
           1.0000598821365585
          ],
          "coloraxis": "coloraxis",
          "size": [
           208,
           553.6,
           280.7,
           378.6,
           281.7,
           500,
           400,
           406.2,
           444.4,
           437.9,
           479.4,
           566.7,
           570.7,
           606.3,
           650.9,
           686.4,
           807,
           1034,
           1085.5,
           1435.7,
           1605.5,
           1671,
           1797,
           2090.9,
           2150.1,
           447.3,
           2352,
           3571,
           2198.4,
           382
          ],
          "sizemode": "area",
          "sizeref": 8.9275,
          "symbol": "circle"
         },
         "mode": "markers",
         "name": "",
         "showlegend": false,
         "type": "scatter",
         "x": [
          2715783.3,
          2600000,
          2615766.2,
          2558128.3,
          2719998.3,
          2600259.5,
          2733173.3,
          2682858.2,
          2568683.3,
          2493320,
          2561781.7,
          2633121.1,
          2808405,
          2687782.5,
          2634147.9,
          2626370.8,
          2518397.5,
          2830592.5,
          2528490,
          2688434.1,
          2722608.3,
          2640122.9,
          2679520.05,
          2799454.8,
          2818462.9,
          2561992.8,
          2641168.5,
          2641911,
          2639939.2,
          2679000
         ],
         "xaxis": "x",
         "y": [
          1112721.7,
          1200000,
          1264806.3,
          1133230,
          1086300,
          1201114,
          1278503.3,
          1248258,
          1260400,
          1121229,
          1205267.3,
          1171210.3,
          1123758.3,
          1294123.3,
          1127065.8,
          1199011.7,
          1174126.7,
          1197083.5,
          1186306.7,
          1165702.5,
          1087610,
          1104891.7,
          1212273.44,
          1139211.2,
          1169362.9,
          1186360.8,
          1158376.8,
          1155280,
          1099723.3,
          1245500
         ],
         "yaxis": "y"
        }
       ],
       "layout": {
        "coloraxis": {
         "colorbar": {
          "title": {
           "text": "Höhenverzerrungsfaktor"
          }
         },
         "colorscale": [
          [
           0,
           "#0d0887"
          ],
          [
           0.1111111111111111,
           "#46039f"
          ],
          [
           0.2222222222222222,
           "#7201a8"
          ],
          [
           0.3333333333333333,
           "#9c179e"
          ],
          [
           0.4444444444444444,
           "#bd3786"
          ],
          [
           0.5555555555555556,
           "#d8576b"
          ],
          [
           0.6666666666666666,
           "#ed7953"
          ],
          [
           0.7777777777777778,
           "#fb9f3a"
          ],
          [
           0.8888888888888888,
           "#fdca26"
          ],
          [
           1,
           "#f0f921"
          ]
         ]
        },
        "legend": {
         "itemsizing": "constant",
         "tracegroupgap": 0
        },
        "template": {
         "data": {
          "bar": [
           {
            "error_x": {
             "color": "#2a3f5f"
            },
            "error_y": {
             "color": "#2a3f5f"
            },
            "marker": {
             "line": {
              "color": "#E5ECF6",
              "width": 0.5
             }
            },
            "type": "bar"
           }
          ],
          "barpolar": [
           {
            "marker": {
             "line": {
              "color": "#E5ECF6",
              "width": 0.5
             }
            },
            "type": "barpolar"
           }
          ],
          "carpet": [
           {
            "aaxis": {
             "endlinecolor": "#2a3f5f",
             "gridcolor": "white",
             "linecolor": "white",
             "minorgridcolor": "white",
             "startlinecolor": "#2a3f5f"
            },
            "baxis": {
             "endlinecolor": "#2a3f5f",
             "gridcolor": "white",
             "linecolor": "white",
             "minorgridcolor": "white",
             "startlinecolor": "#2a3f5f"
            },
            "type": "carpet"
           }
          ],
          "choropleth": [
           {
            "colorbar": {
             "outlinewidth": 0,
             "ticks": ""
            },
            "type": "choropleth"
           }
          ],
          "contour": [
           {
            "colorbar": {
             "outlinewidth": 0,
             "ticks": ""
            },
            "colorscale": [
             [
              0,
              "#0d0887"
             ],
             [
              0.1111111111111111,
              "#46039f"
             ],
             [
              0.2222222222222222,
              "#7201a8"
             ],
             [
              0.3333333333333333,
              "#9c179e"
             ],
             [
              0.4444444444444444,
              "#bd3786"
             ],
             [
              0.5555555555555556,
              "#d8576b"
             ],
             [
              0.6666666666666666,
              "#ed7953"
             ],
             [
              0.7777777777777778,
              "#fb9f3a"
             ],
             [
              0.8888888888888888,
              "#fdca26"
             ],
             [
              1,
              "#f0f921"
             ]
            ],
            "type": "contour"
           }
          ],
          "contourcarpet": [
           {
            "colorbar": {
             "outlinewidth": 0,
             "ticks": ""
            },
            "type": "contourcarpet"
           }
          ],
          "heatmap": [
           {
            "colorbar": {
             "outlinewidth": 0,
             "ticks": ""
            },
            "colorscale": [
             [
              0,
              "#0d0887"
             ],
             [
              0.1111111111111111,
              "#46039f"
             ],
             [
              0.2222222222222222,
              "#7201a8"
             ],
             [
              0.3333333333333333,
              "#9c179e"
             ],
             [
              0.4444444444444444,
              "#bd3786"
             ],
             [
              0.5555555555555556,
              "#d8576b"
             ],
             [
              0.6666666666666666,
              "#ed7953"
             ],
             [
              0.7777777777777778,
              "#fb9f3a"
             ],
             [
              0.8888888888888888,
              "#fdca26"
             ],
             [
              1,
              "#f0f921"
             ]
            ],
            "type": "heatmap"
           }
          ],
          "heatmapgl": [
           {
            "colorbar": {
             "outlinewidth": 0,
             "ticks": ""
            },
            "colorscale": [
             [
              0,
              "#0d0887"
             ],
             [
              0.1111111111111111,
              "#46039f"
             ],
             [
              0.2222222222222222,
              "#7201a8"
             ],
             [
              0.3333333333333333,
              "#9c179e"
             ],
             [
              0.4444444444444444,
              "#bd3786"
             ],
             [
              0.5555555555555556,
              "#d8576b"
             ],
             [
              0.6666666666666666,
              "#ed7953"
             ],
             [
              0.7777777777777778,
              "#fb9f3a"
             ],
             [
              0.8888888888888888,
              "#fdca26"
             ],
             [
              1,
              "#f0f921"
             ]
            ],
            "type": "heatmapgl"
           }
          ],
          "histogram": [
           {
            "marker": {
             "colorbar": {
              "outlinewidth": 0,
              "ticks": ""
             }
            },
            "type": "histogram"
           }
          ],
          "histogram2d": [
           {
            "colorbar": {
             "outlinewidth": 0,
             "ticks": ""
            },
            "colorscale": [
             [
              0,
              "#0d0887"
             ],
             [
              0.1111111111111111,
              "#46039f"
             ],
             [
              0.2222222222222222,
              "#7201a8"
             ],
             [
              0.3333333333333333,
              "#9c179e"
             ],
             [
              0.4444444444444444,
              "#bd3786"
             ],
             [
              0.5555555555555556,
              "#d8576b"
             ],
             [
              0.6666666666666666,
              "#ed7953"
             ],
             [
              0.7777777777777778,
              "#fb9f3a"
             ],
             [
              0.8888888888888888,
              "#fdca26"
             ],
             [
              1,
              "#f0f921"
             ]
            ],
            "type": "histogram2d"
           }
          ],
          "histogram2dcontour": [
           {
            "colorbar": {
             "outlinewidth": 0,
             "ticks": ""
            },
            "colorscale": [
             [
              0,
              "#0d0887"
             ],
             [
              0.1111111111111111,
              "#46039f"
             ],
             [
              0.2222222222222222,
              "#7201a8"
             ],
             [
              0.3333333333333333,
              "#9c179e"
             ],
             [
              0.4444444444444444,
              "#bd3786"
             ],
             [
              0.5555555555555556,
              "#d8576b"
             ],
             [
              0.6666666666666666,
              "#ed7953"
             ],
             [
              0.7777777777777778,
              "#fb9f3a"
             ],
             [
              0.8888888888888888,
              "#fdca26"
             ],
             [
              1,
              "#f0f921"
             ]
            ],
            "type": "histogram2dcontour"
           }
          ],
          "mesh3d": [
           {
            "colorbar": {
             "outlinewidth": 0,
             "ticks": ""
            },
            "type": "mesh3d"
           }
          ],
          "parcoords": [
           {
            "line": {
             "colorbar": {
              "outlinewidth": 0,
              "ticks": ""
             }
            },
            "type": "parcoords"
           }
          ],
          "pie": [
           {
            "automargin": true,
            "type": "pie"
           }
          ],
          "scatter": [
           {
            "marker": {
             "colorbar": {
              "outlinewidth": 0,
              "ticks": ""
             }
            },
            "type": "scatter"
           }
          ],
          "scatter3d": [
           {
            "line": {
             "colorbar": {
              "outlinewidth": 0,
              "ticks": ""
             }
            },
            "marker": {
             "colorbar": {
              "outlinewidth": 0,
              "ticks": ""
             }
            },
            "type": "scatter3d"
           }
          ],
          "scattercarpet": [
           {
            "marker": {
             "colorbar": {
              "outlinewidth": 0,
              "ticks": ""
             }
            },
            "type": "scattercarpet"
           }
          ],
          "scattergeo": [
           {
            "marker": {
             "colorbar": {
              "outlinewidth": 0,
              "ticks": ""
             }
            },
            "type": "scattergeo"
           }
          ],
          "scattergl": [
           {
            "marker": {
             "colorbar": {
              "outlinewidth": 0,
              "ticks": ""
             }
            },
            "type": "scattergl"
           }
          ],
          "scattermapbox": [
           {
            "marker": {
             "colorbar": {
              "outlinewidth": 0,
              "ticks": ""
             }
            },
            "type": "scattermapbox"
           }
          ],
          "scatterpolar": [
           {
            "marker": {
             "colorbar": {
              "outlinewidth": 0,
              "ticks": ""
             }
            },
            "type": "scatterpolar"
           }
          ],
          "scatterpolargl": [
           {
            "marker": {
             "colorbar": {
              "outlinewidth": 0,
              "ticks": ""
             }
            },
            "type": "scatterpolargl"
           }
          ],
          "scatterternary": [
           {
            "marker": {
             "colorbar": {
              "outlinewidth": 0,
              "ticks": ""
             }
            },
            "type": "scatterternary"
           }
          ],
          "surface": [
           {
            "colorbar": {
             "outlinewidth": 0,
             "ticks": ""
            },
            "colorscale": [
             [
              0,
              "#0d0887"
             ],
             [
              0.1111111111111111,
              "#46039f"
             ],
             [
              0.2222222222222222,
              "#7201a8"
             ],
             [
              0.3333333333333333,
              "#9c179e"
             ],
             [
              0.4444444444444444,
              "#bd3786"
             ],
             [
              0.5555555555555556,
              "#d8576b"
             ],
             [
              0.6666666666666666,
              "#ed7953"
             ],
             [
              0.7777777777777778,
              "#fb9f3a"
             ],
             [
              0.8888888888888888,
              "#fdca26"
             ],
             [
              1,
              "#f0f921"
             ]
            ],
            "type": "surface"
           }
          ],
          "table": [
           {
            "cells": {
             "fill": {
              "color": "#EBF0F8"
             },
             "line": {
              "color": "white"
             }
            },
            "header": {
             "fill": {
              "color": "#C8D4E3"
             },
             "line": {
              "color": "white"
             }
            },
            "type": "table"
           }
          ]
         },
         "layout": {
          "annotationdefaults": {
           "arrowcolor": "#2a3f5f",
           "arrowhead": 0,
           "arrowwidth": 1
          },
          "coloraxis": {
           "colorbar": {
            "outlinewidth": 0,
            "ticks": ""
           }
          },
          "colorscale": {
           "diverging": [
            [
             0,
             "#8e0152"
            ],
            [
             0.1,
             "#c51b7d"
            ],
            [
             0.2,
             "#de77ae"
            ],
            [
             0.3,
             "#f1b6da"
            ],
            [
             0.4,
             "#fde0ef"
            ],
            [
             0.5,
             "#f7f7f7"
            ],
            [
             0.6,
             "#e6f5d0"
            ],
            [
             0.7,
             "#b8e186"
            ],
            [
             0.8,
             "#7fbc41"
            ],
            [
             0.9,
             "#4d9221"
            ],
            [
             1,
             "#276419"
            ]
           ],
           "sequential": [
            [
             0,
             "#0d0887"
            ],
            [
             0.1111111111111111,
             "#46039f"
            ],
            [
             0.2222222222222222,
             "#7201a8"
            ],
            [
             0.3333333333333333,
             "#9c179e"
            ],
            [
             0.4444444444444444,
             "#bd3786"
            ],
            [
             0.5555555555555556,
             "#d8576b"
            ],
            [
             0.6666666666666666,
             "#ed7953"
            ],
            [
             0.7777777777777778,
             "#fb9f3a"
            ],
            [
             0.8888888888888888,
             "#fdca26"
            ],
            [
             1,
             "#f0f921"
            ]
           ],
           "sequentialminus": [
            [
             0,
             "#0d0887"
            ],
            [
             0.1111111111111111,
             "#46039f"
            ],
            [
             0.2222222222222222,
             "#7201a8"
            ],
            [
             0.3333333333333333,
             "#9c179e"
            ],
            [
             0.4444444444444444,
             "#bd3786"
            ],
            [
             0.5555555555555556,
             "#d8576b"
            ],
            [
             0.6666666666666666,
             "#ed7953"
            ],
            [
             0.7777777777777778,
             "#fb9f3a"
            ],
            [
             0.8888888888888888,
             "#fdca26"
            ],
            [
             1,
             "#f0f921"
            ]
           ]
          },
          "colorway": [
           "#636efa",
           "#EF553B",
           "#00cc96",
           "#ab63fa",
           "#FFA15A",
           "#19d3f3",
           "#FF6692",
           "#B6E880",
           "#FF97FF",
           "#FECB52"
          ],
          "font": {
           "color": "#2a3f5f"
          },
          "geo": {
           "bgcolor": "white",
           "lakecolor": "white",
           "landcolor": "#E5ECF6",
           "showlakes": true,
           "showland": true,
           "subunitcolor": "white"
          },
          "hoverlabel": {
           "align": "left"
          },
          "hovermode": "closest",
          "mapbox": {
           "style": "light"
          },
          "paper_bgcolor": "white",
          "plot_bgcolor": "#E5ECF6",
          "polar": {
           "angularaxis": {
            "gridcolor": "white",
            "linecolor": "white",
            "ticks": ""
           },
           "bgcolor": "#E5ECF6",
           "radialaxis": {
            "gridcolor": "white",
            "linecolor": "white",
            "ticks": ""
           }
          },
          "scene": {
           "xaxis": {
            "backgroundcolor": "#E5ECF6",
            "gridcolor": "white",
            "gridwidth": 2,
            "linecolor": "white",
            "showbackground": true,
            "ticks": "",
            "zerolinecolor": "white"
           },
           "yaxis": {
            "backgroundcolor": "#E5ECF6",
            "gridcolor": "white",
            "gridwidth": 2,
            "linecolor": "white",
            "showbackground": true,
            "ticks": "",
            "zerolinecolor": "white"
           },
           "zaxis": {
            "backgroundcolor": "#E5ECF6",
            "gridcolor": "white",
            "gridwidth": 2,
            "linecolor": "white",
            "showbackground": true,
            "ticks": "",
            "zerolinecolor": "white"
           }
          },
          "shapedefaults": {
           "line": {
            "color": "#2a3f5f"
           }
          },
          "ternary": {
           "aaxis": {
            "gridcolor": "white",
            "linecolor": "white",
            "ticks": ""
           },
           "baxis": {
            "gridcolor": "white",
            "linecolor": "white",
            "ticks": ""
           },
           "bgcolor": "#E5ECF6",
           "caxis": {
            "gridcolor": "white",
            "linecolor": "white",
            "ticks": ""
           }
          },
          "title": {
           "x": 0.05
          },
          "xaxis": {
           "automargin": true,
           "gridcolor": "white",
           "linecolor": "white",
           "ticks": "",
           "title": {
            "standoff": 15
           },
           "zerolinecolor": "white",
           "zerolinewidth": 2
          },
          "yaxis": {
           "automargin": true,
           "gridcolor": "white",
           "linecolor": "white",
           "ticks": "",
           "title": {
            "standoff": 15
           },
           "zerolinecolor": "white",
           "zerolinewidth": 2
          }
         }
        },
        "title": {
         "text": "Höhenverzerrungsfaktor"
        },
        "xaxis": {
         "anchor": "y",
         "domain": [
          0,
          1
         ],
         "title": {
          "text": "E"
         }
        },
        "yaxis": {
         "anchor": "x",
         "domain": [
          0,
          1
         ],
         "title": {
          "text": "N"
         }
        }
       }
      },
      "text/html": [
       "<div>\n",
       "        \n",
       "        \n",
       "            <div id=\"3aae46b1-e999-47ae-b091-0141cac930e6\" class=\"plotly-graph-div\" style=\"height:525px; width:100%;\"></div>\n",
       "            <script type=\"text/javascript\">\n",
       "                require([\"plotly\"], function(Plotly) {\n",
       "                    window.PLOTLYENV=window.PLOTLYENV || {};\n",
       "                    \n",
       "                if (document.getElementById(\"3aae46b1-e999-47ae-b091-0141cac930e6\")) {\n",
       "                    Plotly.newPlot(\n",
       "                        '3aae46b1-e999-47ae-b091-0141cac930e6',\n",
       "                        [{\"customdata\": [[\"Cadenazzo\"], [\"Bern\"], [\"Muttenz\"], [\"Chessel\"], [\"Melano\"], [\"Kraftwerk Untere Enge\"], [\"Bottinghofen am Bodensee\"], [\"Z\\u00fcrich HB\"], [\"Boncourt\"], [\"CERN\"], [\"Neuchatel\"], [\"Interlaken Ost\"], [\"Campognolo\"], [\"Bargen, SH\"], [\"Visp\"], [\"Langnau\"], [\"Vallorbe\"], [\"Martina\"], [\"Ste-Croix\"], [\"Andermatt\"], [\"Monte Generoso\"], [\"Saas Almagell\"], [\"Rigi\"], [\"Alp Gr\\u00fcm\"], [\"Ofenpass\"], [\"Payerne\"], [\"Eigergletscher\"], [\"Sphinx\"], [\"Stausee Mattmark\"], [\"Wasserstollen Uetliberg\"]], \"hovertemplate\": \"E=%{x}<br>N=%{y}<br>Height=%{marker.size}<br>Name=%{customdata[0]}<br>H\\u00f6henverzerrungsfaktor=%{marker.color}<extra></extra>\", \"legendgroup\": \"\", \"marker\": {\"color\": [1.0000326068695058, 1.0000867797357846, 1.0000440030959619, 1.0000593491858232, 1.0000441598510483, 1.0000783783100808, 1.0000627036309857, 1.0000636754753793, 1.0000696632491617, 1.0000686443921936, 1.0000751493663769, 1.0000888330478368, 1.0000894600116685, 1.0000950399551316, 1.0001020304705759, 1.0001075946002256, 1.000126496504917, 1.0001620727784533, 1.0001701436952268, 1.0002250224739067, 1.0002516291477366, 1.0002618922388264, 1.0002816343864038, 1.0003276806987376, 1.0003369552507833, 1.0000701178154467, 1.0003685845656334, 1.0005595085434194, 1.000344522029788, 1.0000598821365585], \"coloraxis\": \"coloraxis\", \"size\": [208.0, 553.6, 280.7, 378.6, 281.7, 500.0, 400.0, 406.2, 444.4, 437.9, 479.4, 566.7, 570.7, 606.3, 650.9, 686.4, 807.0, 1034.0, 1085.5, 1435.7, 1605.5, 1671.0, 1797.0, 2090.9, 2150.1, 447.3, 2352.0, 3571.0, 2198.4, 382.0], \"sizemode\": \"area\", \"sizeref\": 8.9275, \"symbol\": \"circle\"}, \"mode\": \"markers\", \"name\": \"\", \"showlegend\": false, \"type\": \"scatter\", \"x\": [2715783.3, 2600000.0, 2615766.2, 2558128.3, 2719998.3, 2600259.5, 2733173.3, 2682858.2, 2568683.3, 2493320.0, 2561781.7, 2633121.1, 2808405.0, 2687782.5, 2634147.9, 2626370.8, 2518397.5, 2830592.5, 2528490.0, 2688434.1, 2722608.3, 2640122.9, 2679520.05, 2799454.8, 2818462.9, 2561992.8, 2641168.5, 2641911.0, 2639939.2, 2679000.0], \"xaxis\": \"x\", \"y\": [1112721.7, 1200000.0, 1264806.3, 1133230.0, 1086300.0, 1201114.0, 1278503.3, 1248258.0, 1260400.0, 1121229.0, 1205267.3, 1171210.3, 1123758.3, 1294123.3, 1127065.8, 1199011.7, 1174126.7, 1197083.5, 1186306.7, 1165702.5, 1087610.0, 1104891.7, 1212273.44, 1139211.2, 1169362.9, 1186360.8, 1158376.8, 1155280.0, 1099723.3, 1245500.0], \"yaxis\": \"y\"}],\n",
       "                        {\"coloraxis\": {\"colorbar\": {\"title\": {\"text\": \"H\\u00f6henverzerrungsfaktor\"}}, \"colorscale\": [[0.0, \"#0d0887\"], [0.1111111111111111, \"#46039f\"], [0.2222222222222222, \"#7201a8\"], [0.3333333333333333, \"#9c179e\"], [0.4444444444444444, \"#bd3786\"], [0.5555555555555556, \"#d8576b\"], [0.6666666666666666, \"#ed7953\"], [0.7777777777777778, \"#fb9f3a\"], [0.8888888888888888, \"#fdca26\"], [1.0, \"#f0f921\"]]}, \"legend\": {\"itemsizing\": \"constant\", \"tracegroupgap\": 0}, \"template\": {\"data\": {\"bar\": [{\"error_x\": {\"color\": \"#2a3f5f\"}, \"error_y\": {\"color\": \"#2a3f5f\"}, \"marker\": {\"line\": {\"color\": \"#E5ECF6\", \"width\": 0.5}}, \"type\": \"bar\"}], \"barpolar\": [{\"marker\": {\"line\": {\"color\": \"#E5ECF6\", \"width\": 0.5}}, \"type\": \"barpolar\"}], \"carpet\": [{\"aaxis\": {\"endlinecolor\": \"#2a3f5f\", \"gridcolor\": \"white\", \"linecolor\": \"white\", \"minorgridcolor\": \"white\", \"startlinecolor\": \"#2a3f5f\"}, \"baxis\": {\"endlinecolor\": \"#2a3f5f\", \"gridcolor\": \"white\", \"linecolor\": \"white\", \"minorgridcolor\": \"white\", \"startlinecolor\": \"#2a3f5f\"}, \"type\": \"carpet\"}], \"choropleth\": [{\"colorbar\": {\"outlinewidth\": 0, \"ticks\": \"\"}, \"type\": \"choropleth\"}], \"contour\": [{\"colorbar\": {\"outlinewidth\": 0, \"ticks\": \"\"}, \"colorscale\": [[0.0, \"#0d0887\"], [0.1111111111111111, \"#46039f\"], [0.2222222222222222, \"#7201a8\"], [0.3333333333333333, \"#9c179e\"], [0.4444444444444444, \"#bd3786\"], [0.5555555555555556, \"#d8576b\"], [0.6666666666666666, \"#ed7953\"], [0.7777777777777778, \"#fb9f3a\"], [0.8888888888888888, \"#fdca26\"], [1.0, \"#f0f921\"]], \"type\": \"contour\"}], \"contourcarpet\": [{\"colorbar\": {\"outlinewidth\": 0, \"ticks\": \"\"}, \"type\": \"contourcarpet\"}], \"heatmap\": [{\"colorbar\": {\"outlinewidth\": 0, \"ticks\": \"\"}, \"colorscale\": [[0.0, \"#0d0887\"], [0.1111111111111111, \"#46039f\"], [0.2222222222222222, \"#7201a8\"], [0.3333333333333333, \"#9c179e\"], [0.4444444444444444, \"#bd3786\"], [0.5555555555555556, \"#d8576b\"], [0.6666666666666666, \"#ed7953\"], [0.7777777777777778, \"#fb9f3a\"], [0.8888888888888888, \"#fdca26\"], [1.0, \"#f0f921\"]], \"type\": \"heatmap\"}], \"heatmapgl\": [{\"colorbar\": {\"outlinewidth\": 0, \"ticks\": \"\"}, \"colorscale\": [[0.0, \"#0d0887\"], [0.1111111111111111, \"#46039f\"], [0.2222222222222222, \"#7201a8\"], [0.3333333333333333, \"#9c179e\"], [0.4444444444444444, \"#bd3786\"], [0.5555555555555556, \"#d8576b\"], [0.6666666666666666, \"#ed7953\"], [0.7777777777777778, \"#fb9f3a\"], [0.8888888888888888, \"#fdca26\"], [1.0, \"#f0f921\"]], \"type\": \"heatmapgl\"}], \"histogram\": [{\"marker\": {\"colorbar\": {\"outlinewidth\": 0, \"ticks\": \"\"}}, \"type\": \"histogram\"}], \"histogram2d\": [{\"colorbar\": {\"outlinewidth\": 0, \"ticks\": \"\"}, \"colorscale\": [[0.0, \"#0d0887\"], [0.1111111111111111, \"#46039f\"], [0.2222222222222222, \"#7201a8\"], [0.3333333333333333, \"#9c179e\"], [0.4444444444444444, \"#bd3786\"], [0.5555555555555556, \"#d8576b\"], [0.6666666666666666, \"#ed7953\"], [0.7777777777777778, \"#fb9f3a\"], [0.8888888888888888, \"#fdca26\"], [1.0, \"#f0f921\"]], \"type\": \"histogram2d\"}], \"histogram2dcontour\": [{\"colorbar\": {\"outlinewidth\": 0, \"ticks\": \"\"}, \"colorscale\": [[0.0, \"#0d0887\"], [0.1111111111111111, \"#46039f\"], [0.2222222222222222, \"#7201a8\"], [0.3333333333333333, \"#9c179e\"], [0.4444444444444444, \"#bd3786\"], [0.5555555555555556, \"#d8576b\"], [0.6666666666666666, \"#ed7953\"], [0.7777777777777778, \"#fb9f3a\"], [0.8888888888888888, \"#fdca26\"], [1.0, \"#f0f921\"]], \"type\": \"histogram2dcontour\"}], \"mesh3d\": [{\"colorbar\": {\"outlinewidth\": 0, \"ticks\": \"\"}, \"type\": \"mesh3d\"}], \"parcoords\": [{\"line\": {\"colorbar\": {\"outlinewidth\": 0, \"ticks\": \"\"}}, \"type\": \"parcoords\"}], \"pie\": [{\"automargin\": true, \"type\": \"pie\"}], \"scatter\": [{\"marker\": {\"colorbar\": {\"outlinewidth\": 0, \"ticks\": \"\"}}, \"type\": \"scatter\"}], \"scatter3d\": [{\"line\": {\"colorbar\": {\"outlinewidth\": 0, \"ticks\": \"\"}}, \"marker\": {\"colorbar\": {\"outlinewidth\": 0, \"ticks\": \"\"}}, \"type\": \"scatter3d\"}], \"scattercarpet\": [{\"marker\": {\"colorbar\": {\"outlinewidth\": 0, \"ticks\": \"\"}}, \"type\": \"scattercarpet\"}], \"scattergeo\": [{\"marker\": {\"colorbar\": {\"outlinewidth\": 0, \"ticks\": \"\"}}, \"type\": \"scattergeo\"}], \"scattergl\": [{\"marker\": {\"colorbar\": {\"outlinewidth\": 0, \"ticks\": \"\"}}, \"type\": \"scattergl\"}], \"scattermapbox\": [{\"marker\": {\"colorbar\": {\"outlinewidth\": 0, \"ticks\": \"\"}}, \"type\": \"scattermapbox\"}], \"scatterpolar\": [{\"marker\": {\"colorbar\": {\"outlinewidth\": 0, \"ticks\": \"\"}}, \"type\": \"scatterpolar\"}], \"scatterpolargl\": [{\"marker\": {\"colorbar\": {\"outlinewidth\": 0, \"ticks\": \"\"}}, \"type\": \"scatterpolargl\"}], \"scatterternary\": [{\"marker\": {\"colorbar\": {\"outlinewidth\": 0, \"ticks\": \"\"}}, \"type\": \"scatterternary\"}], \"surface\": [{\"colorbar\": {\"outlinewidth\": 0, \"ticks\": \"\"}, \"colorscale\": [[0.0, \"#0d0887\"], [0.1111111111111111, \"#46039f\"], [0.2222222222222222, \"#7201a8\"], [0.3333333333333333, \"#9c179e\"], [0.4444444444444444, \"#bd3786\"], [0.5555555555555556, \"#d8576b\"], [0.6666666666666666, \"#ed7953\"], [0.7777777777777778, \"#fb9f3a\"], [0.8888888888888888, \"#fdca26\"], [1.0, \"#f0f921\"]], \"type\": \"surface\"}], \"table\": [{\"cells\": {\"fill\": {\"color\": \"#EBF0F8\"}, \"line\": {\"color\": \"white\"}}, \"header\": {\"fill\": {\"color\": \"#C8D4E3\"}, \"line\": {\"color\": \"white\"}}, \"type\": \"table\"}]}, \"layout\": {\"annotationdefaults\": {\"arrowcolor\": \"#2a3f5f\", \"arrowhead\": 0, \"arrowwidth\": 1}, \"coloraxis\": {\"colorbar\": {\"outlinewidth\": 0, \"ticks\": \"\"}}, \"colorscale\": {\"diverging\": [[0, \"#8e0152\"], [0.1, \"#c51b7d\"], [0.2, \"#de77ae\"], [0.3, \"#f1b6da\"], [0.4, \"#fde0ef\"], [0.5, \"#f7f7f7\"], [0.6, \"#e6f5d0\"], [0.7, \"#b8e186\"], [0.8, \"#7fbc41\"], [0.9, \"#4d9221\"], [1, \"#276419\"]], \"sequential\": [[0.0, \"#0d0887\"], [0.1111111111111111, \"#46039f\"], [0.2222222222222222, \"#7201a8\"], [0.3333333333333333, \"#9c179e\"], [0.4444444444444444, \"#bd3786\"], [0.5555555555555556, \"#d8576b\"], [0.6666666666666666, \"#ed7953\"], [0.7777777777777778, \"#fb9f3a\"], [0.8888888888888888, \"#fdca26\"], [1.0, \"#f0f921\"]], \"sequentialminus\": [[0.0, \"#0d0887\"], [0.1111111111111111, \"#46039f\"], [0.2222222222222222, \"#7201a8\"], [0.3333333333333333, \"#9c179e\"], [0.4444444444444444, \"#bd3786\"], [0.5555555555555556, \"#d8576b\"], [0.6666666666666666, \"#ed7953\"], [0.7777777777777778, \"#fb9f3a\"], [0.8888888888888888, \"#fdca26\"], [1.0, \"#f0f921\"]]}, \"colorway\": [\"#636efa\", \"#EF553B\", \"#00cc96\", \"#ab63fa\", \"#FFA15A\", \"#19d3f3\", \"#FF6692\", \"#B6E880\", \"#FF97FF\", \"#FECB52\"], \"font\": {\"color\": \"#2a3f5f\"}, \"geo\": {\"bgcolor\": \"white\", \"lakecolor\": \"white\", \"landcolor\": \"#E5ECF6\", \"showlakes\": true, \"showland\": true, \"subunitcolor\": \"white\"}, \"hoverlabel\": {\"align\": \"left\"}, \"hovermode\": \"closest\", \"mapbox\": {\"style\": \"light\"}, \"paper_bgcolor\": \"white\", \"plot_bgcolor\": \"#E5ECF6\", \"polar\": {\"angularaxis\": {\"gridcolor\": \"white\", \"linecolor\": \"white\", \"ticks\": \"\"}, \"bgcolor\": \"#E5ECF6\", \"radialaxis\": {\"gridcolor\": \"white\", \"linecolor\": \"white\", \"ticks\": \"\"}}, \"scene\": {\"xaxis\": {\"backgroundcolor\": \"#E5ECF6\", \"gridcolor\": \"white\", \"gridwidth\": 2, \"linecolor\": \"white\", \"showbackground\": true, \"ticks\": \"\", \"zerolinecolor\": \"white\"}, \"yaxis\": {\"backgroundcolor\": \"#E5ECF6\", \"gridcolor\": \"white\", \"gridwidth\": 2, \"linecolor\": \"white\", \"showbackground\": true, \"ticks\": \"\", \"zerolinecolor\": \"white\"}, \"zaxis\": {\"backgroundcolor\": \"#E5ECF6\", \"gridcolor\": \"white\", \"gridwidth\": 2, \"linecolor\": \"white\", \"showbackground\": true, \"ticks\": \"\", \"zerolinecolor\": \"white\"}}, \"shapedefaults\": {\"line\": {\"color\": \"#2a3f5f\"}}, \"ternary\": {\"aaxis\": {\"gridcolor\": \"white\", \"linecolor\": \"white\", \"ticks\": \"\"}, \"baxis\": {\"gridcolor\": \"white\", \"linecolor\": \"white\", \"ticks\": \"\"}, \"bgcolor\": \"#E5ECF6\", \"caxis\": {\"gridcolor\": \"white\", \"linecolor\": \"white\", \"ticks\": \"\"}}, \"title\": {\"x\": 0.05}, \"xaxis\": {\"automargin\": true, \"gridcolor\": \"white\", \"linecolor\": \"white\", \"ticks\": \"\", \"title\": {\"standoff\": 15}, \"zerolinecolor\": \"white\", \"zerolinewidth\": 2}, \"yaxis\": {\"automargin\": true, \"gridcolor\": \"white\", \"linecolor\": \"white\", \"ticks\": \"\", \"title\": {\"standoff\": 15}, \"zerolinecolor\": \"white\", \"zerolinewidth\": 2}}}, \"title\": {\"text\": \"H\\u00f6henverzerrungsfaktor\"}, \"xaxis\": {\"anchor\": \"y\", \"domain\": [0.0, 1.0], \"title\": {\"text\": \"E\"}}, \"yaxis\": {\"anchor\": \"x\", \"domain\": [0.0, 1.0], \"title\": {\"text\": \"N\"}}},\n",
       "                        {\"responsive\": true}\n",
       "                    ).then(function(){\n",
       "                            \n",
       "var gd = document.getElementById('3aae46b1-e999-47ae-b091-0141cac930e6');\n",
       "var x = new MutationObserver(function (mutations, observer) {{\n",
       "        var display = window.getComputedStyle(gd).display;\n",
       "        if (!display || display === 'none') {{\n",
       "            console.log([gd, 'removed!']);\n",
       "            Plotly.purge(gd);\n",
       "            observer.disconnect();\n",
       "        }}\n",
       "}});\n",
       "\n",
       "// Listen for the removal of the full notebook cells\n",
       "var notebookContainer = gd.closest('#notebook-container');\n",
       "if (notebookContainer) {{\n",
       "    x.observe(notebookContainer, {childList: true});\n",
       "}}\n",
       "\n",
       "// Listen for the clearing of the current output cell\n",
       "var outputEl = gd.closest('.output');\n",
       "if (outputEl) {{\n",
       "    x.observe(outputEl, {childList: true});\n",
       "}}\n",
       "\n",
       "                        })\n",
       "                };\n",
       "                });\n",
       "            </script>\n",
       "        </div>"
      ]
     },
     "metadata": {},
     "output_type": "display_data"
    },
    {
     "data": {
      "application/javascript": [
       "\n",
       "            setTimeout(function() {\n",
       "                var nbb_cell_id = 63;\n",
       "                var nbb_unformatted_code = \"fig = px.scatter(\\n    points.values(),\\n    x=\\\"E\\\",\\n    y=\\\"N\\\",\\n    hover_data=[\\\"Name\\\"],\\n    color=\\\"H\\u00f6henverzerrungsfaktor\\\",\\n    size=\\\"Height\\\",\\n    title=f\\\"H\\u00f6henverzerrungsfaktor\\\",\\n)\\n\\nfig.show()\";\n",
       "                var nbb_formatted_code = \"fig = px.scatter(\\n    points.values(),\\n    x=\\\"E\\\",\\n    y=\\\"N\\\",\\n    hover_data=[\\\"Name\\\"],\\n    color=\\\"H\\u00f6henverzerrungsfaktor\\\",\\n    size=\\\"Height\\\",\\n    title=f\\\"H\\u00f6henverzerrungsfaktor\\\",\\n)\\n\\nfig.show()\";\n",
       "                var nbb_cells = Jupyter.notebook.get_cells();\n",
       "                for (var i = 0; i < nbb_cells.length; ++i) {\n",
       "                    if (nbb_cells[i].input_prompt_number == nbb_cell_id) {\n",
       "                        if (nbb_cells[i].get_text() == nbb_unformatted_code) {\n",
       "                             nbb_cells[i].set_text(nbb_formatted_code);\n",
       "                        }\n",
       "                        break;\n",
       "                    }\n",
       "                }\n",
       "            }, 500);\n",
       "            "
      ],
      "text/plain": [
       "<IPython.core.display.Javascript object>"
      ]
     },
     "metadata": {},
     "output_type": "display_data"
    }
   ],
   "source": [
    "fig = px.scatter(\n",
    "    points.values(),\n",
    "    x=\"E\",\n",
    "    y=\"N\",\n",
    "    hover_data=[\"Name\"],\n",
    "    color=\"Höhenverzerrungsfaktor\",\n",
    "    size=\"Height\",\n",
    "    title=f\"Höhenverzerrungsfaktor\",\n",
    ")\n",
    "\n",
    "fig.show()"
   ]
  },
  {
   "cell_type": "code",
   "execution_count": 64,
   "metadata": {},
   "outputs": [
    {
     "data": {
      "text/html": [
       "<style  type=\"text/css\" >\n",
       "</style><table id=\"T_f401c606_a340_11ea_aa62_50e0855baf8f\" ><thead>    <tr>        <th class=\"blank level0\" ></th>        <th class=\"col_heading level0 col0\" >Name</th>        <th class=\"col_heading level0 col1\" >N</th>        <th class=\"col_heading level0 col2\" >E</th>        <th class=\"col_heading level0 col3\" >Height</th>        <th class=\"col_heading level0 col4\" >Massstabfaktor</th>        <th class=\"col_heading level0 col5\" >Höhenverzerrungsfaktor</th>        <th class=\"col_heading level0 col6\" >Längenfehler [mm]</th>        <th class=\"col_heading level0 col7\" >Gesamtfehler [mm]</th>        <th class=\"col_heading level0 col8\" >max. Distanz [m]</th>    </tr></thead><tbody>\n",
       "                <tr>\n",
       "                        <th id=\"T_f401c606_a340_11ea_aa62_50e0855baf8flevel0_row0\" class=\"row_heading level0 row0\" >Cadenazzo</th>\n",
       "                        <td id=\"T_f401c606_a340_11ea_aa62_50e0855baf8frow0_col0\" class=\"data row0 col0\" >Cadenazzo</td>\n",
       "                        <td id=\"T_f401c606_a340_11ea_aa62_50e0855baf8frow0_col1\" class=\"data row0 col1\" >1112721.7</td>\n",
       "                        <td id=\"T_f401c606_a340_11ea_aa62_50e0855baf8frow0_col2\" class=\"data row0 col2\" >2715783.3</td>\n",
       "                        <td id=\"T_f401c606_a340_11ea_aa62_50e0855baf8frow0_col3\" class=\"data row0 col3\" >208.00</td>\n",
       "                        <td id=\"T_f401c606_a340_11ea_aa62_50e0855baf8frow0_col4\" class=\"data row0 col4\" >1.000094</td>\n",
       "                        <td id=\"T_f401c606_a340_11ea_aa62_50e0855baf8frow0_col5\" class=\"data row0 col5\" >1.000033</td>\n",
       "                        <td id=\"T_f401c606_a340_11ea_aa62_50e0855baf8frow0_col6\" class=\"data row0 col6\" >93.606</td>\n",
       "                        <td id=\"T_f401c606_a340_11ea_aa62_50e0855baf8frow0_col7\" class=\"data row0 col7\" >60.999</td>\n",
       "                        <td id=\"T_f401c606_a340_11ea_aa62_50e0855baf8frow0_col8\" class=\"data row0 col8\" >163.937</td>\n",
       "            </tr>\n",
       "            <tr>\n",
       "                        <th id=\"T_f401c606_a340_11ea_aa62_50e0855baf8flevel0_row1\" class=\"row_heading level0 row1\" >Bern</th>\n",
       "                        <td id=\"T_f401c606_a340_11ea_aa62_50e0855baf8frow1_col0\" class=\"data row1 col0\" >Bern</td>\n",
       "                        <td id=\"T_f401c606_a340_11ea_aa62_50e0855baf8frow1_col1\" class=\"data row1 col1\" >1200000.0</td>\n",
       "                        <td id=\"T_f401c606_a340_11ea_aa62_50e0855baf8frow1_col2\" class=\"data row1 col2\" >2600000.0</td>\n",
       "                        <td id=\"T_f401c606_a340_11ea_aa62_50e0855baf8frow1_col3\" class=\"data row1 col3\" >553.60</td>\n",
       "                        <td id=\"T_f401c606_a340_11ea_aa62_50e0855baf8frow1_col4\" class=\"data row1 col4\" >1.000000</td>\n",
       "                        <td id=\"T_f401c606_a340_11ea_aa62_50e0855baf8frow1_col5\" class=\"data row1 col5\" >1.000087</td>\n",
       "                        <td id=\"T_f401c606_a340_11ea_aa62_50e0855baf8frow1_col6\" class=\"data row1 col6\" >0.000</td>\n",
       "                        <td id=\"T_f401c606_a340_11ea_aa62_50e0855baf8frow1_col7\" class=\"data row1 col7\" >-86.780</td>\n",
       "                        <td id=\"T_f401c606_a340_11ea_aa62_50e0855baf8frow1_col8\" class=\"data row1 col8\" >115.234</td>\n",
       "            </tr>\n",
       "            <tr>\n",
       "                        <th id=\"T_f401c606_a340_11ea_aa62_50e0855baf8flevel0_row2\" class=\"row_heading level0 row2\" >Muttenz</th>\n",
       "                        <td id=\"T_f401c606_a340_11ea_aa62_50e0855baf8frow2_col0\" class=\"data row2 col0\" >Muttenz</td>\n",
       "                        <td id=\"T_f401c606_a340_11ea_aa62_50e0855baf8frow2_col1\" class=\"data row2 col1\" >1264806.3</td>\n",
       "                        <td id=\"T_f401c606_a340_11ea_aa62_50e0855baf8frow2_col2\" class=\"data row2 col2\" >2615766.2</td>\n",
       "                        <td id=\"T_f401c606_a340_11ea_aa62_50e0855baf8frow2_col3\" class=\"data row2 col3\" >280.70</td>\n",
       "                        <td id=\"T_f401c606_a340_11ea_aa62_50e0855baf8frow2_col4\" class=\"data row2 col4\" >1.000052</td>\n",
       "                        <td id=\"T_f401c606_a340_11ea_aa62_50e0855baf8frow2_col5\" class=\"data row2 col5\" >1.000044</td>\n",
       "                        <td id=\"T_f401c606_a340_11ea_aa62_50e0855baf8frow2_col6\" class=\"data row2 col6\" >51.609</td>\n",
       "                        <td id=\"T_f401c606_a340_11ea_aa62_50e0855baf8frow2_col7\" class=\"data row2 col7\" >7.606</td>\n",
       "                        <td id=\"T_f401c606_a340_11ea_aa62_50e0855baf8frow2_col8\" class=\"data row2 col8\" >1314.791</td>\n",
       "            </tr>\n",
       "            <tr>\n",
       "                        <th id=\"T_f401c606_a340_11ea_aa62_50e0855baf8flevel0_row3\" class=\"row_heading level0 row3\" >Chessel</th>\n",
       "                        <td id=\"T_f401c606_a340_11ea_aa62_50e0855baf8frow3_col0\" class=\"data row3 col0\" >Chessel</td>\n",
       "                        <td id=\"T_f401c606_a340_11ea_aa62_50e0855baf8frow3_col1\" class=\"data row3 col1\" >1133230.0</td>\n",
       "                        <td id=\"T_f401c606_a340_11ea_aa62_50e0855baf8frow3_col2\" class=\"data row3 col2\" >2558128.3</td>\n",
       "                        <td id=\"T_f401c606_a340_11ea_aa62_50e0855baf8frow3_col3\" class=\"data row3 col3\" >378.60</td>\n",
       "                        <td id=\"T_f401c606_a340_11ea_aa62_50e0855baf8frow3_col4\" class=\"data row3 col4\" >1.000055</td>\n",
       "                        <td id=\"T_f401c606_a340_11ea_aa62_50e0855baf8frow3_col5\" class=\"data row3 col5\" >1.000059</td>\n",
       "                        <td id=\"T_f401c606_a340_11ea_aa62_50e0855baf8frow3_col6\" class=\"data row3 col6\" >54.784</td>\n",
       "                        <td id=\"T_f401c606_a340_11ea_aa62_50e0855baf8frow3_col7\" class=\"data row3 col7\" >-4.565</td>\n",
       "                        <td id=\"T_f401c606_a340_11ea_aa62_50e0855baf8frow3_col8\" class=\"data row3 col8\" >2190.424</td>\n",
       "            </tr>\n",
       "            <tr>\n",
       "                        <th id=\"T_f401c606_a340_11ea_aa62_50e0855baf8flevel0_row4\" class=\"row_heading level0 row4\" >Melano</th>\n",
       "                        <td id=\"T_f401c606_a340_11ea_aa62_50e0855baf8frow4_col0\" class=\"data row4 col0\" >Melano</td>\n",
       "                        <td id=\"T_f401c606_a340_11ea_aa62_50e0855baf8frow4_col1\" class=\"data row4 col1\" >1086300.0</td>\n",
       "                        <td id=\"T_f401c606_a340_11ea_aa62_50e0855baf8frow4_col2\" class=\"data row4 col2\" >2719998.3</td>\n",
       "                        <td id=\"T_f401c606_a340_11ea_aa62_50e0855baf8frow4_col3\" class=\"data row4 col3\" >281.70</td>\n",
       "                        <td id=\"T_f401c606_a340_11ea_aa62_50e0855baf8frow4_col4\" class=\"data row4 col4\" >1.000159</td>\n",
       "                        <td id=\"T_f401c606_a340_11ea_aa62_50e0855baf8frow4_col5\" class=\"data row4 col5\" >1.000044</td>\n",
       "                        <td id=\"T_f401c606_a340_11ea_aa62_50e0855baf8frow4_col6\" class=\"data row4 col6\" >158.859</td>\n",
       "                        <td id=\"T_f401c606_a340_11ea_aa62_50e0855baf8frow4_col7\" class=\"data row4 col7\" >114.699</td>\n",
       "                        <td id=\"T_f401c606_a340_11ea_aa62_50e0855baf8frow4_col8\" class=\"data row4 col8\" >87.185</td>\n",
       "            </tr>\n",
       "            <tr>\n",
       "                        <th id=\"T_f401c606_a340_11ea_aa62_50e0855baf8flevel0_row5\" class=\"row_heading level0 row5\" >Kraftwerk Untere Enge</th>\n",
       "                        <td id=\"T_f401c606_a340_11ea_aa62_50e0855baf8frow5_col0\" class=\"data row5 col0\" >Kraftwerk Untere Enge</td>\n",
       "                        <td id=\"T_f401c606_a340_11ea_aa62_50e0855baf8frow5_col1\" class=\"data row5 col1\" >1201114.0</td>\n",
       "                        <td id=\"T_f401c606_a340_11ea_aa62_50e0855baf8frow5_col2\" class=\"data row5 col2\" >2600259.5</td>\n",
       "                        <td id=\"T_f401c606_a340_11ea_aa62_50e0855baf8frow5_col3\" class=\"data row5 col3\" >500.00</td>\n",
       "                        <td id=\"T_f401c606_a340_11ea_aa62_50e0855baf8frow5_col4\" class=\"data row5 col4\" >1.000000</td>\n",
       "                        <td id=\"T_f401c606_a340_11ea_aa62_50e0855baf8frow5_col5\" class=\"data row5 col5\" >1.000078</td>\n",
       "                        <td id=\"T_f401c606_a340_11ea_aa62_50e0855baf8frow5_col6\" class=\"data row5 col6\" >0.015</td>\n",
       "                        <td id=\"T_f401c606_a340_11ea_aa62_50e0855baf8frow5_col7\" class=\"data row5 col7\" >-78.363</td>\n",
       "                        <td id=\"T_f401c606_a340_11ea_aa62_50e0855baf8frow5_col8\" class=\"data row5 col8\" >127.611</td>\n",
       "            </tr>\n",
       "            <tr>\n",
       "                        <th id=\"T_f401c606_a340_11ea_aa62_50e0855baf8flevel0_row6\" class=\"row_heading level0 row6\" >Bottinghofen am Bodensee</th>\n",
       "                        <td id=\"T_f401c606_a340_11ea_aa62_50e0855baf8frow6_col0\" class=\"data row6 col0\" >Bottinghofen am Bodensee</td>\n",
       "                        <td id=\"T_f401c606_a340_11ea_aa62_50e0855baf8frow6_col1\" class=\"data row6 col1\" >1278503.3</td>\n",
       "                        <td id=\"T_f401c606_a340_11ea_aa62_50e0855baf8frow6_col2\" class=\"data row6 col2\" >2733173.3</td>\n",
       "                        <td id=\"T_f401c606_a340_11ea_aa62_50e0855baf8frow6_col3\" class=\"data row6 col3\" >400.00</td>\n",
       "                        <td id=\"T_f401c606_a340_11ea_aa62_50e0855baf8frow6_col4\" class=\"data row6 col4\" >1.000076</td>\n",
       "                        <td id=\"T_f401c606_a340_11ea_aa62_50e0855baf8frow6_col5\" class=\"data row6 col5\" >1.000063</td>\n",
       "                        <td id=\"T_f401c606_a340_11ea_aa62_50e0855baf8frow6_col6\" class=\"data row6 col6\" >75.730</td>\n",
       "                        <td id=\"T_f401c606_a340_11ea_aa62_50e0855baf8frow6_col7\" class=\"data row6 col7\" >13.026</td>\n",
       "                        <td id=\"T_f401c606_a340_11ea_aa62_50e0855baf8frow6_col8\" class=\"data row6 col8\" >767.697</td>\n",
       "            </tr>\n",
       "            <tr>\n",
       "                        <th id=\"T_f401c606_a340_11ea_aa62_50e0855baf8flevel0_row7\" class=\"row_heading level0 row7\" >Zürich HB</th>\n",
       "                        <td id=\"T_f401c606_a340_11ea_aa62_50e0855baf8frow7_col0\" class=\"data row7 col0\" >Zürich HB</td>\n",
       "                        <td id=\"T_f401c606_a340_11ea_aa62_50e0855baf8frow7_col1\" class=\"data row7 col1\" >1248258.0</td>\n",
       "                        <td id=\"T_f401c606_a340_11ea_aa62_50e0855baf8frow7_col2\" class=\"data row7 col2\" >2682858.2</td>\n",
       "                        <td id=\"T_f401c606_a340_11ea_aa62_50e0855baf8frow7_col3\" class=\"data row7 col3\" >406.20</td>\n",
       "                        <td id=\"T_f401c606_a340_11ea_aa62_50e0855baf8frow7_col4\" class=\"data row7 col4\" >1.000029</td>\n",
       "                        <td id=\"T_f401c606_a340_11ea_aa62_50e0855baf8frow7_col5\" class=\"data row7 col5\" >1.000064</td>\n",
       "                        <td id=\"T_f401c606_a340_11ea_aa62_50e0855baf8frow7_col6\" class=\"data row7 col6\" >28.617</td>\n",
       "                        <td id=\"T_f401c606_a340_11ea_aa62_50e0855baf8frow7_col7\" class=\"data row7 col7\" >-35.058</td>\n",
       "                        <td id=\"T_f401c606_a340_11ea_aa62_50e0855baf8frow7_col8\" class=\"data row7 col8\" >285.240</td>\n",
       "            </tr>\n",
       "            <tr>\n",
       "                        <th id=\"T_f401c606_a340_11ea_aa62_50e0855baf8flevel0_row8\" class=\"row_heading level0 row8\" >Boncourt</th>\n",
       "                        <td id=\"T_f401c606_a340_11ea_aa62_50e0855baf8frow8_col0\" class=\"data row8 col0\" >Boncourt</td>\n",
       "                        <td id=\"T_f401c606_a340_11ea_aa62_50e0855baf8frow8_col1\" class=\"data row8 col1\" >1260400.0</td>\n",
       "                        <td id=\"T_f401c606_a340_11ea_aa62_50e0855baf8frow8_col2\" class=\"data row8 col2\" >2568683.3</td>\n",
       "                        <td id=\"T_f401c606_a340_11ea_aa62_50e0855baf8frow8_col3\" class=\"data row8 col3\" >444.40</td>\n",
       "                        <td id=\"T_f401c606_a340_11ea_aa62_50e0855baf8frow8_col4\" class=\"data row8 col4\" >1.000045</td>\n",
       "                        <td id=\"T_f401c606_a340_11ea_aa62_50e0855baf8frow8_col5\" class=\"data row8 col5\" >1.000070</td>\n",
       "                        <td id=\"T_f401c606_a340_11ea_aa62_50e0855baf8frow8_col6\" class=\"data row8 col6\" >44.829</td>\n",
       "                        <td id=\"T_f401c606_a340_11ea_aa62_50e0855baf8frow8_col7\" class=\"data row8 col7\" >-24.834</td>\n",
       "                        <td id=\"T_f401c606_a340_11ea_aa62_50e0855baf8frow8_col8\" class=\"data row8 col8\" >402.678</td>\n",
       "            </tr>\n",
       "            <tr>\n",
       "                        <th id=\"T_f401c606_a340_11ea_aa62_50e0855baf8flevel0_row9\" class=\"row_heading level0 row9\" >CERN</th>\n",
       "                        <td id=\"T_f401c606_a340_11ea_aa62_50e0855baf8frow9_col0\" class=\"data row9 col0\" >CERN</td>\n",
       "                        <td id=\"T_f401c606_a340_11ea_aa62_50e0855baf8frow9_col1\" class=\"data row9 col1\" >1121229.0</td>\n",
       "                        <td id=\"T_f401c606_a340_11ea_aa62_50e0855baf8frow9_col2\" class=\"data row9 col2\" >2493320.0</td>\n",
       "                        <td id=\"T_f401c606_a340_11ea_aa62_50e0855baf8frow9_col3\" class=\"data row9 col3\" >437.90</td>\n",
       "                        <td id=\"T_f401c606_a340_11ea_aa62_50e0855baf8frow9_col4\" class=\"data row9 col4\" >1.000076</td>\n",
       "                        <td id=\"T_f401c606_a340_11ea_aa62_50e0855baf8frow9_col5\" class=\"data row9 col5\" >1.000069</td>\n",
       "                        <td id=\"T_f401c606_a340_11ea_aa62_50e0855baf8frow9_col6\" class=\"data row9 col6\" >76.247</td>\n",
       "                        <td id=\"T_f401c606_a340_11ea_aa62_50e0855baf8frow9_col7\" class=\"data row9 col7\" >7.603</td>\n",
       "                        <td id=\"T_f401c606_a340_11ea_aa62_50e0855baf8frow9_col8\" class=\"data row9 col8\" >1315.343</td>\n",
       "            </tr>\n",
       "            <tr>\n",
       "                        <th id=\"T_f401c606_a340_11ea_aa62_50e0855baf8flevel0_row10\" class=\"row_heading level0 row10\" >Neuchatel</th>\n",
       "                        <td id=\"T_f401c606_a340_11ea_aa62_50e0855baf8frow10_col0\" class=\"data row10 col0\" >Neuchatel</td>\n",
       "                        <td id=\"T_f401c606_a340_11ea_aa62_50e0855baf8frow10_col1\" class=\"data row10 col1\" >1205267.3</td>\n",
       "                        <td id=\"T_f401c606_a340_11ea_aa62_50e0855baf8frow10_col2\" class=\"data row10 col2\" >2561781.7</td>\n",
       "                        <td id=\"T_f401c606_a340_11ea_aa62_50e0855baf8frow10_col3\" class=\"data row10 col3\" >479.40</td>\n",
       "                        <td id=\"T_f401c606_a340_11ea_aa62_50e0855baf8frow10_col4\" class=\"data row10 col4\" >1.000000</td>\n",
       "                        <td id=\"T_f401c606_a340_11ea_aa62_50e0855baf8frow10_col5\" class=\"data row10 col5\" >1.000075</td>\n",
       "                        <td id=\"T_f401c606_a340_11ea_aa62_50e0855baf8frow10_col6\" class=\"data row10 col6\" >0.341</td>\n",
       "                        <td id=\"T_f401c606_a340_11ea_aa62_50e0855baf8frow10_col7\" class=\"data row10 col7\" >-74.808</td>\n",
       "                        <td id=\"T_f401c606_a340_11ea_aa62_50e0855baf8frow10_col8\" class=\"data row10 col8\" >133.675</td>\n",
       "            </tr>\n",
       "            <tr>\n",
       "                        <th id=\"T_f401c606_a340_11ea_aa62_50e0855baf8flevel0_row11\" class=\"row_heading level0 row11\" >Interlaken Ost</th>\n",
       "                        <td id=\"T_f401c606_a340_11ea_aa62_50e0855baf8frow11_col0\" class=\"data row11 col0\" >Interlaken Ost</td>\n",
       "                        <td id=\"T_f401c606_a340_11ea_aa62_50e0855baf8frow11_col1\" class=\"data row11 col1\" >1171210.3</td>\n",
       "                        <td id=\"T_f401c606_a340_11ea_aa62_50e0855baf8frow11_col2\" class=\"data row11 col2\" >2633121.1</td>\n",
       "                        <td id=\"T_f401c606_a340_11ea_aa62_50e0855baf8frow11_col3\" class=\"data row11 col3\" >566.70</td>\n",
       "                        <td id=\"T_f401c606_a340_11ea_aa62_50e0855baf8frow11_col4\" class=\"data row11 col4\" >1.000010</td>\n",
       "                        <td id=\"T_f401c606_a340_11ea_aa62_50e0855baf8frow11_col5\" class=\"data row11 col5\" >1.000089</td>\n",
       "                        <td id=\"T_f401c606_a340_11ea_aa62_50e0855baf8frow11_col6\" class=\"data row11 col6\" >10.185</td>\n",
       "                        <td id=\"T_f401c606_a340_11ea_aa62_50e0855baf8frow11_col7\" class=\"data row11 col7\" >-78.648</td>\n",
       "                        <td id=\"T_f401c606_a340_11ea_aa62_50e0855baf8frow11_col8\" class=\"data row11 col8\" >127.149</td>\n",
       "            </tr>\n",
       "            <tr>\n",
       "                        <th id=\"T_f401c606_a340_11ea_aa62_50e0855baf8flevel0_row12\" class=\"row_heading level0 row12\" >Campognolo</th>\n",
       "                        <td id=\"T_f401c606_a340_11ea_aa62_50e0855baf8frow12_col0\" class=\"data row12 col0\" >Campognolo</td>\n",
       "                        <td id=\"T_f401c606_a340_11ea_aa62_50e0855baf8frow12_col1\" class=\"data row12 col1\" >1123758.3</td>\n",
       "                        <td id=\"T_f401c606_a340_11ea_aa62_50e0855baf8frow12_col2\" class=\"data row12 col2\" >2808405.0</td>\n",
       "                        <td id=\"T_f401c606_a340_11ea_aa62_50e0855baf8frow12_col3\" class=\"data row12 col3\" >570.70</td>\n",
       "                        <td id=\"T_f401c606_a340_11ea_aa62_50e0855baf8frow12_col4\" class=\"data row12 col4\" >1.000071</td>\n",
       "                        <td id=\"T_f401c606_a340_11ea_aa62_50e0855baf8frow12_col5\" class=\"data row12 col5\" >1.000089</td>\n",
       "                        <td id=\"T_f401c606_a340_11ea_aa62_50e0855baf8frow12_col6\" class=\"data row12 col6\" >71.429</td>\n",
       "                        <td id=\"T_f401c606_a340_11ea_aa62_50e0855baf8frow12_col7\" class=\"data row12 col7\" >-18.031</td>\n",
       "                        <td id=\"T_f401c606_a340_11ea_aa62_50e0855baf8frow12_col8\" class=\"data row12 col8\" >554.602</td>\n",
       "            </tr>\n",
       "            <tr>\n",
       "                        <th id=\"T_f401c606_a340_11ea_aa62_50e0855baf8flevel0_row13\" class=\"row_heading level0 row13\" >Bargen, SH</th>\n",
       "                        <td id=\"T_f401c606_a340_11ea_aa62_50e0855baf8frow13_col0\" class=\"data row13 col0\" >Bargen, SH</td>\n",
       "                        <td id=\"T_f401c606_a340_11ea_aa62_50e0855baf8frow13_col1\" class=\"data row13 col1\" >1294123.3</td>\n",
       "                        <td id=\"T_f401c606_a340_11ea_aa62_50e0855baf8frow13_col2\" class=\"data row13 col2\" >2687782.5</td>\n",
       "                        <td id=\"T_f401c606_a340_11ea_aa62_50e0855baf8frow13_col3\" class=\"data row13 col3\" >606.30</td>\n",
       "                        <td id=\"T_f401c606_a340_11ea_aa62_50e0855baf8frow13_col4\" class=\"data row13 col4\" >1.000109</td>\n",
       "                        <td id=\"T_f401c606_a340_11ea_aa62_50e0855baf8frow13_col5\" class=\"data row13 col5\" >1.000095</td>\n",
       "                        <td id=\"T_f401c606_a340_11ea_aa62_50e0855baf8frow13_col6\" class=\"data row13 col6\" >108.864</td>\n",
       "                        <td id=\"T_f401c606_a340_11ea_aa62_50e0855baf8frow13_col7\" class=\"data row13 col7\" >13.824</td>\n",
       "                        <td id=\"T_f401c606_a340_11ea_aa62_50e0855baf8frow13_col8\" class=\"data row13 col8\" >723.379</td>\n",
       "            </tr>\n",
       "            <tr>\n",
       "                        <th id=\"T_f401c606_a340_11ea_aa62_50e0855baf8flevel0_row14\" class=\"row_heading level0 row14\" >Visp</th>\n",
       "                        <td id=\"T_f401c606_a340_11ea_aa62_50e0855baf8frow14_col0\" class=\"data row14 col0\" >Visp</td>\n",
       "                        <td id=\"T_f401c606_a340_11ea_aa62_50e0855baf8frow14_col1\" class=\"data row14 col1\" >1127065.8</td>\n",
       "                        <td id=\"T_f401c606_a340_11ea_aa62_50e0855baf8frow14_col2\" class=\"data row14 col2\" >2634147.9</td>\n",
       "                        <td id=\"T_f401c606_a340_11ea_aa62_50e0855baf8frow14_col3\" class=\"data row14 col3\" >650.90</td>\n",
       "                        <td id=\"T_f401c606_a340_11ea_aa62_50e0855baf8frow14_col4\" class=\"data row14 col4\" >1.000065</td>\n",
       "                        <td id=\"T_f401c606_a340_11ea_aa62_50e0855baf8frow14_col5\" class=\"data row14 col5\" >1.000102</td>\n",
       "                        <td id=\"T_f401c606_a340_11ea_aa62_50e0855baf8frow14_col6\" class=\"data row14 col6\" >65.366</td>\n",
       "                        <td id=\"T_f401c606_a340_11ea_aa62_50e0855baf8frow14_col7\" class=\"data row14 col7\" >-36.664</td>\n",
       "                        <td id=\"T_f401c606_a340_11ea_aa62_50e0855baf8frow14_col8\" class=\"data row14 col8\" >272.744</td>\n",
       "            </tr>\n",
       "            <tr>\n",
       "                        <th id=\"T_f401c606_a340_11ea_aa62_50e0855baf8flevel0_row15\" class=\"row_heading level0 row15\" >Langnau</th>\n",
       "                        <td id=\"T_f401c606_a340_11ea_aa62_50e0855baf8frow15_col0\" class=\"data row15 col0\" >Langnau</td>\n",
       "                        <td id=\"T_f401c606_a340_11ea_aa62_50e0855baf8frow15_col1\" class=\"data row15 col1\" >1199011.7</td>\n",
       "                        <td id=\"T_f401c606_a340_11ea_aa62_50e0855baf8frow15_col2\" class=\"data row15 col2\" >2626370.8</td>\n",
       "                        <td id=\"T_f401c606_a340_11ea_aa62_50e0855baf8frow15_col3\" class=\"data row15 col3\" >686.40</td>\n",
       "                        <td id=\"T_f401c606_a340_11ea_aa62_50e0855baf8frow15_col4\" class=\"data row15 col4\" >1.000000</td>\n",
       "                        <td id=\"T_f401c606_a340_11ea_aa62_50e0855baf8frow15_col5\" class=\"data row15 col5\" >1.000108</td>\n",
       "                        <td id=\"T_f401c606_a340_11ea_aa62_50e0855baf8frow15_col6\" class=\"data row15 col6\" >0.012</td>\n",
       "                        <td id=\"T_f401c606_a340_11ea_aa62_50e0855baf8frow15_col7\" class=\"data row15 col7\" >-107.583</td>\n",
       "                        <td id=\"T_f401c606_a340_11ea_aa62_50e0855baf8frow15_col8\" class=\"data row15 col8\" >92.952</td>\n",
       "            </tr>\n",
       "            <tr>\n",
       "                        <th id=\"T_f401c606_a340_11ea_aa62_50e0855baf8flevel0_row16\" class=\"row_heading level0 row16\" >Vallorbe</th>\n",
       "                        <td id=\"T_f401c606_a340_11ea_aa62_50e0855baf8frow16_col0\" class=\"data row16 col0\" >Vallorbe</td>\n",
       "                        <td id=\"T_f401c606_a340_11ea_aa62_50e0855baf8frow16_col1\" class=\"data row16 col1\" >1174126.7</td>\n",
       "                        <td id=\"T_f401c606_a340_11ea_aa62_50e0855baf8frow16_col2\" class=\"data row16 col2\" >2518397.5</td>\n",
       "                        <td id=\"T_f401c606_a340_11ea_aa62_50e0855baf8frow16_col3\" class=\"data row16 col3\" >807.00</td>\n",
       "                        <td id=\"T_f401c606_a340_11ea_aa62_50e0855baf8frow16_col4\" class=\"data row16 col4\" >1.000008</td>\n",
       "                        <td id=\"T_f401c606_a340_11ea_aa62_50e0855baf8frow16_col5\" class=\"data row16 col5\" >1.000126</td>\n",
       "                        <td id=\"T_f401c606_a340_11ea_aa62_50e0855baf8frow16_col6\" class=\"data row16 col6\" >8.226</td>\n",
       "                        <td id=\"T_f401c606_a340_11ea_aa62_50e0855baf8frow16_col7\" class=\"data row16 col7\" >-118.270</td>\n",
       "                        <td id=\"T_f401c606_a340_11ea_aa62_50e0855baf8frow16_col8\" class=\"data row16 col8\" >84.552</td>\n",
       "            </tr>\n",
       "            <tr>\n",
       "                        <th id=\"T_f401c606_a340_11ea_aa62_50e0855baf8flevel0_row17\" class=\"row_heading level0 row17\" >Martina</th>\n",
       "                        <td id=\"T_f401c606_a340_11ea_aa62_50e0855baf8frow17_col0\" class=\"data row17 col0\" >Martina</td>\n",
       "                        <td id=\"T_f401c606_a340_11ea_aa62_50e0855baf8frow17_col1\" class=\"data row17 col1\" >1197083.5</td>\n",
       "                        <td id=\"T_f401c606_a340_11ea_aa62_50e0855baf8frow17_col2\" class=\"data row17 col2\" >2830592.5</td>\n",
       "                        <td id=\"T_f401c606_a340_11ea_aa62_50e0855baf8frow17_col3\" class=\"data row17 col3\" >1034.00</td>\n",
       "                        <td id=\"T_f401c606_a340_11ea_aa62_50e0855baf8frow17_col4\" class=\"data row17 col4\" >1.000000</td>\n",
       "                        <td id=\"T_f401c606_a340_11ea_aa62_50e0855baf8frow17_col5\" class=\"data row17 col5\" >1.000162</td>\n",
       "                        <td id=\"T_f401c606_a340_11ea_aa62_50e0855baf8frow17_col6\" class=\"data row17 col6\" >0.105</td>\n",
       "                        <td id=\"T_f401c606_a340_11ea_aa62_50e0855baf8frow17_col7\" class=\"data row17 col7\" >-161.968</td>\n",
       "                        <td id=\"T_f401c606_a340_11ea_aa62_50e0855baf8frow17_col8\" class=\"data row17 col8\" >61.740</td>\n",
       "            </tr>\n",
       "            <tr>\n",
       "                        <th id=\"T_f401c606_a340_11ea_aa62_50e0855baf8flevel0_row18\" class=\"row_heading level0 row18\" >Ste-Croix</th>\n",
       "                        <td id=\"T_f401c606_a340_11ea_aa62_50e0855baf8frow18_col0\" class=\"data row18 col0\" >Ste-Croix</td>\n",
       "                        <td id=\"T_f401c606_a340_11ea_aa62_50e0855baf8frow18_col1\" class=\"data row18 col1\" >1186306.7</td>\n",
       "                        <td id=\"T_f401c606_a340_11ea_aa62_50e0855baf8frow18_col2\" class=\"data row18 col2\" >2528490.0</td>\n",
       "                        <td id=\"T_f401c606_a340_11ea_aa62_50e0855baf8frow18_col3\" class=\"data row18 col3\" >1085.50</td>\n",
       "                        <td id=\"T_f401c606_a340_11ea_aa62_50e0855baf8frow18_col4\" class=\"data row18 col4\" >1.000002</td>\n",
       "                        <td id=\"T_f401c606_a340_11ea_aa62_50e0855baf8frow18_col5\" class=\"data row18 col5\" >1.000170</td>\n",
       "                        <td id=\"T_f401c606_a340_11ea_aa62_50e0855baf8frow18_col6\" class=\"data row18 col6\" >2.304</td>\n",
       "                        <td id=\"T_f401c606_a340_11ea_aa62_50e0855baf8frow18_col7\" class=\"data row18 col7\" >-167.840</td>\n",
       "                        <td id=\"T_f401c606_a340_11ea_aa62_50e0855baf8frow18_col8\" class=\"data row18 col8\" >59.581</td>\n",
       "            </tr>\n",
       "            <tr>\n",
       "                        <th id=\"T_f401c606_a340_11ea_aa62_50e0855baf8flevel0_row19\" class=\"row_heading level0 row19\" >Andermatt</th>\n",
       "                        <td id=\"T_f401c606_a340_11ea_aa62_50e0855baf8frow19_col0\" class=\"data row19 col0\" >Andermatt</td>\n",
       "                        <td id=\"T_f401c606_a340_11ea_aa62_50e0855baf8frow19_col1\" class=\"data row19 col1\" >1165702.5</td>\n",
       "                        <td id=\"T_f401c606_a340_11ea_aa62_50e0855baf8frow19_col2\" class=\"data row19 col2\" >2688434.1</td>\n",
       "                        <td id=\"T_f401c606_a340_11ea_aa62_50e0855baf8frow19_col3\" class=\"data row19 col3\" >1435.70</td>\n",
       "                        <td id=\"T_f401c606_a340_11ea_aa62_50e0855baf8frow19_col4\" class=\"data row19 col4\" >1.000014</td>\n",
       "                        <td id=\"T_f401c606_a340_11ea_aa62_50e0855baf8frow19_col5\" class=\"data row19 col5\" >1.000225</td>\n",
       "                        <td id=\"T_f401c606_a340_11ea_aa62_50e0855baf8frow19_col6\" class=\"data row19 col6\" >14.455</td>\n",
       "                        <td id=\"T_f401c606_a340_11ea_aa62_50e0855baf8frow19_col7\" class=\"data row19 col7\" >-210.568</td>\n",
       "                        <td id=\"T_f401c606_a340_11ea_aa62_50e0855baf8frow19_col8\" class=\"data row19 col8\" >47.491</td>\n",
       "            </tr>\n",
       "            <tr>\n",
       "                        <th id=\"T_f401c606_a340_11ea_aa62_50e0855baf8flevel0_row20\" class=\"row_heading level0 row20\" >Monte Generoso</th>\n",
       "                        <td id=\"T_f401c606_a340_11ea_aa62_50e0855baf8frow20_col0\" class=\"data row20 col0\" >Monte Generoso</td>\n",
       "                        <td id=\"T_f401c606_a340_11ea_aa62_50e0855baf8frow20_col1\" class=\"data row20 col1\" >1087610.0</td>\n",
       "                        <td id=\"T_f401c606_a340_11ea_aa62_50e0855baf8frow20_col2\" class=\"data row20 col2\" >2722608.3</td>\n",
       "                        <td id=\"T_f401c606_a340_11ea_aa62_50e0855baf8frow20_col3\" class=\"data row20 col3\" >1605.50</td>\n",
       "                        <td id=\"T_f401c606_a340_11ea_aa62_50e0855baf8frow20_col4\" class=\"data row20 col4\" >1.000155</td>\n",
       "                        <td id=\"T_f401c606_a340_11ea_aa62_50e0855baf8frow20_col5\" class=\"data row20 col5\" >1.000252</td>\n",
       "                        <td id=\"T_f401c606_a340_11ea_aa62_50e0855baf8frow20_col6\" class=\"data row20 col6\" >155.219</td>\n",
       "                        <td id=\"T_f401c606_a340_11ea_aa62_50e0855baf8frow20_col7\" class=\"data row20 col7\" >-96.410</td>\n",
       "                        <td id=\"T_f401c606_a340_11ea_aa62_50e0855baf8frow20_col8\" class=\"data row20 col8\" >103.724</td>\n",
       "            </tr>\n",
       "            <tr>\n",
       "                        <th id=\"T_f401c606_a340_11ea_aa62_50e0855baf8flevel0_row21\" class=\"row_heading level0 row21\" >Saas Almagell</th>\n",
       "                        <td id=\"T_f401c606_a340_11ea_aa62_50e0855baf8frow21_col0\" class=\"data row21 col0\" >Saas Almagell</td>\n",
       "                        <td id=\"T_f401c606_a340_11ea_aa62_50e0855baf8frow21_col1\" class=\"data row21 col1\" >1104891.7</td>\n",
       "                        <td id=\"T_f401c606_a340_11ea_aa62_50e0855baf8frow21_col2\" class=\"data row21 col2\" >2640122.9</td>\n",
       "                        <td id=\"T_f401c606_a340_11ea_aa62_50e0855baf8frow21_col3\" class=\"data row21 col3\" >1671.00</td>\n",
       "                        <td id=\"T_f401c606_a340_11ea_aa62_50e0855baf8frow21_col4\" class=\"data row21 col4\" >1.000111</td>\n",
       "                        <td id=\"T_f401c606_a340_11ea_aa62_50e0855baf8frow21_col5\" class=\"data row21 col5\" >1.000262</td>\n",
       "                        <td id=\"T_f401c606_a340_11ea_aa62_50e0855baf8frow21_col6\" class=\"data row21 col6\" >111.154</td>\n",
       "                        <td id=\"T_f401c606_a340_11ea_aa62_50e0855baf8frow21_col7\" class=\"data row21 col7\" >-150.738</td>\n",
       "                        <td id=\"T_f401c606_a340_11ea_aa62_50e0855baf8frow21_col8\" class=\"data row21 col8\" >66.340</td>\n",
       "            </tr>\n",
       "            <tr>\n",
       "                        <th id=\"T_f401c606_a340_11ea_aa62_50e0855baf8flevel0_row22\" class=\"row_heading level0 row22\" >Rigi</th>\n",
       "                        <td id=\"T_f401c606_a340_11ea_aa62_50e0855baf8frow22_col0\" class=\"data row22 col0\" >Rigi</td>\n",
       "                        <td id=\"T_f401c606_a340_11ea_aa62_50e0855baf8frow22_col1\" class=\"data row22 col1\" >1212273.4</td>\n",
       "                        <td id=\"T_f401c606_a340_11ea_aa62_50e0855baf8frow22_col2\" class=\"data row22 col2\" >2679520.0</td>\n",
       "                        <td id=\"T_f401c606_a340_11ea_aa62_50e0855baf8frow22_col3\" class=\"data row22 col3\" >1797.00</td>\n",
       "                        <td id=\"T_f401c606_a340_11ea_aa62_50e0855baf8frow22_col4\" class=\"data row22 col4\" >1.000002</td>\n",
       "                        <td id=\"T_f401c606_a340_11ea_aa62_50e0855baf8frow22_col5\" class=\"data row22 col5\" >1.000282</td>\n",
       "                        <td id=\"T_f401c606_a340_11ea_aa62_50e0855baf8frow22_col6\" class=\"data row22 col6\" >1.851</td>\n",
       "                        <td id=\"T_f401c606_a340_11ea_aa62_50e0855baf8frow22_col7\" class=\"data row22 col7\" >-279.783</td>\n",
       "                        <td id=\"T_f401c606_a340_11ea_aa62_50e0855baf8frow22_col8\" class=\"data row22 col8\" >35.742</td>\n",
       "            </tr>\n",
       "            <tr>\n",
       "                        <th id=\"T_f401c606_a340_11ea_aa62_50e0855baf8flevel0_row23\" class=\"row_heading level0 row23\" >Alp Grüm</th>\n",
       "                        <td id=\"T_f401c606_a340_11ea_aa62_50e0855baf8frow23_col0\" class=\"data row23 col0\" >Alp Grüm</td>\n",
       "                        <td id=\"T_f401c606_a340_11ea_aa62_50e0855baf8frow23_col1\" class=\"data row23 col1\" >1139211.2</td>\n",
       "                        <td id=\"T_f401c606_a340_11ea_aa62_50e0855baf8frow23_col2\" class=\"data row23 col2\" >2799454.8</td>\n",
       "                        <td id=\"T_f401c606_a340_11ea_aa62_50e0855baf8frow23_col3\" class=\"data row23 col3\" >2090.90</td>\n",
       "                        <td id=\"T_f401c606_a340_11ea_aa62_50e0855baf8frow23_col4\" class=\"data row23 col4\" >1.000045</td>\n",
       "                        <td id=\"T_f401c606_a340_11ea_aa62_50e0855baf8frow23_col5\" class=\"data row23 col5\" >1.000328</td>\n",
       "                        <td id=\"T_f401c606_a340_11ea_aa62_50e0855baf8frow23_col6\" class=\"data row23 col6\" >45.408</td>\n",
       "                        <td id=\"T_f401c606_a340_11ea_aa62_50e0855baf8frow23_col7\" class=\"data row23 col7\" >-282.272</td>\n",
       "                        <td id=\"T_f401c606_a340_11ea_aa62_50e0855baf8frow23_col8\" class=\"data row23 col8\" >35.427</td>\n",
       "            </tr>\n",
       "            <tr>\n",
       "                        <th id=\"T_f401c606_a340_11ea_aa62_50e0855baf8flevel0_row24\" class=\"row_heading level0 row24\" >Ofenpass</th>\n",
       "                        <td id=\"T_f401c606_a340_11ea_aa62_50e0855baf8frow24_col0\" class=\"data row24 col0\" >Ofenpass</td>\n",
       "                        <td id=\"T_f401c606_a340_11ea_aa62_50e0855baf8frow24_col1\" class=\"data row24 col1\" >1169362.9</td>\n",
       "                        <td id=\"T_f401c606_a340_11ea_aa62_50e0855baf8frow24_col2\" class=\"data row24 col2\" >2818462.9</td>\n",
       "                        <td id=\"T_f401c606_a340_11ea_aa62_50e0855baf8frow24_col3\" class=\"data row24 col3\" >2150.10</td>\n",
       "                        <td id=\"T_f401c606_a340_11ea_aa62_50e0855baf8frow24_col4\" class=\"data row24 col4\" >1.000012</td>\n",
       "                        <td id=\"T_f401c606_a340_11ea_aa62_50e0855baf8frow24_col5\" class=\"data row24 col5\" >1.000337</td>\n",
       "                        <td id=\"T_f401c606_a340_11ea_aa62_50e0855baf8frow24_col6\" class=\"data row24 col6\" >11.534</td>\n",
       "                        <td id=\"T_f401c606_a340_11ea_aa62_50e0855baf8frow24_col7\" class=\"data row24 col7\" >-325.421</td>\n",
       "                        <td id=\"T_f401c606_a340_11ea_aa62_50e0855baf8frow24_col8\" class=\"data row24 col8\" >30.729</td>\n",
       "            </tr>\n",
       "            <tr>\n",
       "                        <th id=\"T_f401c606_a340_11ea_aa62_50e0855baf8flevel0_row25\" class=\"row_heading level0 row25\" >Payerne</th>\n",
       "                        <td id=\"T_f401c606_a340_11ea_aa62_50e0855baf8frow25_col0\" class=\"data row25 col0\" >Payerne</td>\n",
       "                        <td id=\"T_f401c606_a340_11ea_aa62_50e0855baf8frow25_col1\" class=\"data row25 col1\" >1186360.8</td>\n",
       "                        <td id=\"T_f401c606_a340_11ea_aa62_50e0855baf8frow25_col2\" class=\"data row25 col2\" >2561992.8</td>\n",
       "                        <td id=\"T_f401c606_a340_11ea_aa62_50e0855baf8frow25_col3\" class=\"data row25 col3\" >447.30</td>\n",
       "                        <td id=\"T_f401c606_a340_11ea_aa62_50e0855baf8frow25_col4\" class=\"data row25 col4\" >1.000002</td>\n",
       "                        <td id=\"T_f401c606_a340_11ea_aa62_50e0855baf8frow25_col5\" class=\"data row25 col5\" >1.000070</td>\n",
       "                        <td id=\"T_f401c606_a340_11ea_aa62_50e0855baf8frow25_col6\" class=\"data row25 col6\" >2.286</td>\n",
       "                        <td id=\"T_f401c606_a340_11ea_aa62_50e0855baf8frow25_col7\" class=\"data row25 col7\" >-67.832</td>\n",
       "                        <td id=\"T_f401c606_a340_11ea_aa62_50e0855baf8frow25_col8\" class=\"data row25 col8\" >147.423</td>\n",
       "            </tr>\n",
       "            <tr>\n",
       "                        <th id=\"T_f401c606_a340_11ea_aa62_50e0855baf8flevel0_row26\" class=\"row_heading level0 row26\" >Eigergletscher</th>\n",
       "                        <td id=\"T_f401c606_a340_11ea_aa62_50e0855baf8frow26_col0\" class=\"data row26 col0\" >Eigergletscher</td>\n",
       "                        <td id=\"T_f401c606_a340_11ea_aa62_50e0855baf8frow26_col1\" class=\"data row26 col1\" >1158376.8</td>\n",
       "                        <td id=\"T_f401c606_a340_11ea_aa62_50e0855baf8frow26_col2\" class=\"data row26 col2\" >2641168.5</td>\n",
       "                        <td id=\"T_f401c606_a340_11ea_aa62_50e0855baf8frow26_col3\" class=\"data row26 col3\" >2352.00</td>\n",
       "                        <td id=\"T_f401c606_a340_11ea_aa62_50e0855baf8frow26_col4\" class=\"data row26 col4\" >1.000021</td>\n",
       "                        <td id=\"T_f401c606_a340_11ea_aa62_50e0855baf8frow26_col5\" class=\"data row26 col5\" >1.000369</td>\n",
       "                        <td id=\"T_f401c606_a340_11ea_aa62_50e0855baf8frow26_col6\" class=\"data row26 col6\" >21.289</td>\n",
       "                        <td id=\"T_f401c606_a340_11ea_aa62_50e0855baf8frow26_col7\" class=\"data row26 col7\" >-347.295</td>\n",
       "                        <td id=\"T_f401c606_a340_11ea_aa62_50e0855baf8frow26_col8\" class=\"data row26 col8\" >28.794</td>\n",
       "            </tr>\n",
       "            <tr>\n",
       "                        <th id=\"T_f401c606_a340_11ea_aa62_50e0855baf8flevel0_row27\" class=\"row_heading level0 row27\" >Sphinx</th>\n",
       "                        <td id=\"T_f401c606_a340_11ea_aa62_50e0855baf8frow27_col0\" class=\"data row27 col0\" >Sphinx</td>\n",
       "                        <td id=\"T_f401c606_a340_11ea_aa62_50e0855baf8frow27_col1\" class=\"data row27 col1\" >1155280.0</td>\n",
       "                        <td id=\"T_f401c606_a340_11ea_aa62_50e0855baf8frow27_col2\" class=\"data row27 col2\" >2641911.0</td>\n",
       "                        <td id=\"T_f401c606_a340_11ea_aa62_50e0855baf8frow27_col3\" class=\"data row27 col3\" >3571.00</td>\n",
       "                        <td id=\"T_f401c606_a340_11ea_aa62_50e0855baf8frow27_col4\" class=\"data row27 col4\" >1.000025</td>\n",
       "                        <td id=\"T_f401c606_a340_11ea_aa62_50e0855baf8frow27_col5\" class=\"data row27 col5\" >1.000560</td>\n",
       "                        <td id=\"T_f401c606_a340_11ea_aa62_50e0855baf8frow27_col6\" class=\"data row27 col6\" >24.575</td>\n",
       "                        <td id=\"T_f401c606_a340_11ea_aa62_50e0855baf8frow27_col7\" class=\"data row27 col7\" >-534.934</td>\n",
       "                        <td id=\"T_f401c606_a340_11ea_aa62_50e0855baf8frow27_col8\" class=\"data row27 col8\" >18.694</td>\n",
       "            </tr>\n",
       "            <tr>\n",
       "                        <th id=\"T_f401c606_a340_11ea_aa62_50e0855baf8flevel0_row28\" class=\"row_heading level0 row28\" >Stausee Mattmark</th>\n",
       "                        <td id=\"T_f401c606_a340_11ea_aa62_50e0855baf8frow28_col0\" class=\"data row28 col0\" >Stausee Mattmark</td>\n",
       "                        <td id=\"T_f401c606_a340_11ea_aa62_50e0855baf8frow28_col1\" class=\"data row28 col1\" >1099723.3</td>\n",
       "                        <td id=\"T_f401c606_a340_11ea_aa62_50e0855baf8frow28_col2\" class=\"data row28 col2\" >2639939.2</td>\n",
       "                        <td id=\"T_f401c606_a340_11ea_aa62_50e0855baf8frow28_col3\" class=\"data row28 col3\" >2198.40</td>\n",
       "                        <td id=\"T_f401c606_a340_11ea_aa62_50e0855baf8frow28_col4\" class=\"data row28 col4\" >1.000124</td>\n",
       "                        <td id=\"T_f401c606_a340_11ea_aa62_50e0855baf8frow28_col5\" class=\"data row28 col5\" >1.000345</td>\n",
       "                        <td id=\"T_f401c606_a340_11ea_aa62_50e0855baf8frow28_col6\" class=\"data row28 col6\" >123.563</td>\n",
       "                        <td id=\"T_f401c606_a340_11ea_aa62_50e0855baf8frow28_col7\" class=\"data row28 col7\" >-220.959</td>\n",
       "                        <td id=\"T_f401c606_a340_11ea_aa62_50e0855baf8frow28_col8\" class=\"data row28 col8\" >45.257</td>\n",
       "            </tr>\n",
       "            <tr>\n",
       "                        <th id=\"T_f401c606_a340_11ea_aa62_50e0855baf8flevel0_row29\" class=\"row_heading level0 row29\" >Wasserstollen Uetliberg</th>\n",
       "                        <td id=\"T_f401c606_a340_11ea_aa62_50e0855baf8frow29_col0\" class=\"data row29 col0\" >Wasserstollen Uetliberg</td>\n",
       "                        <td id=\"T_f401c606_a340_11ea_aa62_50e0855baf8frow29_col1\" class=\"data row29 col1\" >1245500.0</td>\n",
       "                        <td id=\"T_f401c606_a340_11ea_aa62_50e0855baf8frow29_col2\" class=\"data row29 col2\" >2679000.0</td>\n",
       "                        <td id=\"T_f401c606_a340_11ea_aa62_50e0855baf8frow29_col3\" class=\"data row29 col3\" >382.00</td>\n",
       "                        <td id=\"T_f401c606_a340_11ea_aa62_50e0855baf8frow29_col4\" class=\"data row29 col4\" >1.000025</td>\n",
       "                        <td id=\"T_f401c606_a340_11ea_aa62_50e0855baf8frow29_col5\" class=\"data row29 col5\" >1.000060</td>\n",
       "                        <td id=\"T_f401c606_a340_11ea_aa62_50e0855baf8frow29_col6\" class=\"data row29 col6\" >25.440</td>\n",
       "                        <td id=\"T_f401c606_a340_11ea_aa62_50e0855baf8frow29_col7\" class=\"data row29 col7\" >-34.442</td>\n",
       "                        <td id=\"T_f401c606_a340_11ea_aa62_50e0855baf8frow29_col8\" class=\"data row29 col8\" >290.340</td>\n",
       "            </tr>\n",
       "    </tbody></table>"
      ],
      "text/plain": [
       "<pandas.io.formats.style.Styler at 0x21787d20af0>"
      ]
     },
     "execution_count": 64,
     "metadata": {},
     "output_type": "execute_result"
    },
    {
     "data": {
      "application/javascript": [
       "\n",
       "            setTimeout(function() {\n",
       "                var nbb_cell_id = 64;\n",
       "                var nbb_unformatted_code = \"df = pd.DataFrame(points).transpose()\\ndf.style.format(\\n    {\\n        \\\"N\\\": \\\"{:.1f}\\\",\\n        \\\"E\\\": \\\"{:.1f}\\\",\\n        \\\"Height\\\": \\\"{:.2f}\\\",\\n        \\\"L\\u00e4ngenfehler [mm]\\\": \\\"{:.3f}\\\",\\n        \\\"Gesamtfehler [mm]\\\": \\\"{:.3f}\\\",\\n        \\\"max. Distanz [m]\\\": \\\"{:.3f}\\\",\\n    }\\n)\";\n",
       "                var nbb_formatted_code = \"df = pd.DataFrame(points).transpose()\\ndf.style.format(\\n    {\\n        \\\"N\\\": \\\"{:.1f}\\\",\\n        \\\"E\\\": \\\"{:.1f}\\\",\\n        \\\"Height\\\": \\\"{:.2f}\\\",\\n        \\\"L\\u00e4ngenfehler [mm]\\\": \\\"{:.3f}\\\",\\n        \\\"Gesamtfehler [mm]\\\": \\\"{:.3f}\\\",\\n        \\\"max. Distanz [m]\\\": \\\"{:.3f}\\\",\\n    }\\n)\";\n",
       "                var nbb_cells = Jupyter.notebook.get_cells();\n",
       "                for (var i = 0; i < nbb_cells.length; ++i) {\n",
       "                    if (nbb_cells[i].input_prompt_number == nbb_cell_id) {\n",
       "                        if (nbb_cells[i].get_text() == nbb_unformatted_code) {\n",
       "                             nbb_cells[i].set_text(nbb_formatted_code);\n",
       "                        }\n",
       "                        break;\n",
       "                    }\n",
       "                }\n",
       "            }, 500);\n",
       "            "
      ],
      "text/plain": [
       "<IPython.core.display.Javascript object>"
      ]
     },
     "metadata": {},
     "output_type": "display_data"
    }
   ],
   "source": [
    "df = pd.DataFrame(points).transpose()\n",
    "df.style.format(\n",
    "    {\n",
    "        \"N\": \"{:.1f}\",\n",
    "        \"E\": \"{:.1f}\",\n",
    "        \"Height\": \"{:.2f}\",\n",
    "        \"Längenfehler [mm]\": \"{:.3f}\",\n",
    "        \"Gesamtfehler [mm]\": \"{:.3f}\",\n",
    "        \"max. Distanz [m]\": \"{:.3f}\",\n",
    "    }\n",
    ")"
   ]
  },
  {
   "cell_type": "markdown",
   "metadata": {},
   "source": [
    "### Höhenfehler wegen Erdkrümmung"
   ]
  },
  {
   "cell_type": "code",
   "execution_count": 76,
   "metadata": {},
   "outputs": [
    {
     "data": {
      "application/vnd.plotly.v1+json": {
       "config": {
        "plotlyServerURL": "https://plot.ly"
       },
       "data": [
        {
         "mode": "text",
         "text": [
          "R",
          "R",
          "h0",
          "d"
         ],
         "type": "scatter",
         "x": [
          2.5,
          2.5,
          2.95,
          3.05
         ],
         "y": [
          2.05,
          2.3,
          2.5,
          2.25
         ]
        }
       ],
       "layout": {
        "shapes": [
         {
          "line": {
           "color": "LightSeaGreen"
          },
          "type": "circle",
          "x0": 1,
          "x1": 3,
          "xref": "x",
          "y0": 1,
          "y1": 3,
          "yref": "y"
         },
         {
          "line": {
           "color": "LightSeaGreen"
          },
          "type": "line",
          "x0": 3,
          "x1": 3,
          "xref": "x",
          "y0": 1.25,
          "y1": 2.75,
          "yref": "y"
         },
         {
          "line": {
           "color": "LightSeaGreen"
          },
          "type": "line",
          "x0": 2,
          "x1": 3,
          "xref": "x",
          "y0": 2,
          "y1": 2.5,
          "yref": "y"
         },
         {
          "line": {
           "color": "LightSeaGreen"
          },
          "type": "line",
          "x0": 2,
          "x1": 3,
          "xref": "x",
          "y0": 2,
          "y1": 2,
          "yref": "y"
         }
        ],
        "template": {
         "data": {
          "bar": [
           {
            "error_x": {
             "color": "#2a3f5f"
            },
            "error_y": {
             "color": "#2a3f5f"
            },
            "marker": {
             "line": {
              "color": "#E5ECF6",
              "width": 0.5
             }
            },
            "type": "bar"
           }
          ],
          "barpolar": [
           {
            "marker": {
             "line": {
              "color": "#E5ECF6",
              "width": 0.5
             }
            },
            "type": "barpolar"
           }
          ],
          "carpet": [
           {
            "aaxis": {
             "endlinecolor": "#2a3f5f",
             "gridcolor": "white",
             "linecolor": "white",
             "minorgridcolor": "white",
             "startlinecolor": "#2a3f5f"
            },
            "baxis": {
             "endlinecolor": "#2a3f5f",
             "gridcolor": "white",
             "linecolor": "white",
             "minorgridcolor": "white",
             "startlinecolor": "#2a3f5f"
            },
            "type": "carpet"
           }
          ],
          "choropleth": [
           {
            "colorbar": {
             "outlinewidth": 0,
             "ticks": ""
            },
            "type": "choropleth"
           }
          ],
          "contour": [
           {
            "colorbar": {
             "outlinewidth": 0,
             "ticks": ""
            },
            "colorscale": [
             [
              0,
              "#0d0887"
             ],
             [
              0.1111111111111111,
              "#46039f"
             ],
             [
              0.2222222222222222,
              "#7201a8"
             ],
             [
              0.3333333333333333,
              "#9c179e"
             ],
             [
              0.4444444444444444,
              "#bd3786"
             ],
             [
              0.5555555555555556,
              "#d8576b"
             ],
             [
              0.6666666666666666,
              "#ed7953"
             ],
             [
              0.7777777777777778,
              "#fb9f3a"
             ],
             [
              0.8888888888888888,
              "#fdca26"
             ],
             [
              1,
              "#f0f921"
             ]
            ],
            "type": "contour"
           }
          ],
          "contourcarpet": [
           {
            "colorbar": {
             "outlinewidth": 0,
             "ticks": ""
            },
            "type": "contourcarpet"
           }
          ],
          "heatmap": [
           {
            "colorbar": {
             "outlinewidth": 0,
             "ticks": ""
            },
            "colorscale": [
             [
              0,
              "#0d0887"
             ],
             [
              0.1111111111111111,
              "#46039f"
             ],
             [
              0.2222222222222222,
              "#7201a8"
             ],
             [
              0.3333333333333333,
              "#9c179e"
             ],
             [
              0.4444444444444444,
              "#bd3786"
             ],
             [
              0.5555555555555556,
              "#d8576b"
             ],
             [
              0.6666666666666666,
              "#ed7953"
             ],
             [
              0.7777777777777778,
              "#fb9f3a"
             ],
             [
              0.8888888888888888,
              "#fdca26"
             ],
             [
              1,
              "#f0f921"
             ]
            ],
            "type": "heatmap"
           }
          ],
          "heatmapgl": [
           {
            "colorbar": {
             "outlinewidth": 0,
             "ticks": ""
            },
            "colorscale": [
             [
              0,
              "#0d0887"
             ],
             [
              0.1111111111111111,
              "#46039f"
             ],
             [
              0.2222222222222222,
              "#7201a8"
             ],
             [
              0.3333333333333333,
              "#9c179e"
             ],
             [
              0.4444444444444444,
              "#bd3786"
             ],
             [
              0.5555555555555556,
              "#d8576b"
             ],
             [
              0.6666666666666666,
              "#ed7953"
             ],
             [
              0.7777777777777778,
              "#fb9f3a"
             ],
             [
              0.8888888888888888,
              "#fdca26"
             ],
             [
              1,
              "#f0f921"
             ]
            ],
            "type": "heatmapgl"
           }
          ],
          "histogram": [
           {
            "marker": {
             "colorbar": {
              "outlinewidth": 0,
              "ticks": ""
             }
            },
            "type": "histogram"
           }
          ],
          "histogram2d": [
           {
            "colorbar": {
             "outlinewidth": 0,
             "ticks": ""
            },
            "colorscale": [
             [
              0,
              "#0d0887"
             ],
             [
              0.1111111111111111,
              "#46039f"
             ],
             [
              0.2222222222222222,
              "#7201a8"
             ],
             [
              0.3333333333333333,
              "#9c179e"
             ],
             [
              0.4444444444444444,
              "#bd3786"
             ],
             [
              0.5555555555555556,
              "#d8576b"
             ],
             [
              0.6666666666666666,
              "#ed7953"
             ],
             [
              0.7777777777777778,
              "#fb9f3a"
             ],
             [
              0.8888888888888888,
              "#fdca26"
             ],
             [
              1,
              "#f0f921"
             ]
            ],
            "type": "histogram2d"
           }
          ],
          "histogram2dcontour": [
           {
            "colorbar": {
             "outlinewidth": 0,
             "ticks": ""
            },
            "colorscale": [
             [
              0,
              "#0d0887"
             ],
             [
              0.1111111111111111,
              "#46039f"
             ],
             [
              0.2222222222222222,
              "#7201a8"
             ],
             [
              0.3333333333333333,
              "#9c179e"
             ],
             [
              0.4444444444444444,
              "#bd3786"
             ],
             [
              0.5555555555555556,
              "#d8576b"
             ],
             [
              0.6666666666666666,
              "#ed7953"
             ],
             [
              0.7777777777777778,
              "#fb9f3a"
             ],
             [
              0.8888888888888888,
              "#fdca26"
             ],
             [
              1,
              "#f0f921"
             ]
            ],
            "type": "histogram2dcontour"
           }
          ],
          "mesh3d": [
           {
            "colorbar": {
             "outlinewidth": 0,
             "ticks": ""
            },
            "type": "mesh3d"
           }
          ],
          "parcoords": [
           {
            "line": {
             "colorbar": {
              "outlinewidth": 0,
              "ticks": ""
             }
            },
            "type": "parcoords"
           }
          ],
          "pie": [
           {
            "automargin": true,
            "type": "pie"
           }
          ],
          "scatter": [
           {
            "marker": {
             "colorbar": {
              "outlinewidth": 0,
              "ticks": ""
             }
            },
            "type": "scatter"
           }
          ],
          "scatter3d": [
           {
            "line": {
             "colorbar": {
              "outlinewidth": 0,
              "ticks": ""
             }
            },
            "marker": {
             "colorbar": {
              "outlinewidth": 0,
              "ticks": ""
             }
            },
            "type": "scatter3d"
           }
          ],
          "scattercarpet": [
           {
            "marker": {
             "colorbar": {
              "outlinewidth": 0,
              "ticks": ""
             }
            },
            "type": "scattercarpet"
           }
          ],
          "scattergeo": [
           {
            "marker": {
             "colorbar": {
              "outlinewidth": 0,
              "ticks": ""
             }
            },
            "type": "scattergeo"
           }
          ],
          "scattergl": [
           {
            "marker": {
             "colorbar": {
              "outlinewidth": 0,
              "ticks": ""
             }
            },
            "type": "scattergl"
           }
          ],
          "scattermapbox": [
           {
            "marker": {
             "colorbar": {
              "outlinewidth": 0,
              "ticks": ""
             }
            },
            "type": "scattermapbox"
           }
          ],
          "scatterpolar": [
           {
            "marker": {
             "colorbar": {
              "outlinewidth": 0,
              "ticks": ""
             }
            },
            "type": "scatterpolar"
           }
          ],
          "scatterpolargl": [
           {
            "marker": {
             "colorbar": {
              "outlinewidth": 0,
              "ticks": ""
             }
            },
            "type": "scatterpolargl"
           }
          ],
          "scatterternary": [
           {
            "marker": {
             "colorbar": {
              "outlinewidth": 0,
              "ticks": ""
             }
            },
            "type": "scatterternary"
           }
          ],
          "surface": [
           {
            "colorbar": {
             "outlinewidth": 0,
             "ticks": ""
            },
            "colorscale": [
             [
              0,
              "#0d0887"
             ],
             [
              0.1111111111111111,
              "#46039f"
             ],
             [
              0.2222222222222222,
              "#7201a8"
             ],
             [
              0.3333333333333333,
              "#9c179e"
             ],
             [
              0.4444444444444444,
              "#bd3786"
             ],
             [
              0.5555555555555556,
              "#d8576b"
             ],
             [
              0.6666666666666666,
              "#ed7953"
             ],
             [
              0.7777777777777778,
              "#fb9f3a"
             ],
             [
              0.8888888888888888,
              "#fdca26"
             ],
             [
              1,
              "#f0f921"
             ]
            ],
            "type": "surface"
           }
          ],
          "table": [
           {
            "cells": {
             "fill": {
              "color": "#EBF0F8"
             },
             "line": {
              "color": "white"
             }
            },
            "header": {
             "fill": {
              "color": "#C8D4E3"
             },
             "line": {
              "color": "white"
             }
            },
            "type": "table"
           }
          ]
         },
         "layout": {
          "annotationdefaults": {
           "arrowcolor": "#2a3f5f",
           "arrowhead": 0,
           "arrowwidth": 1
          },
          "coloraxis": {
           "colorbar": {
            "outlinewidth": 0,
            "ticks": ""
           }
          },
          "colorscale": {
           "diverging": [
            [
             0,
             "#8e0152"
            ],
            [
             0.1,
             "#c51b7d"
            ],
            [
             0.2,
             "#de77ae"
            ],
            [
             0.3,
             "#f1b6da"
            ],
            [
             0.4,
             "#fde0ef"
            ],
            [
             0.5,
             "#f7f7f7"
            ],
            [
             0.6,
             "#e6f5d0"
            ],
            [
             0.7,
             "#b8e186"
            ],
            [
             0.8,
             "#7fbc41"
            ],
            [
             0.9,
             "#4d9221"
            ],
            [
             1,
             "#276419"
            ]
           ],
           "sequential": [
            [
             0,
             "#0d0887"
            ],
            [
             0.1111111111111111,
             "#46039f"
            ],
            [
             0.2222222222222222,
             "#7201a8"
            ],
            [
             0.3333333333333333,
             "#9c179e"
            ],
            [
             0.4444444444444444,
             "#bd3786"
            ],
            [
             0.5555555555555556,
             "#d8576b"
            ],
            [
             0.6666666666666666,
             "#ed7953"
            ],
            [
             0.7777777777777778,
             "#fb9f3a"
            ],
            [
             0.8888888888888888,
             "#fdca26"
            ],
            [
             1,
             "#f0f921"
            ]
           ],
           "sequentialminus": [
            [
             0,
             "#0d0887"
            ],
            [
             0.1111111111111111,
             "#46039f"
            ],
            [
             0.2222222222222222,
             "#7201a8"
            ],
            [
             0.3333333333333333,
             "#9c179e"
            ],
            [
             0.4444444444444444,
             "#bd3786"
            ],
            [
             0.5555555555555556,
             "#d8576b"
            ],
            [
             0.6666666666666666,
             "#ed7953"
            ],
            [
             0.7777777777777778,
             "#fb9f3a"
            ],
            [
             0.8888888888888888,
             "#fdca26"
            ],
            [
             1,
             "#f0f921"
            ]
           ]
          },
          "colorway": [
           "#636efa",
           "#EF553B",
           "#00cc96",
           "#ab63fa",
           "#FFA15A",
           "#19d3f3",
           "#FF6692",
           "#B6E880",
           "#FF97FF",
           "#FECB52"
          ],
          "font": {
           "color": "#2a3f5f"
          },
          "geo": {
           "bgcolor": "white",
           "lakecolor": "white",
           "landcolor": "#E5ECF6",
           "showlakes": true,
           "showland": true,
           "subunitcolor": "white"
          },
          "hoverlabel": {
           "align": "left"
          },
          "hovermode": "closest",
          "mapbox": {
           "style": "light"
          },
          "paper_bgcolor": "white",
          "plot_bgcolor": "#E5ECF6",
          "polar": {
           "angularaxis": {
            "gridcolor": "white",
            "linecolor": "white",
            "ticks": ""
           },
           "bgcolor": "#E5ECF6",
           "radialaxis": {
            "gridcolor": "white",
            "linecolor": "white",
            "ticks": ""
           }
          },
          "scene": {
           "xaxis": {
            "backgroundcolor": "#E5ECF6",
            "gridcolor": "white",
            "gridwidth": 2,
            "linecolor": "white",
            "showbackground": true,
            "ticks": "",
            "zerolinecolor": "white"
           },
           "yaxis": {
            "backgroundcolor": "#E5ECF6",
            "gridcolor": "white",
            "gridwidth": 2,
            "linecolor": "white",
            "showbackground": true,
            "ticks": "",
            "zerolinecolor": "white"
           },
           "zaxis": {
            "backgroundcolor": "#E5ECF6",
            "gridcolor": "white",
            "gridwidth": 2,
            "linecolor": "white",
            "showbackground": true,
            "ticks": "",
            "zerolinecolor": "white"
           }
          },
          "shapedefaults": {
           "line": {
            "color": "#2a3f5f"
           }
          },
          "ternary": {
           "aaxis": {
            "gridcolor": "white",
            "linecolor": "white",
            "ticks": ""
           },
           "baxis": {
            "gridcolor": "white",
            "linecolor": "white",
            "ticks": ""
           },
           "bgcolor": "#E5ECF6",
           "caxis": {
            "gridcolor": "white",
            "linecolor": "white",
            "ticks": ""
           }
          },
          "title": {
           "x": 0.05
          },
          "xaxis": {
           "automargin": true,
           "gridcolor": "white",
           "linecolor": "white",
           "ticks": "",
           "title": {
            "standoff": 15
           },
           "zerolinecolor": "white",
           "zerolinewidth": 2
          },
          "yaxis": {
           "automargin": true,
           "gridcolor": "white",
           "linecolor": "white",
           "ticks": "",
           "title": {
            "standoff": 15
           },
           "zerolinecolor": "white",
           "zerolinewidth": 2
          }
         }
        },
        "xaxis": {
         "range": [
          1,
          3.5
         ],
         "zeroline": false
        },
        "yaxis": {
         "range": [
          1,
          3
         ]
        }
       }
      },
      "text/html": [
       "<div>\n",
       "        \n",
       "        \n",
       "            <div id=\"21b3b9f2-4a0a-4d15-b9d7-7b8d27b50b8d\" class=\"plotly-graph-div\" style=\"height:525px; width:100%;\"></div>\n",
       "            <script type=\"text/javascript\">\n",
       "                require([\"plotly\"], function(Plotly) {\n",
       "                    window.PLOTLYENV=window.PLOTLYENV || {};\n",
       "                    \n",
       "                if (document.getElementById(\"21b3b9f2-4a0a-4d15-b9d7-7b8d27b50b8d\")) {\n",
       "                    Plotly.newPlot(\n",
       "                        '21b3b9f2-4a0a-4d15-b9d7-7b8d27b50b8d',\n",
       "                        [{\"mode\": \"text\", \"text\": [\"R\", \"R\", \"h0\", \"d\"], \"type\": \"scatter\", \"x\": [2.5, 2.5, 2.95, 3.05], \"y\": [2.05, 2.3, 2.5, 2.25]}],\n",
       "                        {\"shapes\": [{\"line\": {\"color\": \"LightSeaGreen\"}, \"type\": \"circle\", \"x0\": 1, \"x1\": 3, \"xref\": \"x\", \"y0\": 1, \"y1\": 3, \"yref\": \"y\"}, {\"line\": {\"color\": \"LightSeaGreen\"}, \"type\": \"line\", \"x0\": 3, \"x1\": 3, \"xref\": \"x\", \"y0\": 1.25, \"y1\": 2.75, \"yref\": \"y\"}, {\"line\": {\"color\": \"LightSeaGreen\"}, \"type\": \"line\", \"x0\": 2, \"x1\": 3, \"xref\": \"x\", \"y0\": 2, \"y1\": 2.5, \"yref\": \"y\"}, {\"line\": {\"color\": \"LightSeaGreen\"}, \"type\": \"line\", \"x0\": 2, \"x1\": 3, \"xref\": \"x\", \"y0\": 2, \"y1\": 2, \"yref\": \"y\"}], \"template\": {\"data\": {\"bar\": [{\"error_x\": {\"color\": \"#2a3f5f\"}, \"error_y\": {\"color\": \"#2a3f5f\"}, \"marker\": {\"line\": {\"color\": \"#E5ECF6\", \"width\": 0.5}}, \"type\": \"bar\"}], \"barpolar\": [{\"marker\": {\"line\": {\"color\": \"#E5ECF6\", \"width\": 0.5}}, \"type\": \"barpolar\"}], \"carpet\": [{\"aaxis\": {\"endlinecolor\": \"#2a3f5f\", \"gridcolor\": \"white\", \"linecolor\": \"white\", \"minorgridcolor\": \"white\", \"startlinecolor\": \"#2a3f5f\"}, \"baxis\": {\"endlinecolor\": \"#2a3f5f\", \"gridcolor\": \"white\", \"linecolor\": \"white\", \"minorgridcolor\": \"white\", \"startlinecolor\": \"#2a3f5f\"}, \"type\": \"carpet\"}], \"choropleth\": [{\"colorbar\": {\"outlinewidth\": 0, \"ticks\": \"\"}, \"type\": \"choropleth\"}], \"contour\": [{\"colorbar\": {\"outlinewidth\": 0, \"ticks\": \"\"}, \"colorscale\": [[0.0, \"#0d0887\"], [0.1111111111111111, \"#46039f\"], [0.2222222222222222, \"#7201a8\"], [0.3333333333333333, \"#9c179e\"], [0.4444444444444444, \"#bd3786\"], [0.5555555555555556, \"#d8576b\"], [0.6666666666666666, \"#ed7953\"], [0.7777777777777778, \"#fb9f3a\"], [0.8888888888888888, \"#fdca26\"], [1.0, \"#f0f921\"]], \"type\": \"contour\"}], \"contourcarpet\": [{\"colorbar\": {\"outlinewidth\": 0, \"ticks\": \"\"}, \"type\": \"contourcarpet\"}], \"heatmap\": [{\"colorbar\": {\"outlinewidth\": 0, \"ticks\": \"\"}, \"colorscale\": [[0.0, \"#0d0887\"], [0.1111111111111111, \"#46039f\"], [0.2222222222222222, \"#7201a8\"], [0.3333333333333333, \"#9c179e\"], [0.4444444444444444, \"#bd3786\"], [0.5555555555555556, \"#d8576b\"], [0.6666666666666666, \"#ed7953\"], [0.7777777777777778, \"#fb9f3a\"], [0.8888888888888888, \"#fdca26\"], [1.0, \"#f0f921\"]], \"type\": \"heatmap\"}], \"heatmapgl\": [{\"colorbar\": {\"outlinewidth\": 0, \"ticks\": \"\"}, \"colorscale\": [[0.0, \"#0d0887\"], [0.1111111111111111, \"#46039f\"], [0.2222222222222222, \"#7201a8\"], [0.3333333333333333, \"#9c179e\"], [0.4444444444444444, \"#bd3786\"], [0.5555555555555556, \"#d8576b\"], [0.6666666666666666, \"#ed7953\"], [0.7777777777777778, \"#fb9f3a\"], [0.8888888888888888, \"#fdca26\"], [1.0, \"#f0f921\"]], \"type\": \"heatmapgl\"}], \"histogram\": [{\"marker\": {\"colorbar\": {\"outlinewidth\": 0, \"ticks\": \"\"}}, \"type\": \"histogram\"}], \"histogram2d\": [{\"colorbar\": {\"outlinewidth\": 0, \"ticks\": \"\"}, \"colorscale\": [[0.0, \"#0d0887\"], [0.1111111111111111, \"#46039f\"], [0.2222222222222222, \"#7201a8\"], [0.3333333333333333, \"#9c179e\"], [0.4444444444444444, \"#bd3786\"], [0.5555555555555556, \"#d8576b\"], [0.6666666666666666, \"#ed7953\"], [0.7777777777777778, \"#fb9f3a\"], [0.8888888888888888, \"#fdca26\"], [1.0, \"#f0f921\"]], \"type\": \"histogram2d\"}], \"histogram2dcontour\": [{\"colorbar\": {\"outlinewidth\": 0, \"ticks\": \"\"}, \"colorscale\": [[0.0, \"#0d0887\"], [0.1111111111111111, \"#46039f\"], [0.2222222222222222, \"#7201a8\"], [0.3333333333333333, \"#9c179e\"], [0.4444444444444444, \"#bd3786\"], [0.5555555555555556, \"#d8576b\"], [0.6666666666666666, \"#ed7953\"], [0.7777777777777778, \"#fb9f3a\"], [0.8888888888888888, \"#fdca26\"], [1.0, \"#f0f921\"]], \"type\": \"histogram2dcontour\"}], \"mesh3d\": [{\"colorbar\": {\"outlinewidth\": 0, \"ticks\": \"\"}, \"type\": \"mesh3d\"}], \"parcoords\": [{\"line\": {\"colorbar\": {\"outlinewidth\": 0, \"ticks\": \"\"}}, \"type\": \"parcoords\"}], \"pie\": [{\"automargin\": true, \"type\": \"pie\"}], \"scatter\": [{\"marker\": {\"colorbar\": {\"outlinewidth\": 0, \"ticks\": \"\"}}, \"type\": \"scatter\"}], \"scatter3d\": [{\"line\": {\"colorbar\": {\"outlinewidth\": 0, \"ticks\": \"\"}}, \"marker\": {\"colorbar\": {\"outlinewidth\": 0, \"ticks\": \"\"}}, \"type\": \"scatter3d\"}], \"scattercarpet\": [{\"marker\": {\"colorbar\": {\"outlinewidth\": 0, \"ticks\": \"\"}}, \"type\": \"scattercarpet\"}], \"scattergeo\": [{\"marker\": {\"colorbar\": {\"outlinewidth\": 0, \"ticks\": \"\"}}, \"type\": \"scattergeo\"}], \"scattergl\": [{\"marker\": {\"colorbar\": {\"outlinewidth\": 0, \"ticks\": \"\"}}, \"type\": \"scattergl\"}], \"scattermapbox\": [{\"marker\": {\"colorbar\": {\"outlinewidth\": 0, \"ticks\": \"\"}}, \"type\": \"scattermapbox\"}], \"scatterpolar\": [{\"marker\": {\"colorbar\": {\"outlinewidth\": 0, \"ticks\": \"\"}}, \"type\": \"scatterpolar\"}], \"scatterpolargl\": [{\"marker\": {\"colorbar\": {\"outlinewidth\": 0, \"ticks\": \"\"}}, \"type\": \"scatterpolargl\"}], \"scatterternary\": [{\"marker\": {\"colorbar\": {\"outlinewidth\": 0, \"ticks\": \"\"}}, \"type\": \"scatterternary\"}], \"surface\": [{\"colorbar\": {\"outlinewidth\": 0, \"ticks\": \"\"}, \"colorscale\": [[0.0, \"#0d0887\"], [0.1111111111111111, \"#46039f\"], [0.2222222222222222, \"#7201a8\"], [0.3333333333333333, \"#9c179e\"], [0.4444444444444444, \"#bd3786\"], [0.5555555555555556, \"#d8576b\"], [0.6666666666666666, \"#ed7953\"], [0.7777777777777778, \"#fb9f3a\"], [0.8888888888888888, \"#fdca26\"], [1.0, \"#f0f921\"]], \"type\": \"surface\"}], \"table\": [{\"cells\": {\"fill\": {\"color\": \"#EBF0F8\"}, \"line\": {\"color\": \"white\"}}, \"header\": {\"fill\": {\"color\": \"#C8D4E3\"}, \"line\": {\"color\": \"white\"}}, \"type\": \"table\"}]}, \"layout\": {\"annotationdefaults\": {\"arrowcolor\": \"#2a3f5f\", \"arrowhead\": 0, \"arrowwidth\": 1}, \"coloraxis\": {\"colorbar\": {\"outlinewidth\": 0, \"ticks\": \"\"}}, \"colorscale\": {\"diverging\": [[0, \"#8e0152\"], [0.1, \"#c51b7d\"], [0.2, \"#de77ae\"], [0.3, \"#f1b6da\"], [0.4, \"#fde0ef\"], [0.5, \"#f7f7f7\"], [0.6, \"#e6f5d0\"], [0.7, \"#b8e186\"], [0.8, \"#7fbc41\"], [0.9, \"#4d9221\"], [1, \"#276419\"]], \"sequential\": [[0.0, \"#0d0887\"], [0.1111111111111111, \"#46039f\"], [0.2222222222222222, \"#7201a8\"], [0.3333333333333333, \"#9c179e\"], [0.4444444444444444, \"#bd3786\"], [0.5555555555555556, \"#d8576b\"], [0.6666666666666666, \"#ed7953\"], [0.7777777777777778, \"#fb9f3a\"], [0.8888888888888888, \"#fdca26\"], [1.0, \"#f0f921\"]], \"sequentialminus\": [[0.0, \"#0d0887\"], [0.1111111111111111, \"#46039f\"], [0.2222222222222222, \"#7201a8\"], [0.3333333333333333, \"#9c179e\"], [0.4444444444444444, \"#bd3786\"], [0.5555555555555556, \"#d8576b\"], [0.6666666666666666, \"#ed7953\"], [0.7777777777777778, \"#fb9f3a\"], [0.8888888888888888, \"#fdca26\"], [1.0, \"#f0f921\"]]}, \"colorway\": [\"#636efa\", \"#EF553B\", \"#00cc96\", \"#ab63fa\", \"#FFA15A\", \"#19d3f3\", \"#FF6692\", \"#B6E880\", \"#FF97FF\", \"#FECB52\"], \"font\": {\"color\": \"#2a3f5f\"}, \"geo\": {\"bgcolor\": \"white\", \"lakecolor\": \"white\", \"landcolor\": \"#E5ECF6\", \"showlakes\": true, \"showland\": true, \"subunitcolor\": \"white\"}, \"hoverlabel\": {\"align\": \"left\"}, \"hovermode\": \"closest\", \"mapbox\": {\"style\": \"light\"}, \"paper_bgcolor\": \"white\", \"plot_bgcolor\": \"#E5ECF6\", \"polar\": {\"angularaxis\": {\"gridcolor\": \"white\", \"linecolor\": \"white\", \"ticks\": \"\"}, \"bgcolor\": \"#E5ECF6\", \"radialaxis\": {\"gridcolor\": \"white\", \"linecolor\": \"white\", \"ticks\": \"\"}}, \"scene\": {\"xaxis\": {\"backgroundcolor\": \"#E5ECF6\", \"gridcolor\": \"white\", \"gridwidth\": 2, \"linecolor\": \"white\", \"showbackground\": true, \"ticks\": \"\", \"zerolinecolor\": \"white\"}, \"yaxis\": {\"backgroundcolor\": \"#E5ECF6\", \"gridcolor\": \"white\", \"gridwidth\": 2, \"linecolor\": \"white\", \"showbackground\": true, \"ticks\": \"\", \"zerolinecolor\": \"white\"}, \"zaxis\": {\"backgroundcolor\": \"#E5ECF6\", \"gridcolor\": \"white\", \"gridwidth\": 2, \"linecolor\": \"white\", \"showbackground\": true, \"ticks\": \"\", \"zerolinecolor\": \"white\"}}, \"shapedefaults\": {\"line\": {\"color\": \"#2a3f5f\"}}, \"ternary\": {\"aaxis\": {\"gridcolor\": \"white\", \"linecolor\": \"white\", \"ticks\": \"\"}, \"baxis\": {\"gridcolor\": \"white\", \"linecolor\": \"white\", \"ticks\": \"\"}, \"bgcolor\": \"#E5ECF6\", \"caxis\": {\"gridcolor\": \"white\", \"linecolor\": \"white\", \"ticks\": \"\"}}, \"title\": {\"x\": 0.05}, \"xaxis\": {\"automargin\": true, \"gridcolor\": \"white\", \"linecolor\": \"white\", \"ticks\": \"\", \"title\": {\"standoff\": 15}, \"zerolinecolor\": \"white\", \"zerolinewidth\": 2}, \"yaxis\": {\"automargin\": true, \"gridcolor\": \"white\", \"linecolor\": \"white\", \"ticks\": \"\", \"title\": {\"standoff\": 15}, \"zerolinecolor\": \"white\", \"zerolinewidth\": 2}}}, \"xaxis\": {\"range\": [1, 3.5], \"zeroline\": false}, \"yaxis\": {\"range\": [1, 3]}},\n",
       "                        {\"responsive\": true}\n",
       "                    ).then(function(){\n",
       "                            \n",
       "var gd = document.getElementById('21b3b9f2-4a0a-4d15-b9d7-7b8d27b50b8d');\n",
       "var x = new MutationObserver(function (mutations, observer) {{\n",
       "        var display = window.getComputedStyle(gd).display;\n",
       "        if (!display || display === 'none') {{\n",
       "            console.log([gd, 'removed!']);\n",
       "            Plotly.purge(gd);\n",
       "            observer.disconnect();\n",
       "        }}\n",
       "}});\n",
       "\n",
       "// Listen for the removal of the full notebook cells\n",
       "var notebookContainer = gd.closest('#notebook-container');\n",
       "if (notebookContainer) {{\n",
       "    x.observe(notebookContainer, {childList: true});\n",
       "}}\n",
       "\n",
       "// Listen for the clearing of the current output cell\n",
       "var outputEl = gd.closest('.output');\n",
       "if (outputEl) {{\n",
       "    x.observe(outputEl, {childList: true});\n",
       "}}\n",
       "\n",
       "                        })\n",
       "                };\n",
       "                });\n",
       "            </script>\n",
       "        </div>"
      ]
     },
     "metadata": {},
     "output_type": "display_data"
    },
    {
     "data": {
      "application/javascript": [
       "\n",
       "            setTimeout(function() {\n",
       "                var nbb_cell_id = 76;\n",
       "                var nbb_unformatted_code = \"fig = go.Figure()\\n\\n# Create scatter trace of text labels\\nfig.add_trace(\\n    go.Scatter(\\n        x=[2.5, 2.5, 2.95, 3.05],\\n        y=[2.05, 2.3, 2.5, 2.25],\\n        text=[\\\"R\\\", \\\"R\\\", \\\"h0\\\", \\\"d\\\"],\\n        mode=\\\"text\\\",\\n    )\\n)\\n# Set axes properties\\nfig.update_xaxes(range=[1, 3.5], zeroline=False)\\nfig.update_yaxes(range=[1, 3])\\n\\n\\n# Add circles\\nfig.update_layout(\\n    shapes=[\\n        # unfilled circle\\n        dict(\\n            type=\\\"circle\\\",\\n            xref=\\\"x\\\",\\n            yref=\\\"y\\\",\\n            x0=1,\\n            y0=1,\\n            x1=3,\\n            y1=3,\\n            line_color=\\\"LightSeaGreen\\\",\\n        ),\\n        # tangent\\n        dict(\\n            type=\\\"line\\\",\\n            xref=\\\"x\\\",\\n            yref=\\\"y\\\",\\n            x0=3,\\n            y0=1.25,\\n            x1=3,\\n            y1=2.75,\\n            line_color=\\\"LightSeaGreen\\\",\\n        ),\\n        dict(\\n            type=\\\"line\\\",\\n            xref=\\\"x\\\",\\n            yref=\\\"y\\\",\\n            x0=2,\\n            y0=2,\\n            x1=3,\\n            y1=2.5,\\n            line_color=\\\"LightSeaGreen\\\",\\n        ),\\n        dict(\\n            type=\\\"line\\\",\\n            xref=\\\"x\\\",\\n            yref=\\\"y\\\",\\n            x0=2,\\n            y0=2,\\n            x1=3,\\n            y1=2,\\n            line_color=\\\"LightSeaGreen\\\",\\n        ),\\n    ]\\n)\";\n",
       "                var nbb_formatted_code = \"fig = go.Figure()\\n\\n# Create scatter trace of text labels\\nfig.add_trace(\\n    go.Scatter(\\n        x=[2.5, 2.5, 2.95, 3.05],\\n        y=[2.05, 2.3, 2.5, 2.25],\\n        text=[\\\"R\\\", \\\"R\\\", \\\"h0\\\", \\\"d\\\"],\\n        mode=\\\"text\\\",\\n    )\\n)\\n# Set axes properties\\nfig.update_xaxes(range=[1, 3.5], zeroline=False)\\nfig.update_yaxes(range=[1, 3])\\n\\n\\n# Add circles\\nfig.update_layout(\\n    shapes=[\\n        # unfilled circle\\n        dict(\\n            type=\\\"circle\\\",\\n            xref=\\\"x\\\",\\n            yref=\\\"y\\\",\\n            x0=1,\\n            y0=1,\\n            x1=3,\\n            y1=3,\\n            line_color=\\\"LightSeaGreen\\\",\\n        ),\\n        # tangent\\n        dict(\\n            type=\\\"line\\\",\\n            xref=\\\"x\\\",\\n            yref=\\\"y\\\",\\n            x0=3,\\n            y0=1.25,\\n            x1=3,\\n            y1=2.75,\\n            line_color=\\\"LightSeaGreen\\\",\\n        ),\\n        dict(\\n            type=\\\"line\\\",\\n            xref=\\\"x\\\",\\n            yref=\\\"y\\\",\\n            x0=2,\\n            y0=2,\\n            x1=3,\\n            y1=2.5,\\n            line_color=\\\"LightSeaGreen\\\",\\n        ),\\n        dict(\\n            type=\\\"line\\\",\\n            xref=\\\"x\\\",\\n            yref=\\\"y\\\",\\n            x0=2,\\n            y0=2,\\n            x1=3,\\n            y1=2,\\n            line_color=\\\"LightSeaGreen\\\",\\n        ),\\n    ]\\n)\";\n",
       "                var nbb_cells = Jupyter.notebook.get_cells();\n",
       "                for (var i = 0; i < nbb_cells.length; ++i) {\n",
       "                    if (nbb_cells[i].input_prompt_number == nbb_cell_id) {\n",
       "                        if (nbb_cells[i].get_text() == nbb_unformatted_code) {\n",
       "                             nbb_cells[i].set_text(nbb_formatted_code);\n",
       "                        }\n",
       "                        break;\n",
       "                    }\n",
       "                }\n",
       "            }, 500);\n",
       "            "
      ],
      "text/plain": [
       "<IPython.core.display.Javascript object>"
      ]
     },
     "metadata": {},
     "output_type": "display_data"
    }
   ],
   "source": [
    "fig = go.Figure()\n",
    "\n",
    "# Create scatter trace of text labels\n",
    "fig.add_trace(\n",
    "    go.Scatter(\n",
    "        x=[2.5, 2.5, 2.95, 3.05],\n",
    "        y=[2.05, 2.3, 2.5, 2.25],\n",
    "        text=[\"R\", \"R\", \"h0\", \"d\"],\n",
    "        mode=\"text\",\n",
    "    )\n",
    ")\n",
    "# Set axes properties\n",
    "fig.update_xaxes(range=[1, 3.5], zeroline=False)\n",
    "fig.update_yaxes(range=[1, 3])\n",
    "\n",
    "\n",
    "# Add circles\n",
    "fig.update_layout(\n",
    "    shapes=[\n",
    "        # unfilled circle\n",
    "        dict(\n",
    "            type=\"circle\",\n",
    "            xref=\"x\",\n",
    "            yref=\"y\",\n",
    "            x0=1,\n",
    "            y0=1,\n",
    "            x1=3,\n",
    "            y1=3,\n",
    "            line_color=\"LightSeaGreen\",\n",
    "        ),\n",
    "        # tangent\n",
    "        dict(\n",
    "            type=\"line\",\n",
    "            xref=\"x\",\n",
    "            yref=\"y\",\n",
    "            x0=3,\n",
    "            y0=1.25,\n",
    "            x1=3,\n",
    "            y1=2.75,\n",
    "            line_color=\"LightSeaGreen\",\n",
    "        ),\n",
    "        dict(\n",
    "            type=\"line\",\n",
    "            xref=\"x\",\n",
    "            yref=\"y\",\n",
    "            x0=2,\n",
    "            y0=2,\n",
    "            x1=3,\n",
    "            y1=2.5,\n",
    "            line_color=\"LightSeaGreen\",\n",
    "        ),\n",
    "        dict(\n",
    "            type=\"line\",\n",
    "            xref=\"x\",\n",
    "            yref=\"y\",\n",
    "            x0=2,\n",
    "            y0=2,\n",
    "            x1=3,\n",
    "            y1=2,\n",
    "            line_color=\"LightSeaGreen\",\n",
    "        ),\n",
    "    ]\n",
    ")"
   ]
  },
  {
   "cell_type": "code",
   "execution_count": 80,
   "metadata": {},
   "outputs": [
    {
     "name": "stdout",
     "output_type": "stream",
     "text": [
      "Der Höhenfehler h0 für ein Projekt von 1000 m in einem lokalen kartesischen Koordinatensystem beträgt 78.38445343077183 mm.\n"
     ]
    },
    {
     "data": {
      "application/javascript": [
       "\n",
       "            setTimeout(function() {\n",
       "                var nbb_cell_id = 80;\n",
       "                var nbb_unformatted_code = \"print(\\n    f\\\"Der H\\u00f6henfehler h0 f\\u00fcr ein Projekt von {messung} m in einem lokalen kartesischen Koordinatensystem betr\\u00e4gt {h0} mm.\\\"\\n)\";\n",
       "                var nbb_formatted_code = \"print(\\n    f\\\"Der H\\u00f6henfehler h0 f\\u00fcr ein Projekt von {messung} m in einem lokalen kartesischen Koordinatensystem betr\\u00e4gt {h0} mm.\\\"\\n)\";\n",
       "                var nbb_cells = Jupyter.notebook.get_cells();\n",
       "                for (var i = 0; i < nbb_cells.length; ++i) {\n",
       "                    if (nbb_cells[i].input_prompt_number == nbb_cell_id) {\n",
       "                        if (nbb_cells[i].get_text() == nbb_unformatted_code) {\n",
       "                             nbb_cells[i].set_text(nbb_formatted_code);\n",
       "                        }\n",
       "                        break;\n",
       "                    }\n",
       "                }\n",
       "            }, 500);\n",
       "            "
      ],
      "text/plain": [
       "<IPython.core.display.Javascript object>"
      ]
     },
     "metadata": {},
     "output_type": "display_data"
    }
   ],
   "source": [
    "print(\n",
    "    f\"Der Höhenfehler h0 für ein Projekt von {messung} m in einem lokalen kartesischen Koordinatensystem beträgt {h0} mm.\"\n",
    ")"
   ]
  },
  {
   "cell_type": "markdown",
   "metadata": {},
   "source": [
    "## Weiterentwicklungsideen \n",
    "Angabe von min/max Höhe, min/max N, Ausdehnung. Darauf basierend Berechnung von durchschnittlicher Verzerrung und Delta."
   ]
  }
 ],
 "metadata": {
  "kernelspec": {
   "display_name": "Python 3",
   "language": "python",
   "name": "python3"
  },
  "language_info": {
   "codemirror_mode": {
    "name": "ipython",
    "version": 3
   },
   "file_extension": ".py",
   "mimetype": "text/x-python",
   "name": "python",
   "nbconvert_exporter": "python",
   "pygments_lexer": "ipython3",
   "version": "3.8.2"
  }
 },
 "nbformat": 4,
 "nbformat_minor": 2
}
